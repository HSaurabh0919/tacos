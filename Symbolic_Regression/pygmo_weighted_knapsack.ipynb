{
  "nbformat": 4,
  "nbformat_minor": 0,
  "metadata": {
    "colab": {
      "name": "pygmo_weighted_knapsack.ipynb",
      "provenance": [],
      "collapsed_sections": [],
      "authorship_tag": "ABX9TyNpze9IYI5J1BfB1VUNTQrz"
    },
    "kernelspec": {
      "name": "python3",
      "display_name": "Python 3"
    },
    "language_info": {
      "name": "python"
    }
  },
  "cells": [
    {
      "cell_type": "code",
      "execution_count": null,
      "metadata": {
        "id": "wMd96Endhfbk"
      },
      "outputs": [],
      "source": [
        "!pip install pygmo"
      ]
    },
    {
      "cell_type": "code",
      "source": [
        "import pygmo as pg"
      ],
      "metadata": {
        "id": "9ti3l4shhp-t"
      },
      "execution_count": 4,
      "outputs": []
    },
    {
      "cell_type": "code",
      "source": [
        "#Try a knapsack problem\n",
        "p = [10, 13, 18, 31, 7, 15]\n",
        "w = [11, 15, 20, 35, 10, 33]\n",
        "c, I = 47, range(len(w))"
      ],
      "metadata": {
        "id": "9zBkasZ0hlZd"
      },
      "execution_count": 15,
      "outputs": []
    },
    {
      "cell_type": "code",
      "source": [
        "class udf:\n",
        "    def fitness(self, x):\n",
        "      obj = 0\n",
        "      ci1 = 0\n",
        "      obj = - (x[0]*p[0]+x[1]*p[1]+x[2]*p[2]+x[3]*p[3]+x[4]*p[4]+x[5]*p[5])\n",
        "      ci1 = x[0]*w[0]+x[1]*w[1]+x[2]*w[2]+x[3]*w[3]+x[4]*w[4]+x[5]*w[5] - c\n",
        "      return [obj,ci1]\n",
        "    def get_nic(self):\n",
        "      return 1\n",
        "    def get_bounds(self):\n",
        "      return ([0,0,0,0,0,0],[1,1,1,1,1,1])\n",
        "    def gradient(self, x):\n",
        "      return pg.estimate_gradient_h(lambda x: self.fitness(x), x)"
      ],
      "metadata": {
        "id": "IXt9aEsPhrxe"
      },
      "execution_count": 16,
      "outputs": []
    },
    {
      "cell_type": "code",
      "source": [
        "prob = pg.problem(udf())\n",
        "print(prob) "
      ],
      "metadata": {
        "colab": {
          "base_uri": "https://localhost:8080/"
        },
        "id": "1YfWiTbHjs51",
        "outputId": "aadb38b0-d3fe-42ff-9893-4f3730a14a73"
      },
      "execution_count": 17,
      "outputs": [
        {
          "output_type": "stream",
          "name": "stdout",
          "text": [
            "Problem name: <class '__main__.udf'>\n",
            "\tC++ class name: pybind11::object\n",
            "\n",
            "\tGlobal dimension:\t\t\t6\n",
            "\tInteger dimension:\t\t\t0\n",
            "\tFitness dimension:\t\t\t2\n",
            "\tNumber of objectives:\t\t\t1\n",
            "\tEquality constraints dimension:\t\t0\n",
            "\tInequality constraints dimension:\t1\n",
            "\tTolerances on constraints: [0]\n",
            "\tLower bounds: [0, 0, 0, 0, 0, ... ]\n",
            "\tUpper bounds: [1, 1, 1, 1, 1, ... ]\n",
            "\tHas batch fitness evaluation: false\n",
            "\n",
            "\tHas gradient: true\n",
            "\tUser implemented gradient sparsity: false\n",
            "\tExpected gradients: 12\n",
            "\tHas hessians: false\n",
            "\tUser implemented hessians sparsity: false\n",
            "\n",
            "\tFitness evaluations: 0\n",
            "\tGradient evaluations: 0\n",
            "\n",
            "\tThread safety: none\n",
            "\n"
          ]
        }
      ]
    },
    {
      "cell_type": "code",
      "source": [
        "algo = pg.algorithm(uda = pg.nlopt('auglag'))\n",
        "algo.extract(pg.nlopt).local_optimizer = pg.nlopt('var2')\n",
        "algo.set_verbosity(200) # in this case this correspond to logs each 200 objevals\n",
        "pop = pg.population(prob = udf(), size = 1)\n",
        "pop.problem.c_tol = [1E-6] * 1\n",
        "pop = algo.evolve(pop) "
      ],
      "metadata": {
        "id": "ILDGgkg6j1Hd"
      },
      "execution_count": 18,
      "outputs": []
    },
    {
      "cell_type": "code",
      "source": [
        "pop"
      ],
      "metadata": {
        "colab": {
          "base_uri": "https://localhost:8080/"
        },
        "id": "AnwZw24TlS8v",
        "outputId": "ff0d6f5c-b0d6-4aac-9fed-1a9fe39c7032"
      },
      "execution_count": 19,
      "outputs": [
        {
          "output_type": "execute_result",
          "data": {
            "text/plain": [
              "Problem name: <class '__main__.udf'>\n",
              "\tC++ class name: pybind11::object\n",
              "\n",
              "\tGlobal dimension:\t\t\t6\n",
              "\tInteger dimension:\t\t\t0\n",
              "\tFitness dimension:\t\t\t2\n",
              "\tNumber of objectives:\t\t\t1\n",
              "\tEquality constraints dimension:\t\t0\n",
              "\tInequality constraints dimension:\t1\n",
              "\tTolerances on constraints: [1e-06]\n",
              "\tLower bounds: [0, 0, 0, 0, 0, ... ]\n",
              "\tUpper bounds: [1, 1, 1, 1, 1, ... ]\n",
              "\tHas batch fitness evaluation: false\n",
              "\n",
              "\tHas gradient: true\n",
              "\tUser implemented gradient sparsity: false\n",
              "\tExpected gradients: 12\n",
              "\tHas hessians: false\n",
              "\tUser implemented hessians sparsity: false\n",
              "\n",
              "\tFitness evaluations: 116\n",
              "\tGradient evaluations: 96\n",
              "\n",
              "\tThread safety: none\n",
              "\n",
              "Population size: 1\n",
              "\n",
              "List of individuals: \n",
              "#0:\n",
              "\tID:\t\t\t799252235125303052\n",
              "\tDecision vector:\t[1, 0, 1, 0.457143, 0, ... ]\n",
              "\tFitness vector:\t\t[-42.1714, 1.42109e-14]\n",
              "\n",
              "Champion decision vector: [1, 0, 1, 0.457143, 0, ... ]\n",
              "Champion fitness: [-42.1714, 1.42109e-14]"
            ]
          },
          "metadata": {},
          "execution_count": 19
        }
      ]
    },
    {
      "cell_type": "code",
      "source": [
        "pop.champion_x "
      ],
      "metadata": {
        "id": "wgMBInUvoCwH",
        "colab": {
          "base_uri": "https://localhost:8080/"
        },
        "outputId": "c1de3b5b-531e-48e1-974f-cff896ccdac8"
      },
      "execution_count": 20,
      "outputs": [
        {
          "output_type": "execute_result",
          "data": {
            "text/plain": [
              "array([1.        , 0.        , 1.        , 0.45714286, 0.        ,\n",
              "       0.        ])"
            ]
          },
          "metadata": {},
          "execution_count": 20
        }
      ]
    },
    {
      "cell_type": "markdown",
      "source": [
        "> This is solving the problem like Non Integer Programming"
      ],
      "metadata": {
        "id": "0W9qoM3Olwyi"
      }
    },
    {
      "cell_type": "markdown",
      "source": [
        "### Let's try the Island Approach"
      ],
      "metadata": {
        "id": "ilZkwi1epHFQ"
      }
    },
    {
      "cell_type": "code",
      "source": [
        "algo = pg.algorithm(uda = pg.nlopt('auglag'))\n",
        "algo.extract(pg.nlopt).local_optimizer = pg.nlopt('var2')\n",
        "algo.set_verbosity(200) # in this case this correspond to logs each 200 objevals\n",
        "pop = pg.population(prob = udf(), size = 1)\n",
        "pop.problem.c_tol = [1E-6] * 1\n",
        "pop = algo.evolve(pop) "
      ],
      "metadata": {
        "id": "-7tUAfPJpU1G"
      },
      "execution_count": null,
      "outputs": []
    },
    {
      "cell_type": "code",
      "source": [
        "a_cstrs_sa = pg.algorithm(pg.cstrs_self_adaptive(iters=1000))\n",
        "p_toy = pg.problem(udf())\n",
        "p_toy.c_tol = [1e-4]\n",
        "archi = pg.archipelago(n=32,algo=a_cstrs_sa, prob=p_toy, pop_size=70)\n",
        "print(archi) "
      ],
      "metadata": {
        "colab": {
          "base_uri": "https://localhost:8080/"
        },
        "id": "bxqYlT2Ip_oA",
        "outputId": "6239712e-a542-4d09-868d-52b2bb64c16b"
      },
      "execution_count": 28,
      "outputs": [
        {
          "output_type": "stream",
          "name": "stdout",
          "text": [
            "Number of islands: 32\n",
            "Topology: Unconnected\n",
            "Migration type: point-to-point\n",
            "Migrant handling policy: preserve\n",
            "Status: idle\n",
            "\n",
            "Islands summaries:\n",
            "\n",
            "\t#   Type                    Algo                                          Prob                    Size  Status  \n",
            "\t----------------------------------------------------------------------------------------------------------------\n",
            "\t0   Multiprocessing island  sa-CNSTR: Self-adaptive constraints handling  <class '__main__.udf'>  70    idle    \n",
            "\t1   Multiprocessing island  sa-CNSTR: Self-adaptive constraints handling  <class '__main__.udf'>  70    idle    \n",
            "\t2   Multiprocessing island  sa-CNSTR: Self-adaptive constraints handling  <class '__main__.udf'>  70    idle    \n",
            "\t3   Multiprocessing island  sa-CNSTR: Self-adaptive constraints handling  <class '__main__.udf'>  70    idle    \n",
            "\t4   Multiprocessing island  sa-CNSTR: Self-adaptive constraints handling  <class '__main__.udf'>  70    idle    \n",
            "\t5   Multiprocessing island  sa-CNSTR: Self-adaptive constraints handling  <class '__main__.udf'>  70    idle    \n",
            "\t6   Multiprocessing island  sa-CNSTR: Self-adaptive constraints handling  <class '__main__.udf'>  70    idle    \n",
            "\t7   Multiprocessing island  sa-CNSTR: Self-adaptive constraints handling  <class '__main__.udf'>  70    idle    \n",
            "\t8   Multiprocessing island  sa-CNSTR: Self-adaptive constraints handling  <class '__main__.udf'>  70    idle    \n",
            "\t9   Multiprocessing island  sa-CNSTR: Self-adaptive constraints handling  <class '__main__.udf'>  70    idle    \n",
            "\t10  Multiprocessing island  sa-CNSTR: Self-adaptive constraints handling  <class '__main__.udf'>  70    idle    \n",
            "\t11  Multiprocessing island  sa-CNSTR: Self-adaptive constraints handling  <class '__main__.udf'>  70    idle    \n",
            "\t12  Multiprocessing island  sa-CNSTR: Self-adaptive constraints handling  <class '__main__.udf'>  70    idle    \n",
            "\t13  Multiprocessing island  sa-CNSTR: Self-adaptive constraints handling  <class '__main__.udf'>  70    idle    \n",
            "\t14  Multiprocessing island  sa-CNSTR: Self-adaptive constraints handling  <class '__main__.udf'>  70    idle    \n",
            "\t15  Multiprocessing island  sa-CNSTR: Self-adaptive constraints handling  <class '__main__.udf'>  70    idle    \n",
            "\t16  Multiprocessing island  sa-CNSTR: Self-adaptive constraints handling  <class '__main__.udf'>  70    idle    \n",
            "\t17  Multiprocessing island  sa-CNSTR: Self-adaptive constraints handling  <class '__main__.udf'>  70    idle    \n",
            "\t18  Multiprocessing island  sa-CNSTR: Self-adaptive constraints handling  <class '__main__.udf'>  70    idle    \n",
            "\t19  Multiprocessing island  sa-CNSTR: Self-adaptive constraints handling  <class '__main__.udf'>  70    idle    \n",
            "\t20  Multiprocessing island  sa-CNSTR: Self-adaptive constraints handling  <class '__main__.udf'>  70    idle    \n",
            "\t21  Multiprocessing island  sa-CNSTR: Self-adaptive constraints handling  <class '__main__.udf'>  70    idle    \n",
            "\t22  Multiprocessing island  sa-CNSTR: Self-adaptive constraints handling  <class '__main__.udf'>  70    idle    \n",
            "\t23  Multiprocessing island  sa-CNSTR: Self-adaptive constraints handling  <class '__main__.udf'>  70    idle    \n",
            "\t24  Multiprocessing island  sa-CNSTR: Self-adaptive constraints handling  <class '__main__.udf'>  70    idle    \n",
            "\t25  Multiprocessing island  sa-CNSTR: Self-adaptive constraints handling  <class '__main__.udf'>  70    idle    \n",
            "\t26  Multiprocessing island  sa-CNSTR: Self-adaptive constraints handling  <class '__main__.udf'>  70    idle    \n",
            "\t27  Multiprocessing island  sa-CNSTR: Self-adaptive constraints handling  <class '__main__.udf'>  70    idle    \n",
            "\t28  Multiprocessing island  sa-CNSTR: Self-adaptive constraints handling  <class '__main__.udf'>  70    idle    \n",
            "\t29  Multiprocessing island  sa-CNSTR: Self-adaptive constraints handling  <class '__main__.udf'>  70    idle    \n",
            "\t30  Multiprocessing island  sa-CNSTR: Self-adaptive constraints handling  <class '__main__.udf'>  70    idle    \n",
            "\t31  Multiprocessing island  sa-CNSTR: Self-adaptive constraints handling  <class '__main__.udf'>  70    idle    \n",
            "\n"
          ]
        }
      ]
    },
    {
      "cell_type": "code",
      "source": [
        "archi.get_champions_f() "
      ],
      "metadata": {
        "colab": {
          "base_uri": "https://localhost:8080/"
        },
        "id": "BJ1ZRUmaqWkv",
        "outputId": "90c7888b-9ece-4392-94d0-ba3ca966e9f7"
      },
      "execution_count": 29,
      "outputs": [
        {
          "output_type": "execute_result",
          "data": {
            "text/plain": [
              "[array([-36.12104789,  -5.26107652]),\n",
              " array([-38.02074869,  -0.16061536]),\n",
              " array([-37.14272805,  -2.69372241]),\n",
              " array([-34.07480904,  -2.39122272]),\n",
              " array([-37.37959498,  -0.88762376]),\n",
              " array([-38.98561602,  -0.80392989]),\n",
              " array([-33.57082841,  -4.69735711]),\n",
              " array([-37.37835673,  -1.06448662]),\n",
              " array([-37.60486366,  -1.95904439]),\n",
              " array([-33.25403223,  -3.16483444]),\n",
              " array([-34.72853317,  -5.18247932]),\n",
              " array([-33.84256271,  -5.02936902]),\n",
              " array([-34.57133819,  -5.97782058]),\n",
              " array([-38.71009675,  -0.79489057]),\n",
              " array([-35.81910052,  -4.22981368]),\n",
              " array([-37.32248464,  -2.51717954]),\n",
              " array([-37.29237011,  -4.83465928]),\n",
              " array([-35.672681 ,  -0.7923935]),\n",
              " array([-39.83736385,  -0.85625311]),\n",
              " array([-37.86248165,  -3.5408289 ]),\n",
              " array([-34.9815485 ,  -5.77459014]),\n",
              " array([-37.22630147,  -0.13384215]),\n",
              " array([-36.53171574,  -2.45054974]),\n",
              " array([-39.5768259 ,  -0.83715207]),\n",
              " array([-39.35428555,  -1.19932077]),\n",
              " array([-40.06632562,  -0.05214102]),\n",
              " array([-38.30984981,  -0.09196836]),\n",
              " array([-41.21499737,  -0.21303358]),\n",
              " array([-39.1107813 ,  -0.05534324]),\n",
              " array([-39.27561232,  -1.76903472]),\n",
              " array([-39.45222676,  -0.36105953]),\n",
              " array([-39.78333182,  -0.19886321])]"
            ]
          },
          "metadata": {},
          "execution_count": 29
        }
      ]
    },
    {
      "cell_type": "code",
      "source": [
        "archi.evolve() "
      ],
      "metadata": {
        "id": "kEBrjnMxqd0C"
      },
      "execution_count": 30,
      "outputs": []
    },
    {
      "cell_type": "code",
      "source": [
        "print(archi) "
      ],
      "metadata": {
        "colab": {
          "base_uri": "https://localhost:8080/"
        },
        "id": "435gSi21qhjl",
        "outputId": "5a207c5b-3563-4fb4-a3cd-a3eddb2bd158"
      },
      "execution_count": 31,
      "outputs": [
        {
          "output_type": "stream",
          "name": "stdout",
          "text": [
            "Number of islands: 32\n",
            "Topology: Unconnected\n",
            "Migration type: point-to-point\n",
            "Migrant handling policy: preserve\n",
            "Status: busy\n",
            "\n",
            "Islands summaries:\n",
            "\n",
            "\t#   Type                    Algo                                          Prob                    Size  Status  \n",
            "\t----------------------------------------------------------------------------------------------------------------\n",
            "\t0   Multiprocessing island  sa-CNSTR: Self-adaptive constraints handling  <class '__main__.udf'>  70    idle    \n",
            "\t1   Multiprocessing island  sa-CNSTR: Self-adaptive constraints handling  <class '__main__.udf'>  70    busy    \n",
            "\t2   Multiprocessing island  sa-CNSTR: Self-adaptive constraints handling  <class '__main__.udf'>  70    idle    \n",
            "\t3   Multiprocessing island  sa-CNSTR: Self-adaptive constraints handling  <class '__main__.udf'>  70    idle    \n",
            "\t4   Multiprocessing island  sa-CNSTR: Self-adaptive constraints handling  <class '__main__.udf'>  70    busy    \n",
            "\t5   Multiprocessing island  sa-CNSTR: Self-adaptive constraints handling  <class '__main__.udf'>  70    busy    \n",
            "\t6   Multiprocessing island  sa-CNSTR: Self-adaptive constraints handling  <class '__main__.udf'>  70    busy    \n",
            "\t7   Multiprocessing island  sa-CNSTR: Self-adaptive constraints handling  <class '__main__.udf'>  70    busy    \n",
            "\t8   Multiprocessing island  sa-CNSTR: Self-adaptive constraints handling  <class '__main__.udf'>  70    idle    \n",
            "\t9   Multiprocessing island  sa-CNSTR: Self-adaptive constraints handling  <class '__main__.udf'>  70    busy    \n",
            "\t10  Multiprocessing island  sa-CNSTR: Self-adaptive constraints handling  <class '__main__.udf'>  70    busy    \n",
            "\t11  Multiprocessing island  sa-CNSTR: Self-adaptive constraints handling  <class '__main__.udf'>  70    idle    \n",
            "\t12  Multiprocessing island  sa-CNSTR: Self-adaptive constraints handling  <class '__main__.udf'>  70    idle    \n",
            "\t13  Multiprocessing island  sa-CNSTR: Self-adaptive constraints handling  <class '__main__.udf'>  70    busy    \n",
            "\t14  Multiprocessing island  sa-CNSTR: Self-adaptive constraints handling  <class '__main__.udf'>  70    busy    \n",
            "\t15  Multiprocessing island  sa-CNSTR: Self-adaptive constraints handling  <class '__main__.udf'>  70    busy    \n",
            "\t16  Multiprocessing island  sa-CNSTR: Self-adaptive constraints handling  <class '__main__.udf'>  70    idle    \n",
            "\t17  Multiprocessing island  sa-CNSTR: Self-adaptive constraints handling  <class '__main__.udf'>  70    busy    \n",
            "\t18  Multiprocessing island  sa-CNSTR: Self-adaptive constraints handling  <class '__main__.udf'>  70    idle    \n",
            "\t19  Multiprocessing island  sa-CNSTR: Self-adaptive constraints handling  <class '__main__.udf'>  70    busy    \n",
            "\t20  Multiprocessing island  sa-CNSTR: Self-adaptive constraints handling  <class '__main__.udf'>  70    idle    \n",
            "\t21  Multiprocessing island  sa-CNSTR: Self-adaptive constraints handling  <class '__main__.udf'>  70    idle    \n",
            "\t22  Multiprocessing island  sa-CNSTR: Self-adaptive constraints handling  <class '__main__.udf'>  70    idle    \n",
            "\t23  Multiprocessing island  sa-CNSTR: Self-adaptive constraints handling  <class '__main__.udf'>  70    busy    \n",
            "\t24  Multiprocessing island  sa-CNSTR: Self-adaptive constraints handling  <class '__main__.udf'>  70    busy    \n",
            "\t25  Multiprocessing island  sa-CNSTR: Self-adaptive constraints handling  <class '__main__.udf'>  70    busy    \n",
            "\t26  Multiprocessing island  sa-CNSTR: Self-adaptive constraints handling  <class '__main__.udf'>  70    busy    \n",
            "\t27  Multiprocessing island  sa-CNSTR: Self-adaptive constraints handling  <class '__main__.udf'>  70    busy    \n",
            "\t28  Multiprocessing island  sa-CNSTR: Self-adaptive constraints handling  <class '__main__.udf'>  70    busy    \n",
            "\t29  Multiprocessing island  sa-CNSTR: Self-adaptive constraints handling  <class '__main__.udf'>  70    busy    \n",
            "\t30  Multiprocessing island  sa-CNSTR: Self-adaptive constraints handling  <class '__main__.udf'>  70    busy    \n",
            "\t31  Multiprocessing island  sa-CNSTR: Self-adaptive constraints handling  <class '__main__.udf'>  70    idle    \n",
            "\n"
          ]
        }
      ]
    },
    {
      "cell_type": "code",
      "source": [
        "archi.wait()\n",
        "archi.get_champions_f()"
      ],
      "metadata": {
        "colab": {
          "base_uri": "https://localhost:8080/"
        },
        "id": "j4zG9bUCqjgt",
        "outputId": "c7d5456c-0daf-44c8-ba5b-8ac23cce6331"
      },
      "execution_count": 32,
      "outputs": [
        {
          "output_type": "execute_result",
          "data": {
            "text/plain": [
              "[array([-4.21658984e+01,  1.58344667e-05]),\n",
              " array([-4.21703886e+01,  5.53328272e-05]),\n",
              " array([-4.21665583e+01, -1.22424035e-03]),\n",
              " array([-4.21625099e+01, -3.77492062e-03]),\n",
              " array([-4.21702392e+01, -3.00286295e-05]),\n",
              " array([-4.21689256e+01,  6.24866292e-05]),\n",
              " array([-4.21659303e+01, -4.59097430e-04]),\n",
              " array([-4.21665973e+01, -1.74889510e-03]),\n",
              " array([-4.21659344e+01, -6.87202492e-04]),\n",
              " array([-4.21695813e+01, -5.41895767e-04]),\n",
              " array([-4.21687947e+01, -7.25431003e-04]),\n",
              " array([-4.21700655e+01, -5.19644948e-04]),\n",
              " array([-4.21665730e+01, -1.52685725e-03]),\n",
              " array([-4.21645190e+01, -2.33275134e-03]),\n",
              " array([-4.21606774e+01, -1.01115195e-02]),\n",
              " array([-4.21687923e+01, -7.14015539e-04]),\n",
              " array([-4.21706883e+01,  7.09675485e-05]),\n",
              " array([-4.21635278e+01, -4.09331922e-04]),\n",
              " array([-4.21684835e+01, -2.07236332e-04]),\n",
              " array([-4.21666483e+01,  2.99555130e-05]),\n",
              " array([-4.21523258e+01, -1.60781200e-04]),\n",
              " array([-4.21705480e+01,  2.23764497e-05]),\n",
              " array([-4.21697601e+01,  1.50531738e-05]),\n",
              " array([-4.2167180e+01, -1.2965417e-03]),\n",
              " array([-4.21672931e+01,  9.75145674e-05]),\n",
              " array([-4.21663070e+01, -2.49120242e-04]),\n",
              " array([-4.21668008e+01, -9.56907861e-04]),\n",
              " array([-4.21706483e+01, -1.38071214e-04]),\n",
              " array([-4.21642336e+01, -3.19905866e-03]),\n",
              " array([-4.21691876e+01,  7.09067881e-05]),\n",
              " array([-4.21698764e+01, -5.16267223e-05]),\n",
              " array([-4.21702800e+01, -3.44493494e-04])]"
            ]
          },
          "metadata": {},
          "execution_count": 32
        }
      ]
    }
  ]
}