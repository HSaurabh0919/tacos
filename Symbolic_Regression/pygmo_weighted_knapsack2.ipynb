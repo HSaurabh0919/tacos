{
  "nbformat": 4,
  "nbformat_minor": 0,
  "metadata": {
    "colab": {
      "name": "pygmo_weighted_knapsack2.ipynb",
      "provenance": [],
      "collapsed_sections": [],
      "authorship_tag": "ABX9TyM6QMefbeQhBPmCPlxXB9fr"
    },
    "kernelspec": {
      "name": "python3",
      "display_name": "Python 3"
    },
    "language_info": {
      "name": "python"
    }
  },
  "cells": [
    {
      "cell_type": "markdown",
      "source": [
        "### Basic Problem using Pygmo"
      ],
      "metadata": {
        "id": "flK0wOytVI41"
      }
    },
    {
      "cell_type": "code",
      "execution_count": 2,
      "metadata": {
        "id": "wMd96Endhfbk",
        "colab": {
          "base_uri": "https://localhost:8080/"
        },
        "outputId": "d567953f-54fb-4c3d-c1ee-25bc33a544a9"
      },
      "outputs": [
        {
          "output_type": "stream",
          "name": "stdout",
          "text": [
            "Looking in indexes: https://pypi.org/simple, https://us-python.pkg.dev/colab-wheels/public/simple/\n",
            "Collecting pygmo\n",
            "  Downloading pygmo-2.16.1-cp37-cp37m-manylinux2010_x86_64.whl (11.5 MB)\n",
            "\u001b[K     |████████████████████████████████| 11.5 MB 5.2 MB/s \n",
            "\u001b[?25hRequirement already satisfied: numpy in /usr/local/lib/python3.7/dist-packages (from pygmo) (1.21.6)\n",
            "Requirement already satisfied: cloudpickle in /usr/local/lib/python3.7/dist-packages (from pygmo) (1.5.0)\n",
            "Installing collected packages: pygmo\n",
            "Successfully installed pygmo-2.16.1\n"
          ]
        }
      ],
      "source": [
        "!pip install pygmo"
      ]
    },
    {
      "cell_type": "code",
      "source": [
        "import pygmo as pg\n",
        "import time"
      ],
      "metadata": {
        "id": "9ti3l4shhp-t"
      },
      "execution_count": 23,
      "outputs": []
    },
    {
      "cell_type": "code",
      "source": [
        "#Try a knapsack problem\n",
        "p = [10, 13, 18, 31, 7, 15]\n",
        "w = [11, 15, 20, 35, 10, 33]\n",
        "c, I = 47, range(len(w))"
      ],
      "metadata": {
        "id": "9zBkasZ0hlZd"
      },
      "execution_count": 24,
      "outputs": []
    },
    {
      "cell_type": "code",
      "source": [
        "class udf:\n",
        "    def fitness(self, x):\n",
        "      obj = 0\n",
        "      ci1 = 0\n",
        "      obj = - (x[0]*p[0]+x[1]*p[1]+x[2]*p[2]+x[3]*p[3]+x[4]*p[4]+x[5]*p[5])\n",
        "      ci1 = x[0]*w[0]+x[1]*w[1]+x[2]*w[2]+x[3]*w[3]+x[4]*w[4]+x[5]*w[5] - c\n",
        "      return [obj,ci1]\n",
        "    def get_nic(self):\n",
        "      return 1\n",
        "    def get_bounds(self):\n",
        "      return ([0,0,0,0,0,0],[1,1,1,1,1,1])\n",
        "    def gradient(self, x):\n",
        "      return pg.estimate_gradient_h(lambda x: self.fitness(x), x)"
      ],
      "metadata": {
        "id": "IXt9aEsPhrxe"
      },
      "execution_count": 25,
      "outputs": []
    },
    {
      "cell_type": "code",
      "source": [
        "prob = pg.problem(udf())\n",
        "print(prob) "
      ],
      "metadata": {
        "colab": {
          "base_uri": "https://localhost:8080/"
        },
        "id": "1YfWiTbHjs51",
        "outputId": "dbe1bc6e-e6ef-4780-c8c9-fe3824df9029"
      },
      "execution_count": 26,
      "outputs": [
        {
          "output_type": "stream",
          "name": "stdout",
          "text": [
            "Problem name: <class '__main__.udf'>\n",
            "\tC++ class name: pybind11::object\n",
            "\n",
            "\tGlobal dimension:\t\t\t6\n",
            "\tInteger dimension:\t\t\t0\n",
            "\tFitness dimension:\t\t\t2\n",
            "\tNumber of objectives:\t\t\t1\n",
            "\tEquality constraints dimension:\t\t0\n",
            "\tInequality constraints dimension:\t1\n",
            "\tTolerances on constraints: [0]\n",
            "\tLower bounds: [0, 0, 0, 0, 0, ... ]\n",
            "\tUpper bounds: [1, 1, 1, 1, 1, ... ]\n",
            "\tHas batch fitness evaluation: false\n",
            "\n",
            "\tHas gradient: true\n",
            "\tUser implemented gradient sparsity: false\n",
            "\tExpected gradients: 12\n",
            "\tHas hessians: false\n",
            "\tUser implemented hessians sparsity: false\n",
            "\n",
            "\tFitness evaluations: 0\n",
            "\tGradient evaluations: 0\n",
            "\n",
            "\tThread safety: none\n",
            "\n"
          ]
        }
      ]
    },
    {
      "cell_type": "code",
      "source": [
        "start = time.time()"
      ],
      "metadata": {
        "id": "3GK59WscVvww"
      },
      "execution_count": 27,
      "outputs": []
    },
    {
      "cell_type": "code",
      "source": [
        "algo = pg.algorithm(uda = pg.nlopt('auglag'))\n",
        "algo.extract(pg.nlopt).local_optimizer = pg.nlopt('var2')\n",
        "algo.set_verbosity(200) # in this case this correspond to logs each 200 objevals\n",
        "pop = pg.population(prob = udf(), size = 1)\n",
        "pop.problem.c_tol = [1E-6] * 1\n",
        "pop = algo.evolve(pop) "
      ],
      "metadata": {
        "id": "ILDGgkg6j1Hd"
      },
      "execution_count": 28,
      "outputs": []
    },
    {
      "cell_type": "code",
      "source": [
        "end = time.time()"
      ],
      "metadata": {
        "id": "q3veS8TMV0fO"
      },
      "execution_count": 29,
      "outputs": []
    },
    {
      "cell_type": "code",
      "source": [
        "print(\"Time taken = \",end-start)"
      ],
      "metadata": {
        "colab": {
          "base_uri": "https://localhost:8080/"
        },
        "id": "JNL8iGxbV2hn",
        "outputId": "714838d4-cadb-48c8-f997-97c1e37c5b80"
      },
      "execution_count": 30,
      "outputs": [
        {
          "output_type": "stream",
          "name": "stdout",
          "text": [
            "Time taken =  0.1146700382232666\n"
          ]
        }
      ]
    },
    {
      "cell_type": "code",
      "source": [
        "pop"
      ],
      "metadata": {
        "colab": {
          "base_uri": "https://localhost:8080/"
        },
        "id": "AnwZw24TlS8v",
        "outputId": "f06b9f32-dece-4ee7-85bc-ba7d4951c062"
      },
      "execution_count": 31,
      "outputs": [
        {
          "output_type": "execute_result",
          "data": {
            "text/plain": [
              "Problem name: <class '__main__.udf'>\n",
              "\tC++ class name: pybind11::object\n",
              "\n",
              "\tGlobal dimension:\t\t\t6\n",
              "\tInteger dimension:\t\t\t0\n",
              "\tFitness dimension:\t\t\t2\n",
              "\tNumber of objectives:\t\t\t1\n",
              "\tEquality constraints dimension:\t\t0\n",
              "\tInequality constraints dimension:\t1\n",
              "\tTolerances on constraints: [1e-06]\n",
              "\tLower bounds: [0, 0, 0, 0, 0, ... ]\n",
              "\tUpper bounds: [1, 1, 1, 1, 1, ... ]\n",
              "\tHas batch fitness evaluation: false\n",
              "\n",
              "\tHas gradient: true\n",
              "\tUser implemented gradient sparsity: false\n",
              "\tExpected gradients: 12\n",
              "\tHas hessians: false\n",
              "\tUser implemented hessians sparsity: false\n",
              "\n",
              "\tFitness evaluations: 350\n",
              "\tGradient evaluations: 332\n",
              "\n",
              "\tThread safety: none\n",
              "\n",
              "Population size: 1\n",
              "\n",
              "List of individuals: \n",
              "#0:\n",
              "\tID:\t\t\t938434405110322250\n",
              "\tDecision vector:\t[1, 0, 1, 0.457143, 0, ... ]\n",
              "\tFitness vector:\t\t[-42.1714, 0]\n",
              "\n",
              "Champion decision vector: [1, 0, 1, 0.457143, 0, ... ]\n",
              "Champion fitness: [-42.1714, 0]"
            ]
          },
          "metadata": {},
          "execution_count": 31
        }
      ]
    },
    {
      "cell_type": "code",
      "source": [
        "pop.champion_x "
      ],
      "metadata": {
        "id": "wgMBInUvoCwH",
        "colab": {
          "base_uri": "https://localhost:8080/"
        },
        "outputId": "b572e524-a8d9-40a6-d0ff-e031c5550104"
      },
      "execution_count": 32,
      "outputs": [
        {
          "output_type": "execute_result",
          "data": {
            "text/plain": [
              "array([1.        , 0.        , 1.        , 0.45714286, 0.        ,\n",
              "       0.        ])"
            ]
          },
          "metadata": {},
          "execution_count": 32
        }
      ]
    },
    {
      "cell_type": "markdown",
      "source": [
        "> This is solving the problem like Non Integer Programming"
      ],
      "metadata": {
        "id": "0W9qoM3Olwyi"
      }
    },
    {
      "cell_type": "markdown",
      "source": [
        "### Island approach"
      ],
      "metadata": {
        "id": "Bd9jkUMxQ7YG"
      }
    },
    {
      "cell_type": "code",
      "source": [
        "start2 = time.time()"
      ],
      "metadata": {
        "id": "cNu3It9HV_sx"
      },
      "execution_count": 39,
      "outputs": []
    },
    {
      "cell_type": "code",
      "source": [
        "isl = pg.island(algo = pg.de(10), prob = udf(), size=20, udi=pg.thread_island())"
      ],
      "metadata": {
        "id": "oxHziIRoRAoA"
      },
      "execution_count": 40,
      "outputs": []
    },
    {
      "cell_type": "code",
      "source": [
        "isl.evolve()"
      ],
      "metadata": {
        "id": "Ff7BEDT8RArI"
      },
      "execution_count": 41,
      "outputs": []
    },
    {
      "cell_type": "code",
      "source": [
        "end2 = time.time()"
      ],
      "metadata": {
        "id": "pJRKM_wTWC5p"
      },
      "execution_count": 42,
      "outputs": []
    },
    {
      "cell_type": "code",
      "source": [
        "print(\"Time taken by Island\",end2-start2)"
      ],
      "metadata": {
        "colab": {
          "base_uri": "https://localhost:8080/"
        },
        "id": "y4LMwHC8WFMi",
        "outputId": "65f43b97-e7af-4cbe-9b5f-e3158cdd7f82"
      },
      "execution_count": 43,
      "outputs": [
        {
          "output_type": "stream",
          "name": "stdout",
          "text": [
            "Time taken by Island 0.027341365814208984\n"
          ]
        }
      ]
    },
    {
      "cell_type": "code",
      "source": [
        "isl.get_population().champion_f"
      ],
      "metadata": {
        "colab": {
          "base_uri": "https://localhost:8080/"
        },
        "id": "aGFM9k1URJI1",
        "outputId": "640d72eb-477c-431b-cffa-2f9fa9f551e7"
      },
      "execution_count": 44,
      "outputs": [
        {
          "output_type": "execute_result",
          "data": {
            "text/plain": [
              "array([-33.02342255,  -6.32984212])"
            ]
          },
          "metadata": {},
          "execution_count": 44
        }
      ]
    },
    {
      "cell_type": "code",
      "source": [
        "isl"
      ],
      "metadata": {
        "colab": {
          "base_uri": "https://localhost:8080/"
        },
        "id": "HXVBidqjRPKX",
        "outputId": "27e29e4c-be4a-4c95-98b7-66136e95e1ee"
      },
      "execution_count": 45,
      "outputs": [
        {
          "output_type": "execute_result",
          "data": {
            "text/plain": [
              "Island name: Thread island\n",
              "\tC++ class name: pagmo::thread_island\n",
              "\n",
              "\tStatus: idle - **error occurred**\n",
              "\n",
              "Extra info:\n",
              "\tUsing pool: yes\n",
              "\n",
              "Algorithm: DE: Differential Evolution\n",
              "\n",
              "Problem: <class '__main__.udf'>\n",
              "\n",
              "Replacement policy: Fair replace\n",
              "\n",
              "Selection policy: Select best\n",
              "\n",
              "Population size: 20\n",
              "\tChampion decision vector: [0.344263, 0.551594, 0.385044, 0.283539, 0.691195, ... ]\n",
              "\tChampion fitness: [-33.0234, -6.32984]"
            ]
          },
          "metadata": {},
          "execution_count": 45
        }
      ]
    },
    {
      "cell_type": "code",
      "source": [
        "isl.get_population().champion_x "
      ],
      "metadata": {
        "colab": {
          "base_uri": "https://localhost:8080/"
        },
        "id": "qtu5X9m0VA7b",
        "outputId": "89762515-0ccd-47fa-9f4c-27f4bea17e49"
      },
      "execution_count": 46,
      "outputs": [
        {
          "output_type": "execute_result",
          "data": {
            "text/plain": [
              "array([0.3442629 , 0.55159412, 0.38504434, 0.28353851, 0.69119488,\n",
              "       0.12341427])"
            ]
          },
          "metadata": {},
          "execution_count": 46
        }
      ]
    },
    {
      "cell_type": "code",
      "source": [
        ""
      ],
      "metadata": {
        "id": "QzMxPZwCVfB3"
      },
      "execution_count": 46,
      "outputs": []
    },
    {
      "cell_type": "markdown",
      "source": [
        "> We can see that time taken by Island method is roughly 10 times faster compared to single thread approach"
      ],
      "metadata": {
        "id": "qeEDBYfPWfh4"
      }
    },
    {
      "cell_type": "code",
      "source": [
        ""
      ],
      "metadata": {
        "id": "qi76lYP2Wvqv"
      },
      "execution_count": null,
      "outputs": []
    }
  ]
}