{
  "nbformat": 4,
  "nbformat_minor": 0,
  "metadata": {
    "colab": {
      "name": "Symbolic_Reg.ipynb",
      "provenance": [],
      "collapsed_sections": [],
      "authorship_tag": "ABX9TyMZG6TTgltVzjIe6ykv+uY0"
    },
    "kernelspec": {
      "name": "python3",
      "display_name": "Python 3"
    },
    "language_info": {
      "name": "python"
    }
  },
  "cells": [
    {
      "cell_type": "code",
      "execution_count": null,
      "metadata": {
        "id": "tiWaO36SvRAv"
      },
      "outputs": [],
      "source": [
        "!pip install deap"
      ]
    },
    {
      "cell_type": "code",
      "source": [
        "\n",
        "import operator\n",
        "import math\n",
        "import random\n",
        "\n",
        "import numpy\n",
        "\n",
        "from deap import algorithms\n",
        "from deap import base\n",
        "from deap import creator\n",
        "from deap import tools\n",
        "from deap import gp\n"
      ],
      "metadata": {
        "id": "Lve4vKShvV8U"
      },
      "execution_count": 1,
      "outputs": []
    },
    {
      "cell_type": "markdown",
      "source": [
        "### Check Sample example of : a<sup>3</sup> - b<sup>2</sup>  + c - d + 2e"
      ],
      "metadata": {
        "id": "r7XcYfT45Xnb"
      }
    },
    {
      "cell_type": "code",
      "source": [
        "\n",
        "# Define new functions\n",
        "def protectedDiv(left, right):\n",
        "    with numpy.errstate(divide='ignore',invalid='ignore'):\n",
        "        x = numpy.divide(left, right)\n",
        "        if isinstance(x, numpy.ndarray):\n",
        "            x[numpy.isinf(x)] = 1\n",
        "            x[numpy.isnan(x)] = 1\n",
        "        elif numpy.isinf(x) or numpy.isnan(x):\n",
        "            x = 1\n",
        "    return x\n",
        "\n",
        "pset = gp.PrimitiveSet(\"MAIN\", 5)\n",
        "pset.addPrimitive(numpy.add, 2, name=\"vadd\")\n",
        "pset.addPrimitive(numpy.subtract, 2, name=\"vsub\")\n",
        "pset.addPrimitive(numpy.multiply, 2, name=\"vmul\")\n",
        "pset.addPrimitive(protectedDiv, 2)\n",
        "pset.renameArguments(ARG0='a', ARG1='b', ARG2='c', ARG3='d', ARG4='e')\n",
        "\n",
        "creator.create(\"FitnessMin2\", base.Fitness, weights=(-1.0,))\n",
        "creator.create(\"Individual2\", gp.PrimitiveTree, fitness=creator.FitnessMin2)\n",
        "\n",
        "toolbox = base.Toolbox()\n",
        "toolbox.register(\"expr\", gp.genHalfAndHalf, pset=pset, min_=1, max_=2)\n",
        "toolbox.register(\"individual\", tools.initIterate, creator.Individual2, toolbox.expr)\n",
        "toolbox.register(\"population\", tools.initRepeat, list, toolbox.individual)\n",
        "toolbox.register(\"compile\", gp.compile, pset=pset)\n",
        "\n",
        "samples = numpy.random.uniform(size=(10, 5))\n",
        "values = samples[:,0]**3 + samples[:,1]**2 + samples[:,2] - samples[:,3] + samples[:,4]*2\n",
        "\n",
        "def evalSymbReg(individual):\n",
        "    # Transform the tree expression in a callable function\n",
        "    func = toolbox.compile(expr=individual)\n",
        "    # Evaluate the sum of squared difference between the expression\n",
        "    diff = numpy.sum((func(*samples.T) - values)**2)\n",
        "    return diff,\n",
        "\n",
        "toolbox.register(\"evaluate\", evalSymbReg)\n",
        "toolbox.register(\"select\", tools.selTournament, tournsize=3)\n",
        "toolbox.register(\"mate\", gp.cxOnePoint)\n",
        "toolbox.register(\"expr_mut\", gp.genFull, min_=0, max_=2)\n",
        "toolbox.register('mutate', gp.mutUniform, expr=toolbox.expr_mut, pset=pset)\n",
        "\n",
        "def function2():\n",
        "    random.seed(318)\n",
        "\n",
        "    pop = toolbox.population(n=300)\n",
        "    hof = tools.HallOfFame(1)\n",
        "    stats = tools.Statistics(lambda ind: ind.fitness.values)\n",
        "    stats.register(\"avg\", numpy.mean)\n",
        "    stats.register(\"std\", numpy.std)\n",
        "    stats.register(\"min\", numpy.min)\n",
        "    stats.register(\"max\", numpy.max)\n",
        "    \n",
        "    algorithms.eaSimple(pop, toolbox, 0.5, 0.1, 40, stats, halloffame=hof)\n",
        "\n",
        "    return pop, stats, hof\n"
      ],
      "metadata": {
        "id": "5O5R-KLP5ZoM"
      },
      "execution_count": 2,
      "outputs": []
    },
    {
      "cell_type": "code",
      "source": [
        "pop, stats, hof = function2()"
      ],
      "metadata": {
        "colab": {
          "base_uri": "https://localhost:8080/"
        },
        "id": "00ySrxX15eus",
        "outputId": "d9fe2d74-d471-4451-fee9-4f619fe7e592"
      },
      "execution_count": 3,
      "outputs": [
        {
          "output_type": "stream",
          "name": "stdout",
          "text": [
            "gen\tnevals\tavg    \tstd    \tmin    \tmax  \n",
            "0  \t300   \t228.192\t1673.77\t1.59983\t20538\n",
            "1  \t169   \t105.258\t1450.14\t1.59983\t25152.1\n",
            "2  \t161   \t15.5714\t54.0321\t0.774496\t607.169\n",
            "3  \t193   \t18.4205\t201.609\t0.774496\t3490.18\n",
            "4  \t170   \t4.52395\t14.4987\t0.774496\t218.63 \n",
            "5  \t176   \t62.0438\t712.347\t0.774496\t11321.8\n",
            "6  \t157   \t14.7867\t136.426\t0.774496\t2086.87\n",
            "7  \t145   \t2.47963\t8.93642\t0.774496\t147.461\n",
            "8  \t170   \t191.11 \t2462.69\t0.774496\t39570.5\n",
            "9  \t171   \t2.9317 \t8.91558\t0.774496\t145.46 \n",
            "10 \t152   \t3.51902\t17.2363\t0.614599\t243.799\n",
            "11 \t177   \t246.988\t4122.39\t0.614599\t71520.3\n",
            "12 \t177   \t3.06261\t14.4435\t0.614599\t245.646\n",
            "13 \t157   \t228.145\t3906.81\t0.614599\t67783.3\n",
            "14 \t176   \t4.00728\t16.309 \t0.614599\t210.076\n",
            "15 \t185   \t76.9871\t1256.33\t0.614599\t21798.9\n",
            "16 \t165   \t468.441\t8048.69\t0.774496\t139643 \n",
            "17 \t139   \t2.9249 \t15.9851\t0.76818 \t274.321\n",
            "18 \t155   \t3.17066\t22.4332\t0.76818 \t387.821\n",
            "19 \t173   \t5.65811\t59.0551\t0.6773  \t1025.26\n",
            "20 \t168   \t3.72166\t22.5065\t0.6773  \t385.84 \n",
            "21 \t172   \t4.46142\t24.7407\t0.6773  \t362.264\n",
            "22 \t150   \t4.81937\t26.3347\t0.6773  \t303.227\n",
            "23 \t166   \t3.56753\t15.8421\t0.570486\t225.997\n",
            "24 \t160   \t1.62203\t1.75732\t0.570486\t13.7474\n",
            "25 \t157   \t2.09472\t4.0836 \t0.570486\t43.1845\n",
            "26 \t139   \t138.345\t2338.09\t0.570486\t40566.9\n",
            "27 \t163   \t1.94152\t5.20647\t0.570486\t60.2602\n",
            "28 \t173   \t3.59768\t22.3143\t0.558439\t309.215\n",
            "29 \t153   \t38.6617\t588.319\t0.570486\t10171.4\n",
            "30 \t164   \t1.74175\t3.7819 \t0.570486\t37.9184\n",
            "31 \t164   \t1.47992\t2.64113\t0.552468\t29.7127\n",
            "32 \t160   \t78.5564\t1314.63\t0.521074\t22808.8\n",
            "33 \t181   \t1.5728 \t2.86436\t0.471106\t29.1346\n",
            "34 \t147   \t1.40273\t2.68674\t0.471106\t24.3279\n",
            "35 \t177   \t23.6323\t350.076\t0.471106\t6055.37\n",
            "36 \t162   \t712.603\t12278.2\t0.471106\t213022 \n",
            "37 \t174   \t2.57519\t11.2539\t0.471106\t162.806\n",
            "38 \t180   \t1.87923\t5.62396\t0.471106\t64.6389\n",
            "39 \t153   \t2.75921\t19.3623\t0.469357\t328.134\n",
            "40 \t153   \t5.39009\t70.0634\t0.466368\t1216.39\n"
          ]
        }
      ]
    },
    {
      "cell_type": "code",
      "source": [
        "for data in [ hof]:\n",
        "  for ind in data:\n",
        "      print(ind)"
      ],
      "metadata": {
        "colab": {
          "base_uri": "https://localhost:8080/"
        },
        "id": "eZI_I3u85zMd",
        "outputId": "81d49cfa-2753-4a88-ab77-4c3b7f5e204e"
      },
      "execution_count": 4,
      "outputs": [
        {
          "output_type": "stream",
          "name": "stdout",
          "text": [
            "vadd(vadd(c, vmul(vadd(c, vadd(a, vmul(vmul(vadd(c, c), vmul(e, e)), c))), vmul(e, e))), e)\n"
          ]
        }
      ]
    },
    {
      "cell_type": "code",
      "source": [
        ""
      ],
      "metadata": {
        "id": "bsuDktux82TS"
      },
      "execution_count": null,
      "outputs": []
    }
  ]
}