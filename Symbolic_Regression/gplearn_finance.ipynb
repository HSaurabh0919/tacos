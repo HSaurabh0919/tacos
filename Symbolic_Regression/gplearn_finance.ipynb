{
  "nbformat": 4,
  "nbformat_minor": 0,
  "metadata": {
    "colab": {
      "name": "gplearn_finance.ipynb",
      "provenance": [],
      "collapsed_sections": []
    },
    "kernelspec": {
      "name": "python3",
      "display_name": "Python 3"
    },
    "language_info": {
      "name": "python"
    }
  },
  "cells": [
    {
      "cell_type": "markdown",
      "source": [
        "### Import modules"
      ],
      "metadata": {
        "id": "jDgFVp7Z5pvk"
      }
    },
    {
      "cell_type": "code",
      "execution_count": null,
      "metadata": {
        "id": "ayXsUGVS2Tjc"
      },
      "outputs": [],
      "source": [
        "!pip install gplearn"
      ]
    },
    {
      "cell_type": "code",
      "source": [
        "\n",
        "!pip install yfinance"
      ],
      "metadata": {
        "id": "-kNcxw1e2sM1"
      },
      "execution_count": null,
      "outputs": []
    },
    {
      "cell_type": "code",
      "source": [
        "import graphviz\n",
        "from gplearn.genetic import SymbolicTransformer\n",
        "from gplearn.genetic import SymbolicRegressor\n",
        "from sklearn.utils import check_random_state\n",
        "from sklearn.datasets import load_diabetes\n",
        "import numpy as np"
      ],
      "metadata": {
        "id": "xf4wq8J42Z2y"
      },
      "execution_count": 43,
      "outputs": []
    },
    {
      "cell_type": "code",
      "source": [
        "import pandas as pd \n",
        "import numpy as np\n",
        "import matplotlib.pyplot as plt\n",
        "import yfinance as yf\n",
        "import warnings\n",
        "warnings.filterwarnings('ignore')"
      ],
      "metadata": {
        "id": "2BM96hIQ2iVH"
      },
      "execution_count": 4,
      "outputs": []
    },
    {
      "cell_type": "markdown",
      "source": [
        "### Load Data"
      ],
      "metadata": {
        "id": "5duTkk_e5PhD"
      }
    },
    {
      "cell_type": "code",
      "source": [
        "forex_data_1 = yf.download('EURUSD=X', start='2020-01-01', end='2021-12-31')"
      ],
      "metadata": {
        "colab": {
          "base_uri": "https://localhost:8080/"
        },
        "id": "iRPMsngF2vSH",
        "outputId": "4061e904-5063-47a4-9579-04fe84b0f502"
      },
      "execution_count": 72,
      "outputs": [
        {
          "output_type": "stream",
          "name": "stdout",
          "text": [
            "\r[*********************100%***********************]  1 of 1 completed\n"
          ]
        }
      ]
    },
    {
      "cell_type": "code",
      "source": [
        "#Removing unnecessary columns\n",
        "df=forex_data_1.drop(['Open', 'High', 'Low', 'Close', 'Volume'],axis=1) \n",
        "df.rename(columns={'Adj Close': 'eur'},inplace=True) \n",
        "df.head(2)"
      ],
      "metadata": {
        "colab": {
          "base_uri": "https://localhost:8080/",
          "height": 143
        },
        "id": "ujTNT7_j2xWy",
        "outputId": "0d5a69c5-2dae-430a-f017-df04fda3a76a"
      },
      "execution_count": 73,
      "outputs": [
        {
          "output_type": "execute_result",
          "data": {
            "text/plain": [
              "                 eur\n",
              "Date                \n",
              "2020-01-01  1.122083\n",
              "2020-01-02  1.122083"
            ],
            "text/html": [
              "\n",
              "  <div id=\"df-65007780-2a86-44f9-925b-9ed1e79c6c46\">\n",
              "    <div class=\"colab-df-container\">\n",
              "      <div>\n",
              "<style scoped>\n",
              "    .dataframe tbody tr th:only-of-type {\n",
              "        vertical-align: middle;\n",
              "    }\n",
              "\n",
              "    .dataframe tbody tr th {\n",
              "        vertical-align: top;\n",
              "    }\n",
              "\n",
              "    .dataframe thead th {\n",
              "        text-align: right;\n",
              "    }\n",
              "</style>\n",
              "<table border=\"1\" class=\"dataframe\">\n",
              "  <thead>\n",
              "    <tr style=\"text-align: right;\">\n",
              "      <th></th>\n",
              "      <th>eur</th>\n",
              "    </tr>\n",
              "    <tr>\n",
              "      <th>Date</th>\n",
              "      <th></th>\n",
              "    </tr>\n",
              "  </thead>\n",
              "  <tbody>\n",
              "    <tr>\n",
              "      <th>2020-01-01</th>\n",
              "      <td>1.122083</td>\n",
              "    </tr>\n",
              "    <tr>\n",
              "      <th>2020-01-02</th>\n",
              "      <td>1.122083</td>\n",
              "    </tr>\n",
              "  </tbody>\n",
              "</table>\n",
              "</div>\n",
              "      <button class=\"colab-df-convert\" onclick=\"convertToInteractive('df-65007780-2a86-44f9-925b-9ed1e79c6c46')\"\n",
              "              title=\"Convert this dataframe to an interactive table.\"\n",
              "              style=\"display:none;\">\n",
              "        \n",
              "  <svg xmlns=\"http://www.w3.org/2000/svg\" height=\"24px\"viewBox=\"0 0 24 24\"\n",
              "       width=\"24px\">\n",
              "    <path d=\"M0 0h24v24H0V0z\" fill=\"none\"/>\n",
              "    <path d=\"M18.56 5.44l.94 2.06.94-2.06 2.06-.94-2.06-.94-.94-2.06-.94 2.06-2.06.94zm-11 1L8.5 8.5l.94-2.06 2.06-.94-2.06-.94L8.5 2.5l-.94 2.06-2.06.94zm10 10l.94 2.06.94-2.06 2.06-.94-2.06-.94-.94-2.06-.94 2.06-2.06.94z\"/><path d=\"M17.41 7.96l-1.37-1.37c-.4-.4-.92-.59-1.43-.59-.52 0-1.04.2-1.43.59L10.3 9.45l-7.72 7.72c-.78.78-.78 2.05 0 2.83L4 21.41c.39.39.9.59 1.41.59.51 0 1.02-.2 1.41-.59l7.78-7.78 2.81-2.81c.8-.78.8-2.07 0-2.86zM5.41 20L4 18.59l7.72-7.72 1.47 1.35L5.41 20z\"/>\n",
              "  </svg>\n",
              "      </button>\n",
              "      \n",
              "  <style>\n",
              "    .colab-df-container {\n",
              "      display:flex;\n",
              "      flex-wrap:wrap;\n",
              "      gap: 12px;\n",
              "    }\n",
              "\n",
              "    .colab-df-convert {\n",
              "      background-color: #E8F0FE;\n",
              "      border: none;\n",
              "      border-radius: 50%;\n",
              "      cursor: pointer;\n",
              "      display: none;\n",
              "      fill: #1967D2;\n",
              "      height: 32px;\n",
              "      padding: 0 0 0 0;\n",
              "      width: 32px;\n",
              "    }\n",
              "\n",
              "    .colab-df-convert:hover {\n",
              "      background-color: #E2EBFA;\n",
              "      box-shadow: 0px 1px 2px rgba(60, 64, 67, 0.3), 0px 1px 3px 1px rgba(60, 64, 67, 0.15);\n",
              "      fill: #174EA6;\n",
              "    }\n",
              "\n",
              "    [theme=dark] .colab-df-convert {\n",
              "      background-color: #3B4455;\n",
              "      fill: #D2E3FC;\n",
              "    }\n",
              "\n",
              "    [theme=dark] .colab-df-convert:hover {\n",
              "      background-color: #434B5C;\n",
              "      box-shadow: 0px 1px 3px 1px rgba(0, 0, 0, 0.15);\n",
              "      filter: drop-shadow(0px 1px 2px rgba(0, 0, 0, 0.3));\n",
              "      fill: #FFFFFF;\n",
              "    }\n",
              "  </style>\n",
              "\n",
              "      <script>\n",
              "        const buttonEl =\n",
              "          document.querySelector('#df-65007780-2a86-44f9-925b-9ed1e79c6c46 button.colab-df-convert');\n",
              "        buttonEl.style.display =\n",
              "          google.colab.kernel.accessAllowed ? 'block' : 'none';\n",
              "\n",
              "        async function convertToInteractive(key) {\n",
              "          const element = document.querySelector('#df-65007780-2a86-44f9-925b-9ed1e79c6c46');\n",
              "          const dataTable =\n",
              "            await google.colab.kernel.invokeFunction('convertToInteractive',\n",
              "                                                     [key], {});\n",
              "          if (!dataTable) return;\n",
              "\n",
              "          const docLinkHtml = 'Like what you see? Visit the ' +\n",
              "            '<a target=\"_blank\" href=https://colab.research.google.com/notebooks/data_table.ipynb>data table notebook</a>'\n",
              "            + ' to learn more about interactive tables.';\n",
              "          element.innerHTML = '';\n",
              "          dataTable['output_type'] = 'display_data';\n",
              "          await google.colab.output.renderOutput(dataTable, element);\n",
              "          const docLink = document.createElement('div');\n",
              "          docLink.innerHTML = docLinkHtml;\n",
              "          element.appendChild(docLink);\n",
              "        }\n",
              "      </script>\n",
              "    </div>\n",
              "  </div>\n",
              "  "
            ]
          },
          "metadata": {},
          "execution_count": 73
        }
      ]
    },
    {
      "cell_type": "code",
      "source": [
        "df = df.dropna(axis=0)"
      ],
      "metadata": {
        "id": "XQeVsXWE2zza"
      },
      "execution_count": 74,
      "outputs": []
    },
    {
      "cell_type": "code",
      "source": [
        "#Scaling the values between 0 to 1\n",
        "from sklearn.preprocessing import MinMaxScaler\n",
        "ss= MinMaxScaler(feature_range=(0,1))\n",
        "train = ss.fit_transform(np.array(df[\"eur\"]).reshape(-1,1))"
      ],
      "metadata": {
        "id": "CfnalTEx21cM"
      },
      "execution_count": 75,
      "outputs": []
    },
    {
      "cell_type": "code",
      "source": [
        "# Feature selection\n",
        "xtrain=[]\n",
        "ytrain=[]\n",
        "for i in range(5,len(train)):\n",
        "    xtrain.append(train[i-5:i,0])\n",
        "    ytrain.append(train[i,0])\n",
        "\n",
        "xtrain, ytrain = np.array(xtrain), np.array(ytrain)"
      ],
      "metadata": {
        "id": "pOY8e9TN23OX"
      },
      "execution_count": 76,
      "outputs": []
    },
    {
      "cell_type": "markdown",
      "source": [
        "### ML Model Prediction"
      ],
      "metadata": {
        "id": "rlKvby1x4CLO"
      }
    },
    {
      "cell_type": "code",
      "source": [
        "from sklearn.linear_model import Ridge\n",
        "est = Ridge()\n",
        "est.fit(xtrain, ytrain)\n",
        "print(est.score(xtrain, ytrain))"
      ],
      "metadata": {
        "colab": {
          "base_uri": "https://localhost:8080/"
        },
        "id": "NLe5zjBc2_h4",
        "outputId": "5f93c9ad-89ff-4a14-db13-5fef100cfed8"
      },
      "execution_count": 77,
      "outputs": [
        {
          "output_type": "stream",
          "name": "stdout",
          "text": [
            "0.9820575757224339\n"
          ]
        }
      ]
    },
    {
      "cell_type": "code",
      "source": [
        "test_df = yf.download('EURUSD=X', start='2022-01-01', end='2022-06-30')"
      ],
      "metadata": {
        "colab": {
          "base_uri": "https://localhost:8080/"
        },
        "id": "glRO4Gi-3KUb",
        "outputId": "6803732f-2c62-4802-abe3-610d63f3c77c"
      },
      "execution_count": 78,
      "outputs": [
        {
          "output_type": "stream",
          "name": "stdout",
          "text": [
            "\r[*********************100%***********************]  1 of 1 completed\n"
          ]
        }
      ]
    },
    {
      "cell_type": "code",
      "source": [
        "test = pd.DataFrame()"
      ],
      "metadata": {
        "id": "CnphOvr23Ulg"
      },
      "execution_count": 79,
      "outputs": []
    },
    {
      "cell_type": "code",
      "source": [
        "test['eur'] = test_df['Adj Close']\n",
        "test = test.dropna()"
      ],
      "metadata": {
        "id": "-uZ0SflN3Wl7"
      },
      "execution_count": 80,
      "outputs": []
    },
    {
      "cell_type": "code",
      "source": [
        "total= pd.concat([df['eur'],test['eur']],axis=0)"
      ],
      "metadata": {
        "id": "08pCUIf83ZeV"
      },
      "execution_count": 81,
      "outputs": []
    },
    {
      "cell_type": "code",
      "source": [
        "test_input = total[len(total)-len(test)-5:].values\n",
        "test_input= test_input.reshape(-1,1) # reshaping it to get it transformed\n",
        "test_input= ss.transform(test_input)"
      ],
      "metadata": {
        "id": "t7-qeOgs3bCj"
      },
      "execution_count": 82,
      "outputs": []
    },
    {
      "cell_type": "code",
      "source": [
        "xtest= []\n",
        "for i in range(60,80):\n",
        "    xtest.append(test_input[i-5:i,0]) #creating input for lstm prediction"
      ],
      "metadata": {
        "id": "ideSmUSc3c8N"
      },
      "execution_count": 89,
      "outputs": []
    },
    {
      "cell_type": "code",
      "source": [
        "xtest= np.array(xtest)"
      ],
      "metadata": {
        "id": "7Kfx1yUu3es5"
      },
      "execution_count": 90,
      "outputs": []
    },
    {
      "cell_type": "code",
      "source": [
        "predicted_value= est.predict(xtest)"
      ],
      "metadata": {
        "id": "a7eaQ-fi3gYA"
      },
      "execution_count": 91,
      "outputs": []
    },
    {
      "cell_type": "code",
      "source": [
        "predicted_value2 = ss.inverse_transform(predicted_value.reshape(-1,1))"
      ],
      "metadata": {
        "id": "uK2zzn7O3lBo"
      },
      "execution_count": 92,
      "outputs": []
    },
    {
      "cell_type": "code",
      "source": [
        "\n",
        "test_actual = np.array(test['eur'][0:20])"
      ],
      "metadata": {
        "id": "pgQYKrSe3nTm"
      },
      "execution_count": 93,
      "outputs": []
    },
    {
      "cell_type": "code",
      "source": [
        "from sklearn.metrics import r2_score\n",
        "r2_score(test_actual, predicted_value2)"
      ],
      "metadata": {
        "colab": {
          "base_uri": "https://localhost:8080/"
        },
        "id": "hRvW1aTN3vuv",
        "outputId": "a158a65a-9e42-4fa9-fdd8-1eee07deafa9"
      },
      "execution_count": 94,
      "outputs": [
        {
          "output_type": "execute_result",
          "data": {
            "text/plain": [
              "-24.0565126188782"
            ]
          },
          "metadata": {},
          "execution_count": 94
        }
      ]
    },
    {
      "cell_type": "code",
      "source": [],
      "metadata": {
        "id": "xv_6LLxi37rH"
      },
      "execution_count": null,
      "outputs": []
    },
    {
      "cell_type": "markdown",
      "source": [
        "### Symbolic Transformer Usage"
      ],
      "metadata": {
        "id": "-f-E9zsP4FrK"
      }
    },
    {
      "cell_type": "code",
      "source": [
        "function_set = ['add', 'sub', 'mul', 'div', 'sqrt', 'log',\n",
        "                'abs', 'neg', 'inv', 'max', 'min']"
      ],
      "metadata": {
        "id": "CdcbruO44IuJ"
      },
      "execution_count": 95,
      "outputs": []
    },
    {
      "cell_type": "code",
      "source": [
        "### Check genetic programming performance\n",
        "gp = SymbolicTransformer(generations=10, population_size=2000,\n",
        "                         hall_of_fame=100, n_components=10,\n",
        "                         function_set=function_set,\n",
        "                         parsimony_coefficient=0.0005,\n",
        "                         max_samples=0.9, verbose=1,\n",
        "                         random_state=0)\n",
        "gp.fit(xtrain,ytrain)\n",
        "\n",
        "gp_features = gp.transform(xtrain)\n",
        "new_xtrain = np.hstack((xtrain, gp_features))"
      ],
      "metadata": {
        "colab": {
          "base_uri": "https://localhost:8080/"
        },
        "id": "iLXBuMk54K9Q",
        "outputId": "62f6c1ed-6503-46a1-af4e-ef9544f47ea7"
      },
      "execution_count": 96,
      "outputs": [
        {
          "output_type": "stream",
          "name": "stdout",
          "text": [
            "    |   Population Average    |             Best Individual              |\n",
            "---- ------------------------- ------------------------------------------ ----------\n",
            " Gen   Length          Fitness   Length          Fitness      OOB Fitness  Time Left\n",
            "   0    13.13         0.653299        2         0.994426         0.984291     18.73s\n",
            "   1     6.03         0.880453        2         0.994403         0.987718     26.15s\n",
            "   2     2.18         0.980443        2         0.994551         0.986662     13.34s\n",
            "   3     1.21           0.9901        1          0.99447         0.986831     10.62s\n",
            "   4     1.03         0.991014        1         0.994509         0.986821      8.84s\n",
            "   5     1.04         0.990447        1         0.994674         0.985553      7.08s\n",
            "   6     1.06         0.990658        1         0.994482         0.985879      6.80s\n",
            "   7     1.05         0.990908        1         0.994546         0.984646      8.67s\n",
            "   8     1.03         0.991883        1         0.994514         0.983878      4.97s\n",
            "   9     1.04         0.989387        1         0.994643         0.982216      0.00s\n"
          ]
        }
      ]
    },
    {
      "cell_type": "code",
      "source": [
        "est2 = Ridge()\n",
        "est2.fit(new_xtrain,ytrain)\n",
        "print(est2.score(new_xtrain,ytrain))"
      ],
      "metadata": {
        "colab": {
          "base_uri": "https://localhost:8080/"
        },
        "id": "rUg2seWz4Xvy",
        "outputId": "be294b65-6582-4cb5-edbc-2cf2fa825843"
      },
      "execution_count": 97,
      "outputs": [
        {
          "output_type": "stream",
          "name": "stdout",
          "text": [
            "0.987153309029447\n"
          ]
        }
      ]
    },
    {
      "cell_type": "markdown",
      "source": [
        "We got some performance boost by adding new features using Symbolic Regression.\n",
        "0.981-->0.987\n"
      ],
      "metadata": {
        "id": "HfC0u79p4zzJ"
      }
    },
    {
      "cell_type": "code",
      "source": [
        "# dot_data = gp._programs[0][10].export_graphviz()\n",
        "# graph = graphviz.Source(dot_data)\n",
        "# graph.render('images/ex3_fig1', format='png', cleanup=True)\n",
        "# graph"
      ],
      "metadata": {
        "id": "CPZ4ldpY5AMf"
      },
      "execution_count": 107,
      "outputs": []
    },
    {
      "cell_type": "markdown",
      "source": [
        "### Symbolic Regressor Usage"
      ],
      "metadata": {
        "id": "l38QNIws5keF"
      }
    },
    {
      "cell_type": "code",
      "source": [
        "sr = SymbolicRegressor(population_size=5000,\n",
        "                           generations=20, stopping_criteria=0.01,\n",
        "                           p_crossover=0.7, p_subtree_mutation=0.1,\n",
        "                           p_hoist_mutation=0.05, p_point_mutation=0.1,\n",
        "                           max_samples=0.9, verbose=1,\n",
        "                           parsimony_coefficient=0.01, random_state=0)"
      ],
      "metadata": {
        "id": "1lwf6a0_54ka"
      },
      "execution_count": 108,
      "outputs": []
    },
    {
      "cell_type": "code",
      "source": [
        "sr.fit(xtrain, ytrain)\n"
      ],
      "metadata": {
        "colab": {
          "base_uri": "https://localhost:8080/"
        },
        "id": "VLG2Kyqn5wPC",
        "outputId": "ab9cac80-8094-41ba-908e-4654dd5ce249"
      },
      "execution_count": 109,
      "outputs": [
        {
          "output_type": "stream",
          "name": "stdout",
          "text": [
            "    |   Population Average    |             Best Individual              |\n",
            "---- ------------------------- ------------------------------------------ ----------\n",
            " Gen   Length          Fitness   Length          Fitness      OOB Fitness  Time Left\n",
            "   0    29.43          19870.2        5         0.021346        0.0228942      1.84m\n",
            "   1     6.61         0.833912        5        0.0206267        0.0297639      1.20m\n",
            "   2     2.63         0.845658        1        0.0205119        0.0303695      1.02m\n",
            "   3     1.48         0.453901        1        0.0204952         0.030519     58.05s\n",
            "   4     1.53         0.272292        1        0.0203546        0.0317785     52.42s\n",
            "   5     1.50         0.436497        1        0.0205656        0.0298879     49.17s\n",
            "   6     1.45         0.314511        1        0.0203604        0.0317269     47.30s\n",
            "   7     1.46         0.409417        1        0.0204383        0.0310288     41.94s\n",
            "   8     1.56         0.619743        1        0.0203743        0.0316023     39.65s\n",
            "   9     1.49         0.420601        1         0.020226         0.032931     37.50s\n",
            "  10     1.39         0.162987        1         0.020313        0.0321518     31.76s\n",
            "  11     1.52         0.340545        1        0.0205429        0.0300912     28.44s\n",
            "  12     1.50         0.267206        1         0.020429         0.031112     25.82s\n",
            "  13     1.47          1.38731        1        0.0203692        0.0316485     22.88s\n",
            "  14     1.57         0.976237        1        0.0205259        0.0302441     17.87s\n",
            "  15     1.45          1.22494        1        0.0203832        0.0315225     16.91s\n",
            "  16     1.47         0.783116        1        0.0202935        0.0323268     10.80s\n",
            "  17     1.48          3.17256        1        0.0203888        0.0314724      7.61s\n",
            "  18     1.48          3.98328        1        0.0204119        0.0312651      3.59s\n",
            "  19     1.45          0.19671        1          0.02048        0.0306555      0.00s\n"
          ]
        },
        {
          "output_type": "execute_result",
          "data": {
            "text/plain": [
              "SymbolicRegressor(max_samples=0.9, p_crossover=0.7, p_hoist_mutation=0.05,\n",
              "                  p_point_mutation=0.1, p_subtree_mutation=0.1,\n",
              "                  parsimony_coefficient=0.01, population_size=5000,\n",
              "                  random_state=0, stopping_criteria=0.01, verbose=1)"
            ]
          },
          "metadata": {},
          "execution_count": 109
        }
      ]
    },
    {
      "cell_type": "code",
      "source": [
        "sr_predict = sr.predict(xtest)"
      ],
      "metadata": {
        "id": "qgs5_qHV6iaE"
      },
      "execution_count": 110,
      "outputs": []
    },
    {
      "cell_type": "code",
      "source": [
        "predicted_value_sr = ss.inverse_transform(sr_predict.reshape(-1,1))"
      ],
      "metadata": {
        "id": "uleAkneO6uBT"
      },
      "execution_count": 111,
      "outputs": []
    },
    {
      "cell_type": "code",
      "source": [
        "r2_score(test_actual, predicted_value_sr)"
      ],
      "metadata": {
        "colab": {
          "base_uri": "https://localhost:8080/"
        },
        "id": "-PqUQK5U6zuo",
        "outputId": "a2698b67-04bf-4835-c083-3f2398fc0ff0"
      },
      "execution_count": 112,
      "outputs": [
        {
          "output_type": "execute_result",
          "data": {
            "text/plain": [
              "-26.759489612667714"
            ]
          },
          "metadata": {},
          "execution_count": 112
        }
      ]
    },
    {
      "cell_type": "code",
      "source": [
        "print(sr._program)"
      ],
      "metadata": {
        "colab": {
          "base_uri": "https://localhost:8080/"
        },
        "id": "hup6m9F664Un",
        "outputId": "54720290-2c07-4db3-9816-08ab39c8fc3e"
      },
      "execution_count": 113,
      "outputs": [
        {
          "output_type": "stream",
          "name": "stdout",
          "text": [
            "X4\n"
          ]
        }
      ]
    },
    {
      "cell_type": "markdown",
      "source": [
        "We see a massive boost in r2_score but our model seems to be predicting last value only"
      ],
      "metadata": {
        "id": "BQ66k7RM67I0"
      }
    },
    {
      "cell_type": "code",
      "source": [
        "xtrain.shape"
      ],
      "metadata": {
        "colab": {
          "base_uri": "https://localhost:8080/"
        },
        "id": "EI2naqBN7C62",
        "outputId": "c31029ad-b584-4d00-cd8a-7baabaf832d7"
      },
      "execution_count": 114,
      "outputs": [
        {
          "output_type": "execute_result",
          "data": {
            "text/plain": [
              "(518, 5)"
            ]
          },
          "metadata": {},
          "execution_count": 114
        }
      ]
    },
    {
      "cell_type": "code",
      "source": [
        "ytrain.shape"
      ],
      "metadata": {
        "colab": {
          "base_uri": "https://localhost:8080/"
        },
        "id": "YCU6U8Si7GoB",
        "outputId": "ea393f33-0f8e-439f-b36b-e1ade7336f63"
      },
      "execution_count": 115,
      "outputs": [
        {
          "output_type": "execute_result",
          "data": {
            "text/plain": [
              "(518,)"
            ]
          },
          "metadata": {},
          "execution_count": 115
        }
      ]
    },
    {
      "cell_type": "code",
      "source": [],
      "metadata": {
        "id": "o9BhaXdMAXMf"
      },
      "execution_count": null,
      "outputs": []
    }
  ]
}