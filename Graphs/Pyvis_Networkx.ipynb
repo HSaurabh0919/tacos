{
  "nbformat": 4,
  "nbformat_minor": 0,
  "metadata": {
    "colab": {
      "provenance": [],
      "collapsed_sections": [],
      "authorship_tag": "ABX9TyMkn1W02fKGcx+ws7V349cT"
    },
    "kernelspec": {
      "name": "python3",
      "display_name": "Python 3"
    },
    "language_info": {
      "name": "python"
    }
  },
  "cells": [
    {
      "cell_type": "code",
      "execution_count": null,
      "metadata": {
        "id": "sX3F6HKhoZqk"
      },
      "outputs": [],
      "source": [
        "!pip install pyvis"
      ]
    },
    {
      "cell_type": "code",
      "source": [
        "from pyvis.network import Network"
      ],
      "metadata": {
        "id": "c1kzDT1zofNu"
      },
      "execution_count": 3,
      "outputs": []
    },
    {
      "cell_type": "code",
      "source": [
        "import networkx as nx"
      ],
      "metadata": {
        "id": "g95JeCodpAxM"
      },
      "execution_count": 7,
      "outputs": []
    },
    {
      "cell_type": "code",
      "source": [
        "net = Network()"
      ],
      "metadata": {
        "id": "jyD4JEP7ofQQ"
      },
      "execution_count": 4,
      "outputs": []
    },
    {
      "cell_type": "code",
      "source": [
        "net.add_node(1, label=\"Node 1\") # node id = 1 and label = Node 1\n",
        "net.add_node(2) # node id and label = 2"
      ],
      "metadata": {
        "id": "ATYn-JX4oh58"
      },
      "execution_count": 5,
      "outputs": []
    },
    {
      "cell_type": "code",
      "source": [
        "g = Network(notebook=True)\n",
        "g.add_nodes([1,2,3], value=[10, 100, 400],\n",
        "                         title=['I am node 1', 'node 2 here', 'and im node 3'],\n",
        "                         x=[21.4, 54.2, 11.2],\n",
        "                         y=[100.2, 23.54, 32.1],\n",
        "                         label=['NODE X', 'NODE Y', 'NODE Z'],\n",
        "                         color=['#00ff1e', '#162347', '#dd4b39'])\n",
        "g.show(\"example.html\")"
      ],
      "metadata": {
        "id": "C199dpe9ouwd"
      },
      "execution_count": null,
      "outputs": []
    },
    {
      "cell_type": "code",
      "source": [],
      "metadata": {
        "id": "1WbbB0Wto48n"
      },
      "execution_count": null,
      "outputs": []
    }
  ]
}