{
  "nbformat": 4,
  "nbformat_minor": 0,
  "metadata": {
    "colab": {
      "provenance": [],
      "collapsed_sections": [],
      "authorship_tag": "ABX9TyOh3AeCVhvL/2zlUAx8FrFL"
    },
    "kernelspec": {
      "name": "python3",
      "display_name": "Python 3"
    },
    "language_info": {
      "name": "python"
    }
  },
  "cells": [
    {
      "cell_type": "markdown",
      "source": [
        "### References: \n",
        "#### https://machinelearningmastery.com/how-to-develop-a-convolutional-neural-network-from-scratch-for-mnist-handwritten-digit-classification/\n",
        "\n",
        "#### https://github.com/SadmanSakib93/Federated-Learning-Keras/blob/main/Fed%20Learning%20-%20FL.ipynb"
      ],
      "metadata": {
        "id": "MIsnveQMDDRW"
      }
    },
    {
      "cell_type": "code",
      "execution_count": 1,
      "metadata": {
        "id": "K5JpD0Ar8J9u"
      },
      "outputs": [],
      "source": [
        "import numpy as np\n",
        "import pandas as pd\n",
        "from sklearn.preprocessing import OneHotEncoder\n",
        "from sklearn.preprocessing import LabelEncoder\n",
        "from sklearn.model_selection import train_test_split\n",
        "from sklearn.preprocessing import StandardScaler\n",
        "from sklearn.preprocessing import MinMaxScaler\n",
        "from sklearn.metrics import accuracy_score, f1_score, precision_score, recall_score, classification_report, confusion_matrix\n",
        "from sklearn.preprocessing import OneHotEncoder\n",
        "from sklearn.preprocessing import LabelEncoder\n",
        "import tensorflow as tf\n",
        "from tensorflow import keras\n",
        "from tensorflow.keras import layers\n",
        "from tensorflow.keras.models import Sequential, load_model\n",
        "from tensorflow.keras.layers import Dense\n",
        "from tensorflow.keras.utils import to_categorical\n",
        "from keras.utils import np_utils\n",
        "from tensorflow.keras.layers import Dropout\n",
        "from tensorflow.keras.layers import Flatten, BatchNormalization\n",
        "from tensorflow.keras.layers import Convolution2D, Conv1D\n",
        "from tensorflow.keras.layers import MaxPooling2D, MaxPooling1D\n",
        "from keras import backend as K\n",
        "from keras import backend\n",
        "from tensorflow.keras.callbacks import ModelCheckpoint, EarlyStopping\n",
        "import time\n",
        "import os\n",
        "import psutil\n",
        "import csv\n",
        "from itertools import repeat\n",
        "from PIL import Image\n",
        "from numpy import asarray"
      ]
    },
    {
      "cell_type": "code",
      "source": [
        "tf.keras.datasets.mnist.load_data(path=\"mnist.npz\")"
      ],
      "metadata": {
        "id": "nVf0GxA88RNY"
      },
      "execution_count": null,
      "outputs": []
    },
    {
      "cell_type": "code",
      "source": [
        "(x_train, y_train), (x_test, y_test) = keras.datasets.mnist.load_data()"
      ],
      "metadata": {
        "id": "R0HB6l0S8U7M"
      },
      "execution_count": 3,
      "outputs": []
    },
    {
      "cell_type": "code",
      "source": [
        "x_train = x_train.reshape((x_train.shape[0], 28, 28, 1))\n",
        "x_test = x_test.reshape((x_test.shape[0], 28, 28, 1))"
      ],
      "metadata": {
        "id": "gk19E9s6CMRw"
      },
      "execution_count": 4,
      "outputs": []
    },
    {
      "cell_type": "code",
      "source": [
        "x_train.shape"
      ],
      "metadata": {
        "colab": {
          "base_uri": "https://localhost:8080/"
        },
        "id": "dAzhgqyq9ida",
        "outputId": "5f3ed9a6-e695-43d6-820d-1cb3908c5d45"
      },
      "execution_count": 5,
      "outputs": [
        {
          "output_type": "execute_result",
          "data": {
            "text/plain": [
              "(60000, 28, 28, 1)"
            ]
          },
          "metadata": {},
          "execution_count": 5
        }
      ]
    },
    {
      "cell_type": "code",
      "source": [
        "X_full = np.concatenate((x_train,x_test),axis=0)\n",
        "X_full.shape"
      ],
      "metadata": {
        "colab": {
          "base_uri": "https://localhost:8080/"
        },
        "id": "fmN0DgsJ9KlV",
        "outputId": "ddfdd51d-80fa-4e8b-9cd7-c12906bc7c6b"
      },
      "execution_count": 6,
      "outputs": [
        {
          "output_type": "execute_result",
          "data": {
            "text/plain": [
              "(70000, 28, 28, 1)"
            ]
          },
          "metadata": {},
          "execution_count": 6
        }
      ]
    },
    {
      "cell_type": "code",
      "source": [
        "Y_full = np.concatenate((y_train,y_test),axis=0)\n",
        "Y_full.shape"
      ],
      "metadata": {
        "colab": {
          "base_uri": "https://localhost:8080/"
        },
        "id": "sryQlY1x95Xi",
        "outputId": "cdbf8071-d9d5-4134-c2c3-0f03a5131ccf"
      },
      "execution_count": 7,
      "outputs": [
        {
          "output_type": "execute_result",
          "data": {
            "text/plain": [
              "(70000,)"
            ]
          },
          "metadata": {},
          "execution_count": 7
        }
      ]
    },
    {
      "cell_type": "code",
      "source": [
        "len(set(Y_full))"
      ],
      "metadata": {
        "colab": {
          "base_uri": "https://localhost:8080/"
        },
        "id": "mpbQb4Zy-EdR",
        "outputId": "3bc4bfc2-28e1-4e38-95ea-3fe3292fd8af"
      },
      "execution_count": 8,
      "outputs": [
        {
          "output_type": "execute_result",
          "data": {
            "text/plain": [
              "10"
            ]
          },
          "metadata": {},
          "execution_count": 8
        }
      ]
    },
    {
      "cell_type": "code",
      "source": [
        "x_train.shape"
      ],
      "metadata": {
        "colab": {
          "base_uri": "https://localhost:8080/"
        },
        "id": "az-Zld9CBZzf",
        "outputId": "65631da2-062b-4fef-f653-473159d321df"
      },
      "execution_count": 9,
      "outputs": [
        {
          "output_type": "execute_result",
          "data": {
            "text/plain": [
              "(60000, 28, 28, 1)"
            ]
          },
          "metadata": {},
          "execution_count": 9
        }
      ]
    },
    {
      "cell_type": "code",
      "source": [
        "algoName='CNN' #CNN, ANN, DNN\n",
        "\n",
        "xTrain = x_train.astype('float32')\n",
        "xTest = x_test.astype('float32')\n",
        "xTrain = xTrain / 255.\n",
        "xTest = xTest / 255.\n",
        "\n",
        "# if(algoName=='CNN'):\n",
        "#     xTrain = np.expand_dims(xTrain, axis=2)\n",
        "#     xTest = np.expand_dims(xTest, axis=2)\n",
        "\n",
        "outputClasses= len(set(Y_full))\n",
        "#One hot encoding\n",
        "yTrain = np.array(to_categorical(y_train))\n",
        "yTest = np.array(to_categorical(y_test))\n",
        "print(\"xTrain\", xTrain.shape, \"yTrain\", yTrain.shape)\n",
        "print(\"xTest\", xTest.shape, \"yTest\", yTest.shape)\n",
        "\n",
        "# FOR TEST SPLIT\n",
        "xServer, xClients, yServer, yClients = train_test_split(xTrain, yTrain, test_size=0.80,random_state=523) "
      ],
      "metadata": {
        "colab": {
          "base_uri": "https://localhost:8080/"
        },
        "id": "_056-Gyv8Z5f",
        "outputId": "32b06fd8-a1c3-4f13-aac9-d88384c82486"
      },
      "execution_count": 10,
      "outputs": [
        {
          "output_type": "stream",
          "name": "stdout",
          "text": [
            "xTrain (60000, 28, 28, 1) yTrain (60000, 10)\n",
            "xTest (10000, 28, 28, 1) yTest (10000, 10)\n"
          ]
        }
      ]
    },
    {
      "cell_type": "code",
      "source": [
        "def my_metrics(y_true, y_pred):\n",
        "    accuracy=accuracy_score(y_true, y_pred)\n",
        "    precision=precision_score(y_true, y_pred,average='weighted')\n",
        "    recall=recall_score(y_true, y_pred,average='weighted')\n",
        "    f1Score=f1_score(y_true, y_pred, average='weighted') \n",
        "    print(\"Accuracy  : {}\".format(accuracy))\n",
        "    print(\"Precision : {}\".format(precision))\n",
        "    print(\"Recall : {}\".format(recall))\n",
        "    print(\"f1Score : {}\".format(f1Score))\n",
        "    cm=confusion_matrix(y_true, y_pred)\n",
        "    print(cm)\n",
        "    return accuracy, precision, recall, f1Score"
      ],
      "metadata": {
        "id": "Mk4QD-jT8wap"
      },
      "execution_count": 11,
      "outputs": []
    },
    {
      "cell_type": "code",
      "source": [
        "from keras.layers import Conv2D"
      ],
      "metadata": {
        "id": "TKhr1oduAOth"
      },
      "execution_count": 12,
      "outputs": []
    },
    {
      "cell_type": "code",
      "source": [
        "from tensorflow.keras.optimizers import SGD"
      ],
      "metadata": {
        "id": "U9wn2-ulAdhy"
      },
      "execution_count": 13,
      "outputs": []
    },
    {
      "cell_type": "code",
      "source": [
        "verbose, epochs, batch_size = 0, 20, 64\n",
        "activationFun='relu'\n",
        "optimizerName='Adam'\n",
        "def createDeepModel():\n",
        "    model = Sequential()\n",
        "    model.add(Conv2D(32, (3, 3), activation='relu', kernel_initializer='he_uniform', input_shape=(28, 28, 1)))\n",
        "    model.add(MaxPooling2D((2, 2)))\n",
        "    model.add(Flatten())\n",
        "    model.add(Dense(100, activation='relu', kernel_initializer='he_uniform'))\n",
        "    model.add(Dense(10, activation='softmax'))\n",
        "    # compile model\n",
        "    opt = SGD(learning_rate=0.01, momentum=0.9)\n",
        "    model.compile(optimizer=opt, loss='categorical_crossentropy', metrics=['accuracy'])\n",
        "    return model"
      ],
      "metadata": {
        "id": "PxuuwNjU85jA"
      },
      "execution_count": 14,
      "outputs": []
    },
    {
      "cell_type": "code",
      "source": [
        "def predictTestData(yPredict, yTest):\n",
        "    #Converting predictions to label\n",
        "    print(\"yPredict\",len(yPredict))\n",
        "    pred = list()\n",
        "    for i in range(len(yPredict)):\n",
        "        pred.append(np.argmax(yPredict[i]))\n",
        "    #Converting one hot encoded test label to label\n",
        "    test = list()\n",
        "    for i in range(len(yTest)):\n",
        "        test.append(np.argmax(yTest[i]))\n",
        "    return my_metrics(test, pred)\n",
        "\n",
        "def sumOfWeights(weights):\n",
        "    return sum(map(sum, weights))\n",
        "\n",
        "def getWeights(model):\n",
        "    allLayersWeights=deepModel.get_weights()\n",
        "    return allLayersWeights\n",
        "    \n",
        "# Initially train central deep model\n",
        "deepModel=createDeepModel()"
      ],
      "metadata": {
        "id": "3JoQlPww9B1R"
      },
      "execution_count": 15,
      "outputs": []
    },
    {
      "cell_type": "code",
      "source": [
        "numOfIterations=2\n",
        "numOfClients=2 # 10, 15, 20, 25, 30, 35, 40, 45, 50\n",
        "modelLocation=\"Models/\"+str(algoName)+\"_Sync_users_\"+str(numOfClients)+\"_\"+activationFun+\"_\"+optimizerName+\"_FL_Model.h5\"\n",
        "accList, precList, recallList, f1List = [], [], [], []\n",
        "\n",
        "deepModelAggWeights=[]\n",
        "firstClientFlag=True\n",
        "\n",
        "def updateServerModel(clientModel, clientModelWeight):\n",
        "    global firstClientFlag\n",
        "    for ind in range(len(clientModelWeight)):\n",
        "        if(firstClientFlag==True):\n",
        "            deepModelAggWeights.append(clientModelWeight[ind])            \n",
        "        else:\n",
        "            deepModelAggWeights[ind]=(deepModelAggWeights[ind]+clientModelWeight[ind])\n",
        "\n",
        "def updateClientsModels():\n",
        "    global clientsModelList\n",
        "    global deepModel\n",
        "    clientsModelList.clear()\n",
        "    for clientID in range(numOfClients):\n",
        "        m = keras.models.clone_model(deepModel)\n",
        "        m.set_weights(deepModel.get_weights())\n",
        "        clientsModelList.append(m)"
      ],
      "metadata": {
        "id": "kSa4tu369GCB"
      },
      "execution_count": 16,
      "outputs": []
    },
    {
      "cell_type": "code",
      "source": [
        "# ----- 1. Train central model initially -----\n",
        "def trainInServer():\n",
        "    deepModel.fit(xServer, yServer, epochs=epochs, batch_size=batch_size, verbose=verbose)\n",
        "    # deepModel.fit(X_full, Y_full, epochs=epochs, batch_size=batch_size, verbose=verbose)\n",
        "    deepModel.save(modelLocation)\n",
        "trainInServer()"
      ],
      "metadata": {
        "id": "ARLJ5Mg3-OuT"
      },
      "execution_count": 17,
      "outputs": []
    },
    {
      "cell_type": "code",
      "source": [
        "# ------- 2. Separate clients data into lists ----------\n",
        "xClientsList=[]\n",
        "yClientsList=[]\n",
        "clientsModelList=[]\n",
        "clientDataInterval=len(xClients)//numOfClients\n",
        "lastLowerBound=0\n",
        "\n",
        "for clientID in range(numOfClients):\n",
        "    xClientsList.append(xClients[lastLowerBound : lastLowerBound+clientDataInterval])\n",
        "    yClientsList.append(yClients[lastLowerBound : lastLowerBound+clientDataInterval])\n",
        "    model=load_model(modelLocation)\n",
        "    clientsModelList.append(model)\n",
        "    lastLowerBound+=clientDataInterval"
      ],
      "metadata": {
        "id": "cAf5YI6T-YYT"
      },
      "execution_count": 18,
      "outputs": []
    },
    {
      "cell_type": "code",
      "source": [
        "# ------- 3. Update clients' model with intial server's deep-model ----------\n",
        "for clientID in range(numOfClients):\n",
        "    clientsModelList[clientID].fit(xClientsList[clientID], yClientsList[clientID], epochs=epochs, batch_size=batch_size, verbose=verbose)\n",
        "        \n",
        "start_time = time.time()\n",
        "process = psutil.Process(os.getpid())\n",
        "for iterationNo in range(1,numOfIterations+1):\n",
        "    print(\"Iteration\",iterationNo)\n",
        "    for clientID in range(numOfClients):\n",
        "        print(\"clientID\",clientID)\n",
        "        clientsModelList[clientID].compile(loss='mean_squared_error', optimizer='adam', metrics=['accuracy'])\n",
        "        clientsModelList[clientID].fit(xClientsList[clientID], yClientsList[clientID], epochs=epochs, batch_size=batch_size, verbose=verbose)\n",
        "        clientWeight=clientsModelList[clientID].get_weights()\n",
        "        # Find sum of all client's model\n",
        "        updateServerModel(clientsModelList[clientID], clientWeight)\n",
        "        firstClientFlag=False\n",
        "    #Avarage all clients model\n",
        "    for ind in range(len(deepModelAggWeights)):\n",
        "        deepModelAggWeights[ind]/=numOfClients\n",
        "\n",
        "    dw_last=deepModel.get_weights()\n",
        "\n",
        "    for ind in range(len(deepModelAggWeights)): \n",
        "        dw_last[ind]=deepModelAggWeights[ind]\n",
        "     \n",
        "    #Update server's model\n",
        "    deepModel.set_weights(dw_last) \n",
        "    print(\"Server's model updated\")\n",
        "    print(\"Saving model . . .\")\n",
        "    deepModel.save(modelLocation)\n",
        "    # Servers model is updated, now it can be used again by the clients\n",
        "    updateClientsModels()\n",
        "    firstClientFlag=True\n",
        "    deepModelAggWeights.clear()\n",
        "\n",
        "    yPredict = deepModel.predict(xTest)\n",
        "    acc, prec, recall, f1Score= predictTestData(yPredict, yTest)\n",
        "    accList.append(acc)\n",
        "    precList.append(prec)\n",
        "    recallList.append(recall)\n",
        "    f1List.append(f1Score)\n",
        "    print(\"Acc:\\n\", acc)\n",
        "    print(\"Prec:\\n\", prec)\n",
        "    print(\"Recall:\\n\", recall)\n",
        "    print(\"F1-Score:\\n\", f1Score)"
      ],
      "metadata": {
        "id": "gCeXV0yRCu8X",
        "colab": {
          "base_uri": "https://localhost:8080/"
        },
        "outputId": "d5bd4b47-4b43-4883-92d0-ac7056879041"
      },
      "execution_count": 19,
      "outputs": [
        {
          "output_type": "stream",
          "name": "stdout",
          "text": [
            "Iteration 1\n",
            "clientID 0\n",
            "clientID 1\n",
            "Server's model updated\n",
            "Saving model . . .\n",
            "yPredict 10000\n",
            "Accuracy  : 0.9861\n",
            "Precision : 0.9861701798529342\n",
            "Recall : 0.9861\n",
            "f1Score : 0.9861017021601874\n",
            "[[ 975    1    0    1    0    1    2    0    0    0]\n",
            " [   0 1122    2    3    1    0    3    0    4    0]\n",
            " [   2    0 1014    3    5    0    1    6    1    0]\n",
            " [   0    0    1 1008    0    0    0    0    1    0]\n",
            " [   0    0    1    1  970    0    1    0    1    8]\n",
            " [   2    0    1   10    0  874    4    0    1    0]\n",
            " [   5    2    0    1    4    1  943    0    2    0]\n",
            " [   1    0    6    4    0    0    0 1014    1    2]\n",
            " [   5    0    2    1    1    2    0    3  956    4]\n",
            " [   2    0    0    7    5    3    0    4    3  985]]\n",
            "Acc:\n",
            " 0.9861\n",
            "Prec:\n",
            " 0.9861701798529342\n",
            "Recall:\n",
            " 0.9861\n",
            "F1-Score:\n",
            " 0.9861017021601874\n",
            "Iteration 2\n",
            "clientID 0\n",
            "clientID 1\n",
            "Server's model updated\n",
            "Saving model . . .\n",
            "yPredict 10000\n",
            "Accuracy  : 0.9865\n",
            "Precision : 0.9865262126281458\n",
            "Recall : 0.9865\n",
            "f1Score : 0.9864958585368425\n",
            "[[ 975    0    1    0    0    1    2    1    0    0]\n",
            " [   0 1129    3    1    0    0    2    0    0    0]\n",
            " [   2    0 1020    0    1    0    1    5    3    0]\n",
            " [   0    0    8  992    0    5    0    2    2    1]\n",
            " [   0    0    1    0  970    0    1    0    2    8]\n",
            " [   1    0    0    2    0  886    3    0    0    0]\n",
            " [   5    1    0    1    1    3  945    0    2    0]\n",
            " [   0    2    9    1    0    0    0 1013    1    2]\n",
            " [   6    0    3    2    1    3    0    3  952    4]\n",
            " [   2    3    0    3    5    4    0    6    3  983]]\n",
            "Acc:\n",
            " 0.9865\n",
            "Prec:\n",
            " 0.9865262126281458\n",
            "Recall:\n",
            " 0.9865\n",
            "F1-Score:\n",
            " 0.9864958585368425\n"
          ]
        }
      ]
    },
    {
      "cell_type": "code",
      "source": [
        "memoryTraining=process.memory_percent()\n",
        "timeTraining=time.time() - start_time\n",
        "print(\"---Memory---\",memoryTraining)\n",
        "print(\"--- %s seconds (TRAINING)---\" % (timeTraining))\n",
        "\n",
        "early_stopping = EarlyStopping(monitor='val_loss', patience=5, verbose=0, mode='auto')\n",
        "\n",
        "history = deepModel.fit(xServer, yServer, epochs=epochs, \n",
        "                        validation_data = (xTest,yTest))\n",
        "                        # callbacks=[early_stopping])\n",
        "\n",
        "learningAccs=history.history['val_accuracy']\n",
        "learningLoss=history.history['val_loss']\n",
        "\n",
        "# resultSaveLocation=root_path+'Results/'+algoName+'_Users_vs_TR_vs_Iterations_vs_AccLossMemTime'+'.csv'\n",
        "dfSave=pd.DataFrame(columns=['Clients', 'Iterations to converge', 'Accuracy', 'Loss', 'Memory', 'Time'])\n",
        "dfSaveIndex=0\n",
        "saveList = [numOfClients, len(learningLoss), learningAccs[len(learningAccs)-1], learningLoss[len(learningLoss)-1], memoryTraining, timeTraining]\n",
        "dfSave.loc[dfSaveIndex] = saveList\n",
        "\n",
        "yPredict = deepModel.predict(xTest)\n",
        "acc, prec, recall, f1Score= predictTestData(yPredict, yTest)\n",
        "\n",
        "print(\"Number of users:\", numOfClients)\n",
        "deepModel.save(modelLocation)\n",
        "print(\"Epochs:\", epochs)\n",
        "print(\"BatchSize:\", batch_size)\n",
        "print(\"Activation:\", activationFun, \"Optimizer:\", optimizerName)\n",
        "\n",
        "print(\"Iterations:\", numOfIterations)\n",
        "print(\"Memory:\", memoryTraining)\n",
        "print(\"Time:\", timeTraining)\n",
        "print(dfSave)\n",
        "\n",
        "df_performance_timeRounds = pd.DataFrame(\n",
        "    {'Accuracy': accList,\n",
        "     'Precision': precList,\n",
        "     'Recall': recallList,\n",
        "     'F1-Score': f1List \n",
        "    })"
      ],
      "metadata": {
        "id": "TKrN1yEoC3ot",
        "colab": {
          "base_uri": "https://localhost:8080/"
        },
        "outputId": "4ac3072d-b4fd-4b50-f85d-15314e965a23"
      },
      "execution_count": 20,
      "outputs": [
        {
          "output_type": "stream",
          "name": "stdout",
          "text": [
            "---Memory--- 10.26235883831206\n",
            "--- 775.5714848041534 seconds (TRAINING)---\n",
            "Epoch 1/20\n",
            "375/375 [==============================] - 10s 27ms/step - loss: 0.0515 - accuracy: 0.9884 - val_loss: 0.0539 - val_accuracy: 0.9847\n",
            "Epoch 2/20\n",
            "375/375 [==============================] - 9s 24ms/step - loss: 0.0275 - accuracy: 0.9929 - val_loss: 0.0485 - val_accuracy: 0.9853\n",
            "Epoch 3/20\n",
            "375/375 [==============================] - 9s 24ms/step - loss: 0.0173 - accuracy: 0.9959 - val_loss: 0.0495 - val_accuracy: 0.9861\n",
            "Epoch 4/20\n",
            "375/375 [==============================] - 9s 24ms/step - loss: 0.0121 - accuracy: 0.9976 - val_loss: 0.0500 - val_accuracy: 0.9872\n",
            "Epoch 5/20\n",
            "375/375 [==============================] - 9s 24ms/step - loss: 0.0089 - accuracy: 0.9984 - val_loss: 0.0503 - val_accuracy: 0.9871\n",
            "Epoch 6/20\n",
            "375/375 [==============================] - 9s 24ms/step - loss: 0.0067 - accuracy: 0.9989 - val_loss: 0.0496 - val_accuracy: 0.9872\n",
            "Epoch 7/20\n",
            "375/375 [==============================] - 9s 24ms/step - loss: 0.0054 - accuracy: 0.9994 - val_loss: 0.0521 - val_accuracy: 0.9875\n",
            "Epoch 8/20\n",
            "375/375 [==============================] - 9s 24ms/step - loss: 0.0045 - accuracy: 0.9995 - val_loss: 0.0518 - val_accuracy: 0.9871\n",
            "Epoch 9/20\n",
            "375/375 [==============================] - 9s 24ms/step - loss: 0.0037 - accuracy: 0.9995 - val_loss: 0.0522 - val_accuracy: 0.9869\n",
            "Epoch 10/20\n",
            "375/375 [==============================] - 9s 24ms/step - loss: 0.0030 - accuracy: 0.9997 - val_loss: 0.0537 - val_accuracy: 0.9874\n",
            "Epoch 11/20\n",
            "375/375 [==============================] - 9s 24ms/step - loss: 0.0026 - accuracy: 0.9996 - val_loss: 0.0550 - val_accuracy: 0.9870\n",
            "Epoch 12/20\n",
            "375/375 [==============================] - 9s 24ms/step - loss: 0.0020 - accuracy: 0.9996 - val_loss: 0.0563 - val_accuracy: 0.9869\n",
            "Epoch 13/20\n",
            "375/375 [==============================] - 9s 24ms/step - loss: 0.0016 - accuracy: 0.9998 - val_loss: 0.0571 - val_accuracy: 0.9870\n",
            "Epoch 14/20\n",
            "375/375 [==============================] - 9s 24ms/step - loss: 0.0012 - accuracy: 0.9999 - val_loss: 0.0569 - val_accuracy: 0.9872\n",
            "Epoch 15/20\n",
            "375/375 [==============================] - 10s 27ms/step - loss: 9.8108e-04 - accuracy: 0.9999 - val_loss: 0.0578 - val_accuracy: 0.9871\n",
            "Epoch 16/20\n",
            "375/375 [==============================] - 9s 24ms/step - loss: 8.0977e-04 - accuracy: 1.0000 - val_loss: 0.0583 - val_accuracy: 0.9873\n",
            "Epoch 17/20\n",
            "375/375 [==============================] - 9s 24ms/step - loss: 7.0487e-04 - accuracy: 1.0000 - val_loss: 0.0593 - val_accuracy: 0.9874\n",
            "Epoch 18/20\n",
            "375/375 [==============================] - 9s 24ms/step - loss: 6.4016e-04 - accuracy: 1.0000 - val_loss: 0.0597 - val_accuracy: 0.9875\n",
            "Epoch 19/20\n",
            "375/375 [==============================] - 9s 24ms/step - loss: 5.7224e-04 - accuracy: 1.0000 - val_loss: 0.0605 - val_accuracy: 0.9876\n",
            "Epoch 20/20\n",
            "375/375 [==============================] - 9s 24ms/step - loss: 5.2266e-04 - accuracy: 1.0000 - val_loss: 0.0611 - val_accuracy: 0.9874\n",
            "yPredict 10000\n",
            "Accuracy  : 0.9874\n",
            "Precision : 0.9874086271355124\n",
            "Recall : 0.9874\n",
            "f1Score : 0.987394857368838\n",
            "[[ 971    0    0    0    0    2    4    3    0    0]\n",
            " [   0 1130    1    1    1    0    1    1    0    0]\n",
            " [   3    0 1013    1    3    0    1    7    4    0]\n",
            " [   0    0    2 1005    0    1    0    0    2    0]\n",
            " [   0    1    2    0  973    0    1    0    1    4]\n",
            " [   1    0    0    6    0  882    3    0    0    0]\n",
            " [   2    4    0    1    2    4  942    0    3    0]\n",
            " [   0    2    8    1    0    0    0 1012    3    2]\n",
            " [   4    0    3    2    0    1    0    1  960    3]\n",
            " [   1    0    0    4    6    2    1    4    5  986]]\n",
            "Number of users: 2\n",
            "Epochs: 20\n",
            "BatchSize: 64\n",
            "Activation: relu Optimizer: Adam\n",
            "Iterations: 2\n",
            "Memory: 10.26235883831206\n",
            "Time: 775.5714848041534\n",
            "   Clients  Iterations to converge  Accuracy      Loss     Memory        Time\n",
            "0      2.0                    20.0    0.9874  0.061112  10.262359  775.571485\n"
          ]
        }
      ]
    },
    {
      "cell_type": "code",
      "source": [
        "df_performance_timeRounds"
      ],
      "metadata": {
        "id": "9s9_Jm_sD8f0",
        "colab": {
          "base_uri": "https://localhost:8080/",
          "height": 112
        },
        "outputId": "89dcd10e-ac1e-4381-ce5e-85e1f82645fb"
      },
      "execution_count": 21,
      "outputs": [
        {
          "output_type": "execute_result",
          "data": {
            "text/plain": [
              "   Accuracy  Precision  Recall  F1-Score\n",
              "0    0.9861   0.986170  0.9861  0.986102\n",
              "1    0.9865   0.986526  0.9865  0.986496"
            ],
            "text/html": [
              "\n",
              "  <div id=\"df-3954bd4e-d698-4959-adb9-0f5fdc815027\">\n",
              "    <div class=\"colab-df-container\">\n",
              "      <div>\n",
              "<style scoped>\n",
              "    .dataframe tbody tr th:only-of-type {\n",
              "        vertical-align: middle;\n",
              "    }\n",
              "\n",
              "    .dataframe tbody tr th {\n",
              "        vertical-align: top;\n",
              "    }\n",
              "\n",
              "    .dataframe thead th {\n",
              "        text-align: right;\n",
              "    }\n",
              "</style>\n",
              "<table border=\"1\" class=\"dataframe\">\n",
              "  <thead>\n",
              "    <tr style=\"text-align: right;\">\n",
              "      <th></th>\n",
              "      <th>Accuracy</th>\n",
              "      <th>Precision</th>\n",
              "      <th>Recall</th>\n",
              "      <th>F1-Score</th>\n",
              "    </tr>\n",
              "  </thead>\n",
              "  <tbody>\n",
              "    <tr>\n",
              "      <th>0</th>\n",
              "      <td>0.9861</td>\n",
              "      <td>0.986170</td>\n",
              "      <td>0.9861</td>\n",
              "      <td>0.986102</td>\n",
              "    </tr>\n",
              "    <tr>\n",
              "      <th>1</th>\n",
              "      <td>0.9865</td>\n",
              "      <td>0.986526</td>\n",
              "      <td>0.9865</td>\n",
              "      <td>0.986496</td>\n",
              "    </tr>\n",
              "  </tbody>\n",
              "</table>\n",
              "</div>\n",
              "      <button class=\"colab-df-convert\" onclick=\"convertToInteractive('df-3954bd4e-d698-4959-adb9-0f5fdc815027')\"\n",
              "              title=\"Convert this dataframe to an interactive table.\"\n",
              "              style=\"display:none;\">\n",
              "        \n",
              "  <svg xmlns=\"http://www.w3.org/2000/svg\" height=\"24px\"viewBox=\"0 0 24 24\"\n",
              "       width=\"24px\">\n",
              "    <path d=\"M0 0h24v24H0V0z\" fill=\"none\"/>\n",
              "    <path d=\"M18.56 5.44l.94 2.06.94-2.06 2.06-.94-2.06-.94-.94-2.06-.94 2.06-2.06.94zm-11 1L8.5 8.5l.94-2.06 2.06-.94-2.06-.94L8.5 2.5l-.94 2.06-2.06.94zm10 10l.94 2.06.94-2.06 2.06-.94-2.06-.94-.94-2.06-.94 2.06-2.06.94z\"/><path d=\"M17.41 7.96l-1.37-1.37c-.4-.4-.92-.59-1.43-.59-.52 0-1.04.2-1.43.59L10.3 9.45l-7.72 7.72c-.78.78-.78 2.05 0 2.83L4 21.41c.39.39.9.59 1.41.59.51 0 1.02-.2 1.41-.59l7.78-7.78 2.81-2.81c.8-.78.8-2.07 0-2.86zM5.41 20L4 18.59l7.72-7.72 1.47 1.35L5.41 20z\"/>\n",
              "  </svg>\n",
              "      </button>\n",
              "      \n",
              "  <style>\n",
              "    .colab-df-container {\n",
              "      display:flex;\n",
              "      flex-wrap:wrap;\n",
              "      gap: 12px;\n",
              "    }\n",
              "\n",
              "    .colab-df-convert {\n",
              "      background-color: #E8F0FE;\n",
              "      border: none;\n",
              "      border-radius: 50%;\n",
              "      cursor: pointer;\n",
              "      display: none;\n",
              "      fill: #1967D2;\n",
              "      height: 32px;\n",
              "      padding: 0 0 0 0;\n",
              "      width: 32px;\n",
              "    }\n",
              "\n",
              "    .colab-df-convert:hover {\n",
              "      background-color: #E2EBFA;\n",
              "      box-shadow: 0px 1px 2px rgba(60, 64, 67, 0.3), 0px 1px 3px 1px rgba(60, 64, 67, 0.15);\n",
              "      fill: #174EA6;\n",
              "    }\n",
              "\n",
              "    [theme=dark] .colab-df-convert {\n",
              "      background-color: #3B4455;\n",
              "      fill: #D2E3FC;\n",
              "    }\n",
              "\n",
              "    [theme=dark] .colab-df-convert:hover {\n",
              "      background-color: #434B5C;\n",
              "      box-shadow: 0px 1px 3px 1px rgba(0, 0, 0, 0.15);\n",
              "      filter: drop-shadow(0px 1px 2px rgba(0, 0, 0, 0.3));\n",
              "      fill: #FFFFFF;\n",
              "    }\n",
              "  </style>\n",
              "\n",
              "      <script>\n",
              "        const buttonEl =\n",
              "          document.querySelector('#df-3954bd4e-d698-4959-adb9-0f5fdc815027 button.colab-df-convert');\n",
              "        buttonEl.style.display =\n",
              "          google.colab.kernel.accessAllowed ? 'block' : 'none';\n",
              "\n",
              "        async function convertToInteractive(key) {\n",
              "          const element = document.querySelector('#df-3954bd4e-d698-4959-adb9-0f5fdc815027');\n",
              "          const dataTable =\n",
              "            await google.colab.kernel.invokeFunction('convertToInteractive',\n",
              "                                                     [key], {});\n",
              "          if (!dataTable) return;\n",
              "\n",
              "          const docLinkHtml = 'Like what you see? Visit the ' +\n",
              "            '<a target=\"_blank\" href=https://colab.research.google.com/notebooks/data_table.ipynb>data table notebook</a>'\n",
              "            + ' to learn more about interactive tables.';\n",
              "          element.innerHTML = '';\n",
              "          dataTable['output_type'] = 'display_data';\n",
              "          await google.colab.output.renderOutput(dataTable, element);\n",
              "          const docLink = document.createElement('div');\n",
              "          docLink.innerHTML = docLinkHtml;\n",
              "          element.appendChild(docLink);\n",
              "        }\n",
              "      </script>\n",
              "    </div>\n",
              "  </div>\n",
              "  "
            ]
          },
          "metadata": {},
          "execution_count": 21
        }
      ]
    }
  ]
}