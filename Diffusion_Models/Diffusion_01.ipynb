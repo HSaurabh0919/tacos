{
  "nbformat": 4,
  "nbformat_minor": 0,
  "metadata": {
    "colab": {
      "provenance": [],
      "authorship_tag": "ABX9TyPkL4cgb3ZdbWBLbCoolwps"
    },
    "kernelspec": {
      "name": "python3",
      "display_name": "Python 3"
    },
    "language_info": {
      "name": "python"
    }
  },
  "cells": [
    {
      "cell_type": "code",
      "execution_count": null,
      "metadata": {
        "id": "BIwORdts_ide"
      },
      "outputs": [],
      "source": [
        "!pip install --upgrade git+https://github.com/huggingface/diffusers.git transformers accelerate scipy"
      ]
    },
    {
      "cell_type": "code",
      "source": [
        "from diffusers import DiffusionPipeline, EulerDiscreteScheduler\n",
        "import torch\n",
        "\n",
        "repo_id = \"stabilityai/stable-diffusion-2\"\n",
        "device = \"cuda\"\n",
        "\n",
        "scheduler = EulerDiscreteScheduler.from_pretrained(repo_id, subfolder=\"scheduler\", prediction_type=\"v_prediction\")\n",
        "pipe = DiffusionPipeline.from_pretrained(repo_id, torch_dtype=torch.float16, revision=\"fp16\", scheduler=scheduler)\n",
        "pipe = pipe.to(device)\n",
        "\n"
      ],
      "metadata": {
        "id": "tIuKSMsM_nJk"
      },
      "execution_count": null,
      "outputs": []
    },
    {
      "cell_type": "code",
      "source": [
        "prompt = \"High quality photo of warior with sword in snow\"\n",
        "image = pipe(prompt, width=768, height=768, guidance_scale=9).images[0]\n",
        "image.save(\"warrior.png\")"
      ],
      "metadata": {
        "id": "T6LAOIb9_v5C"
      },
      "execution_count": null,
      "outputs": []
    },
    {
      "cell_type": "code",
      "source": [],
      "metadata": {
        "id": "s5OT8Kqg_53A"
      },
      "execution_count": null,
      "outputs": []
    }
  ]
}