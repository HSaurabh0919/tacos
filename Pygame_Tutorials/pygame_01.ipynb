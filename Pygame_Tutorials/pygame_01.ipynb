{
  "nbformat": 4,
  "nbformat_minor": 0,
  "metadata": {
    "colab": {
      "provenance": [],
      "collapsed_sections": []
    },
    "kernelspec": {
      "name": "python3",
      "display_name": "Python 3"
    }
  },
  "cells": [
    {
      "cell_type": "markdown",
      "metadata": {
        "id": "Ll1FJKQcIlmt"
      },
      "source": [
        "##Install pygame"
      ]
    },
    {
      "cell_type": "code",
      "metadata": {
        "id": "trViUvbXAGlj"
      },
      "source": [
        "!pip install pygame"
      ],
      "execution_count": null,
      "outputs": []
    },
    {
      "cell_type": "markdown",
      "metadata": {
        "id": "wWRYdkJzIqW3"
      },
      "source": [
        "##Dependencies"
      ]
    },
    {
      "cell_type": "code",
      "metadata": {
        "id": "7X42jJWlAuSl"
      },
      "source": [
        "import cv2\n",
        "from google.colab.patches import cv2_imshow\n",
        "from google.colab import output\n",
        "import time \n",
        "import os, sys"
      ],
      "execution_count": 2,
      "outputs": []
    },
    {
      "cell_type": "markdown",
      "metadata": {
        "id": "jobbL8_pIuxP"
      },
      "source": [
        "## Make a dummy video access"
      ]
    },
    {
      "cell_type": "code",
      "metadata": {
        "id": "bBd7TdlTAN9s"
      },
      "source": [
        "# set SDL to use the dummy NULL video driver, \n",
        "#   so it doesn't need a windowing system.\n",
        "os.environ[\"SDL_VIDEODRIVER\"] = \"dummy\""
      ],
      "execution_count": 3,
      "outputs": []
    },
    {
      "cell_type": "code",
      "source": [
        "!wget https://play.google.com/store/apps/details?id=com.perunlabs.app.box&hl=en_US&gl=US"
      ],
      "metadata": {
        "id": "LIu5KCJsCk36"
      },
      "execution_count": null,
      "outputs": []
    },
    {
      "cell_type": "markdown",
      "metadata": {
        "id": "lFqI32cMI2vq"
      },
      "source": [
        "##Simple Pygame example"
      ]
    },
    {
      "cell_type": "code",
      "metadata": {
        "id": "EMk8HL92ATLL"
      },
      "source": [
        "### Show Multiple Images side by side\n",
        "import pygame\n",
        "\n",
        "pygame.init()\n",
        "screen = pygame.display.set_mode((400, 300))\n",
        "done = False\n",
        "is_blue = True\n",
        "x = 30\n",
        "y = 30\n",
        "\n",
        "#while not done:\n",
        "for i in range(10):\n",
        "  for event in pygame.event.get():\n",
        "    if event.type == pygame.QUIT:\n",
        "      done = True\n",
        "  \n",
        "  color = (255, 100, 0)\n",
        "  #pygame.draw.rect(screen, color, pygame.Rect(x, y, 60, 60))\n",
        "  # create a surface object, image is drawn on it.\n",
        "  boxw = pygame.image.load(\"boxw.png\").convert()\n",
        "  boxw = pygame.transform.scale(boxw, (60, 60))\n",
        "  boxb = pygame.image.load(\"boxb.png\").convert()\n",
        "  boxb = pygame.transform.scale(boxb, (60, 60))\n",
        "  jewel = pygame.image.load(\"jewel.png\").convert()\n",
        "  jewel = pygame.transform.scale(jewel, (60, 60))\n",
        "  \n",
        "  # Using blit to copy content from one surface to other\n",
        "  screen.blit(boxw, (0, 0))\n",
        "  screen.blit(boxb, (60, 0))\n",
        "  screen.blit(jewel, (120, 0))\n",
        "  \n",
        "  pygame.display.flip()\n",
        "\n",
        "  #convert image so it can be displayed in OpenCV\n",
        "  view = pygame.surfarray.array3d(screen)\n",
        "\n",
        "  #  convert from (width, height, channel) to (height, width, channel)\n",
        "  view = view.transpose([1, 0, 2])\n",
        "\n",
        "  #  convert from rgb to bgr\n",
        "  img_bgr = cv2.cvtColor(view, cv2.COLOR_RGB2BGR)\n",
        "\n",
        "  #Display image, clear cell every 0.5 seconds\n",
        "  cv2_imshow(img_bgr)\n",
        "  time.sleep(0.5)\n",
        "  output.clear()\n"
      ],
      "execution_count": 24,
      "outputs": []
    },
    {
      "cell_type": "markdown",
      "source": [
        "## Moving Game"
      ],
      "metadata": {
        "id": "i2GLjisKGDGB"
      }
    },
    {
      "cell_type": "code",
      "source": [
        "import pygame\n",
        "\n",
        "backcolor = 'green'\n",
        "#while not done:\n",
        "for i in range(0,10):\n",
        "  pygame.init()\n",
        "  screen = pygame.display.set_mode((600, 60))\n",
        "  done = False\n",
        "  is_blue = True\n",
        "  #x = 30\n",
        "  #y = 30\n",
        "  # for event in pygame.event.get():\n",
        "  #   if event.type == pygame.QUIT:\n",
        "  #     done = True\n",
        "  \n",
        "  color = (144,238,144)\n",
        "  #pygame.draw.rect(screen, color, pygame.Rect(x, y, 60, 60))\n",
        "  # create a surface object, image is drawn on it.\n",
        "\n",
        "  jewel = pygame.image.load(\"jewel.png\").convert()\n",
        "  jewel = pygame.transform.scale(jewel, (60, 60))\n",
        "  \n",
        "  # Using blit to copy content from one surface to other\n",
        "  boxw = pygame.image.load(\"boxw.png\").convert()\n",
        "  boxw = pygame.transform.scale(boxw, (60, 60))\n",
        "  boxb = pygame.image.load(\"boxb.png\").convert()\n",
        "  boxb = pygame.transform.scale(boxb, (60, 60))\n",
        "  jewel = pygame.image.load(\"jewel.png\").convert()\n",
        "  jewel = pygame.transform.scale(jewel, (60, 60))\n",
        "  \n",
        "  screen.fill(backcolor)\n",
        "\n",
        "  # Using blit to copy content from one surface to other\n",
        "  screen.blit(boxb, (60*1*i, 0))\n",
        "  #screen.blit(boxw, (60*(i+1), 0))\n",
        "  #screen.blit(jewel, (60*(i+2), 0))\n",
        "  \n",
        "  pygame.display.flip()\n",
        "\n",
        "  #convert image so it can be displayed in OpenCV\n",
        "  view = pygame.surfarray.array3d(screen)\n",
        "\n",
        "  #  convert from (width, height, channel) to (height, width, channel)\n",
        "  view = view.transpose([1, 0, 2])\n",
        "\n",
        "  #  convert from rgb to bgr\n",
        "  img_bgr = cv2.cvtColor(view, cv2.COLOR_RGB2BGR)\n",
        "\n",
        "  #Display image, clear cell every 0.5 seconds\n",
        "  cv2_imshow(img_bgr)\n",
        "  time.sleep(1.0)\n",
        "  pygame.image.save(screen, \"file {}.png\".format(i))\n",
        "  output.clear()\n",
        "  pygame.quit()"
      ],
      "metadata": {
        "id": "Cn8hpzGfB0qE"
      },
      "execution_count": 73,
      "outputs": []
    },
    {
      "cell_type": "code",
      "source": [
        "### Save the results as gif file\n",
        "import imageio\n",
        "images = []\n",
        "filenames = ['file 1.png','file 2.png','file 3.png','file 4.png','file 5.png','file 6.png','file 7.png','file 8.png','file 9.png']\n",
        "for filename in filenames:\n",
        "    images.append(imageio.imread(filename))\n",
        "imageio.mimsave('movie.gif', images)"
      ],
      "metadata": {
        "id": "amew1mfBEvS2"
      },
      "execution_count": 75,
      "outputs": []
    },
    {
      "cell_type": "code",
      "source": [],
      "metadata": {
        "id": "cvZjj3CcLTHP"
      },
      "execution_count": null,
      "outputs": []
    }
  ]
}