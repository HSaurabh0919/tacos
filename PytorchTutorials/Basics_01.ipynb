{
  "nbformat": 4,
  "nbformat_minor": 0,
  "metadata": {
    "colab": {
      "provenance": [],
      "collapsed_sections": [],
      "authorship_tag": "ABX9TyMUUn6u7Yo/SQylfhBHkgt8"
    },
    "kernelspec": {
      "name": "python3",
      "display_name": "Python 3"
    },
    "language_info": {
      "name": "python"
    },
    "widgets": {
      "application/vnd.jupyter.widget-state+json": {
        "6f24359ace6a426f8662727d0516db71": {
          "model_module": "@jupyter-widgets/controls",
          "model_name": "HBoxModel",
          "model_module_version": "1.5.0",
          "state": {
            "_dom_classes": [],
            "_model_module": "@jupyter-widgets/controls",
            "_model_module_version": "1.5.0",
            "_model_name": "HBoxModel",
            "_view_count": null,
            "_view_module": "@jupyter-widgets/controls",
            "_view_module_version": "1.5.0",
            "_view_name": "HBoxView",
            "box_style": "",
            "children": [
              "IPY_MODEL_0c85d13b14b24275ad7323c458ad9d8a",
              "IPY_MODEL_2548f8ec1e594ec797e1ac37651ee49a",
              "IPY_MODEL_e60f3b4cb8314366bfdbf76292893d3c"
            ],
            "layout": "IPY_MODEL_01884661680145c892f49d18216930f3"
          }
        },
        "0c85d13b14b24275ad7323c458ad9d8a": {
          "model_module": "@jupyter-widgets/controls",
          "model_name": "HTMLModel",
          "model_module_version": "1.5.0",
          "state": {
            "_dom_classes": [],
            "_model_module": "@jupyter-widgets/controls",
            "_model_module_version": "1.5.0",
            "_model_name": "HTMLModel",
            "_view_count": null,
            "_view_module": "@jupyter-widgets/controls",
            "_view_module_version": "1.5.0",
            "_view_name": "HTMLView",
            "description": "",
            "description_tooltip": null,
            "layout": "IPY_MODEL_793d62b222704c41a3929de1e3e3ed83",
            "placeholder": "​",
            "style": "IPY_MODEL_db228d968c334f40aa916e95d9478b80",
            "value": "100%"
          }
        },
        "2548f8ec1e594ec797e1ac37651ee49a": {
          "model_module": "@jupyter-widgets/controls",
          "model_name": "FloatProgressModel",
          "model_module_version": "1.5.0",
          "state": {
            "_dom_classes": [],
            "_model_module": "@jupyter-widgets/controls",
            "_model_module_version": "1.5.0",
            "_model_name": "FloatProgressModel",
            "_view_count": null,
            "_view_module": "@jupyter-widgets/controls",
            "_view_module_version": "1.5.0",
            "_view_name": "ProgressView",
            "bar_style": "success",
            "description": "",
            "description_tooltip": null,
            "layout": "IPY_MODEL_55717652f9ae4a47bc7a6e6b45a17409",
            "max": 100,
            "min": 0,
            "orientation": "horizontal",
            "style": "IPY_MODEL_7eebdc37b8c24704a3f12ee4808817ed",
            "value": 100
          }
        },
        "e60f3b4cb8314366bfdbf76292893d3c": {
          "model_module": "@jupyter-widgets/controls",
          "model_name": "HTMLModel",
          "model_module_version": "1.5.0",
          "state": {
            "_dom_classes": [],
            "_model_module": "@jupyter-widgets/controls",
            "_model_module_version": "1.5.0",
            "_model_name": "HTMLModel",
            "_view_count": null,
            "_view_module": "@jupyter-widgets/controls",
            "_view_module_version": "1.5.0",
            "_view_name": "HTMLView",
            "description": "",
            "description_tooltip": null,
            "layout": "IPY_MODEL_af5eda543aa6409cb92f8e287bff2107",
            "placeholder": "​",
            "style": "IPY_MODEL_c3f4410b4b6f491f97ba97dfc1ad9376",
            "value": " 100/100 [00:03&lt;00:00, 39.88it/s]"
          }
        },
        "01884661680145c892f49d18216930f3": {
          "model_module": "@jupyter-widgets/base",
          "model_name": "LayoutModel",
          "model_module_version": "1.2.0",
          "state": {
            "_model_module": "@jupyter-widgets/base",
            "_model_module_version": "1.2.0",
            "_model_name": "LayoutModel",
            "_view_count": null,
            "_view_module": "@jupyter-widgets/base",
            "_view_module_version": "1.2.0",
            "_view_name": "LayoutView",
            "align_content": null,
            "align_items": null,
            "align_self": null,
            "border": null,
            "bottom": null,
            "display": null,
            "flex": null,
            "flex_flow": null,
            "grid_area": null,
            "grid_auto_columns": null,
            "grid_auto_flow": null,
            "grid_auto_rows": null,
            "grid_column": null,
            "grid_gap": null,
            "grid_row": null,
            "grid_template_areas": null,
            "grid_template_columns": null,
            "grid_template_rows": null,
            "height": null,
            "justify_content": null,
            "justify_items": null,
            "left": null,
            "margin": null,
            "max_height": null,
            "max_width": null,
            "min_height": null,
            "min_width": null,
            "object_fit": null,
            "object_position": null,
            "order": null,
            "overflow": null,
            "overflow_x": null,
            "overflow_y": null,
            "padding": null,
            "right": null,
            "top": null,
            "visibility": null,
            "width": null
          }
        },
        "793d62b222704c41a3929de1e3e3ed83": {
          "model_module": "@jupyter-widgets/base",
          "model_name": "LayoutModel",
          "model_module_version": "1.2.0",
          "state": {
            "_model_module": "@jupyter-widgets/base",
            "_model_module_version": "1.2.0",
            "_model_name": "LayoutModel",
            "_view_count": null,
            "_view_module": "@jupyter-widgets/base",
            "_view_module_version": "1.2.0",
            "_view_name": "LayoutView",
            "align_content": null,
            "align_items": null,
            "align_self": null,
            "border": null,
            "bottom": null,
            "display": null,
            "flex": null,
            "flex_flow": null,
            "grid_area": null,
            "grid_auto_columns": null,
            "grid_auto_flow": null,
            "grid_auto_rows": null,
            "grid_column": null,
            "grid_gap": null,
            "grid_row": null,
            "grid_template_areas": null,
            "grid_template_columns": null,
            "grid_template_rows": null,
            "height": null,
            "justify_content": null,
            "justify_items": null,
            "left": null,
            "margin": null,
            "max_height": null,
            "max_width": null,
            "min_height": null,
            "min_width": null,
            "object_fit": null,
            "object_position": null,
            "order": null,
            "overflow": null,
            "overflow_x": null,
            "overflow_y": null,
            "padding": null,
            "right": null,
            "top": null,
            "visibility": null,
            "width": null
          }
        },
        "db228d968c334f40aa916e95d9478b80": {
          "model_module": "@jupyter-widgets/controls",
          "model_name": "DescriptionStyleModel",
          "model_module_version": "1.5.0",
          "state": {
            "_model_module": "@jupyter-widgets/controls",
            "_model_module_version": "1.5.0",
            "_model_name": "DescriptionStyleModel",
            "_view_count": null,
            "_view_module": "@jupyter-widgets/base",
            "_view_module_version": "1.2.0",
            "_view_name": "StyleView",
            "description_width": ""
          }
        },
        "55717652f9ae4a47bc7a6e6b45a17409": {
          "model_module": "@jupyter-widgets/base",
          "model_name": "LayoutModel",
          "model_module_version": "1.2.0",
          "state": {
            "_model_module": "@jupyter-widgets/base",
            "_model_module_version": "1.2.0",
            "_model_name": "LayoutModel",
            "_view_count": null,
            "_view_module": "@jupyter-widgets/base",
            "_view_module_version": "1.2.0",
            "_view_name": "LayoutView",
            "align_content": null,
            "align_items": null,
            "align_self": null,
            "border": null,
            "bottom": null,
            "display": null,
            "flex": null,
            "flex_flow": null,
            "grid_area": null,
            "grid_auto_columns": null,
            "grid_auto_flow": null,
            "grid_auto_rows": null,
            "grid_column": null,
            "grid_gap": null,
            "grid_row": null,
            "grid_template_areas": null,
            "grid_template_columns": null,
            "grid_template_rows": null,
            "height": null,
            "justify_content": null,
            "justify_items": null,
            "left": null,
            "margin": null,
            "max_height": null,
            "max_width": null,
            "min_height": null,
            "min_width": null,
            "object_fit": null,
            "object_position": null,
            "order": null,
            "overflow": null,
            "overflow_x": null,
            "overflow_y": null,
            "padding": null,
            "right": null,
            "top": null,
            "visibility": null,
            "width": null
          }
        },
        "7eebdc37b8c24704a3f12ee4808817ed": {
          "model_module": "@jupyter-widgets/controls",
          "model_name": "ProgressStyleModel",
          "model_module_version": "1.5.0",
          "state": {
            "_model_module": "@jupyter-widgets/controls",
            "_model_module_version": "1.5.0",
            "_model_name": "ProgressStyleModel",
            "_view_count": null,
            "_view_module": "@jupyter-widgets/base",
            "_view_module_version": "1.2.0",
            "_view_name": "StyleView",
            "bar_color": null,
            "description_width": ""
          }
        },
        "af5eda543aa6409cb92f8e287bff2107": {
          "model_module": "@jupyter-widgets/base",
          "model_name": "LayoutModel",
          "model_module_version": "1.2.0",
          "state": {
            "_model_module": "@jupyter-widgets/base",
            "_model_module_version": "1.2.0",
            "_model_name": "LayoutModel",
            "_view_count": null,
            "_view_module": "@jupyter-widgets/base",
            "_view_module_version": "1.2.0",
            "_view_name": "LayoutView",
            "align_content": null,
            "align_items": null,
            "align_self": null,
            "border": null,
            "bottom": null,
            "display": null,
            "flex": null,
            "flex_flow": null,
            "grid_area": null,
            "grid_auto_columns": null,
            "grid_auto_flow": null,
            "grid_auto_rows": null,
            "grid_column": null,
            "grid_gap": null,
            "grid_row": null,
            "grid_template_areas": null,
            "grid_template_columns": null,
            "grid_template_rows": null,
            "height": null,
            "justify_content": null,
            "justify_items": null,
            "left": null,
            "margin": null,
            "max_height": null,
            "max_width": null,
            "min_height": null,
            "min_width": null,
            "object_fit": null,
            "object_position": null,
            "order": null,
            "overflow": null,
            "overflow_x": null,
            "overflow_y": null,
            "padding": null,
            "right": null,
            "top": null,
            "visibility": null,
            "width": null
          }
        },
        "c3f4410b4b6f491f97ba97dfc1ad9376": {
          "model_module": "@jupyter-widgets/controls",
          "model_name": "DescriptionStyleModel",
          "model_module_version": "1.5.0",
          "state": {
            "_model_module": "@jupyter-widgets/controls",
            "_model_module_version": "1.5.0",
            "_model_name": "DescriptionStyleModel",
            "_view_count": null,
            "_view_module": "@jupyter-widgets/base",
            "_view_module_version": "1.2.0",
            "_view_name": "StyleView",
            "description_width": ""
          }
        }
      }
    }
  },
  "cells": [
    {
      "cell_type": "markdown",
      "source": [
        "### References : https://uvadlc-notebooks.readthedocs.io/en/latest/tutorial_notebooks/tutorial2/Introduction_to_PyTorch.html"
      ],
      "metadata": {
        "id": "XBbTSlybgZzy"
      }
    },
    {
      "cell_type": "markdown",
      "source": [
        "### Define a Model"
      ],
      "metadata": {
        "id": "j2lcT_4NeOwa"
      }
    },
    {
      "cell_type": "code",
      "source": [
        "## Standard libraries\n",
        "import os\n",
        "import math\n",
        "import numpy as np\n",
        "import time\n",
        "\n",
        "## Imports for plotting\n",
        "import matplotlib.pyplot as plt\n",
        "%matplotlib inline\n",
        "from IPython.display import set_matplotlib_formats\n",
        "set_matplotlib_formats('svg', 'pdf') # For export\n",
        "from matplotlib.colors import to_rgba\n",
        "import seaborn as sns\n",
        "sns.set()\n",
        "\n",
        "## Progress bar\n",
        "from tqdm.notebook import tqdm"
      ],
      "metadata": {
        "id": "Qkm3UYJoebT0"
      },
      "execution_count": 1,
      "outputs": []
    },
    {
      "cell_type": "code",
      "source": [
        "import torch\n",
        "torch.manual_seed(42) # Setting the seed\n",
        "import torch.nn as nn\n",
        "import torch.nn.functional as F"
      ],
      "metadata": {
        "id": "EIHDSYLhehil"
      },
      "execution_count": 2,
      "outputs": []
    },
    {
      "cell_type": "code",
      "source": [
        "class Classifier(nn.Module):\n",
        "  def __init__(self,num_inputs,num_outputs,num_hidden):\n",
        "    super().__init__()\n",
        "    self.linear1 = nn.Linear(num_inputs,num_hidden)\n",
        "    self.act_fn = nn.Tanh()\n",
        "    self.linear2 = nn.Linear(num_hidden, num_outputs)\n",
        "\n",
        "  def forward(self,x):\n",
        "    x = self.linear1(x)\n",
        "    x = self.act_fn(x)\n",
        "    x = self.linear2(x)\n",
        "\n",
        "    return x\n"
      ],
      "metadata": {
        "id": "vG10X8qteRqW"
      },
      "execution_count": 3,
      "outputs": []
    },
    {
      "cell_type": "code",
      "source": [
        "model = Classifier(num_inputs=2, num_outputs=1,num_hidden=4)\n",
        "# Printing a module shows all its submodules\n",
        "print(model)"
      ],
      "metadata": {
        "colab": {
          "base_uri": "https://localhost:8080/"
        },
        "id": "savgrOLmfb2q",
        "outputId": "8b105922-59cf-4250-ef1d-c21d3788b80f"
      },
      "execution_count": 4,
      "outputs": [
        {
          "output_type": "stream",
          "name": "stdout",
          "text": [
            "Classifier(\n",
            "  (linear1): Linear(in_features=2, out_features=4, bias=True)\n",
            "  (act_fn): Tanh()\n",
            "  (linear2): Linear(in_features=4, out_features=1, bias=True)\n",
            ")\n"
          ]
        }
      ]
    },
    {
      "cell_type": "code",
      "source": [
        "for name, param in model.named_parameters():\n",
        "    print(f\"Parameter {name}, shape {param.shape}\")"
      ],
      "metadata": {
        "colab": {
          "base_uri": "https://localhost:8080/"
        },
        "id": "H0BpYC2XfiDe",
        "outputId": "7319fde6-148d-40b3-d2bf-90599b178de6"
      },
      "execution_count": 5,
      "outputs": [
        {
          "output_type": "stream",
          "name": "stdout",
          "text": [
            "Parameter linear1.weight, shape torch.Size([4, 2])\n",
            "Parameter linear1.bias, shape torch.Size([4])\n",
            "Parameter linear2.weight, shape torch.Size([1, 4])\n",
            "Parameter linear2.bias, shape torch.Size([1])\n"
          ]
        }
      ]
    },
    {
      "cell_type": "markdown",
      "source": [
        "### Make Datasets"
      ],
      "metadata": {
        "id": "-Idxl7ArgXVF"
      }
    },
    {
      "cell_type": "code",
      "source": [
        "import torch.utils.data as data"
      ],
      "metadata": {
        "id": "Awzm-q64flYt"
      },
      "execution_count": 6,
      "outputs": []
    },
    {
      "cell_type": "code",
      "source": [
        "class XORDataset(data.Dataset):\n",
        "  def __init__(self,size,std = 0.1):\n",
        "    super().__init__()\n",
        "    self.size = size\n",
        "    self.std = std  \n",
        "    self.generate_continuous_xor()\n",
        "\n",
        "  def generate_continuous_xor(self):\n",
        "    data = torch.randint(low = 0,high=2,size = (self.size,2),dtype = torch.float32)\n",
        "    label = (data.sum(dim=1) == 1).to(torch.long)\n",
        "    data += self.std * torch.randn(data.shape)\n",
        "\n",
        "    self.data = data\n",
        "    self.label = label  \n",
        "\n",
        "  def __len__(self):\n",
        "    return self.size  \n",
        "  \n",
        "\n",
        "  def __getitem__(self,idx):\n",
        "    data_point = self.data[idx]\n",
        "    data_label = self.label[idx]\n",
        "    return data_point, data_label\n"
      ],
      "metadata": {
        "id": "PDz94oVIfrmh"
      },
      "execution_count": 7,
      "outputs": []
    },
    {
      "cell_type": "code",
      "source": [
        "dataset = XORDataset(size=200)\n",
        "print(\"Size of dataset:\", len(dataset))\n",
        "print(\"Data point 0:\", dataset[0])"
      ],
      "metadata": {
        "colab": {
          "base_uri": "https://localhost:8080/"
        },
        "id": "nBW7pSwVk919",
        "outputId": "3c56d113-4b51-41ab-c4be-121f38f69665"
      },
      "execution_count": 8,
      "outputs": [
        {
          "output_type": "stream",
          "name": "stdout",
          "text": [
            "Size of dataset: 200\n",
            "Data point 0: (tensor([0.8675, 0.9484]), tensor(0))\n"
          ]
        }
      ]
    },
    {
      "cell_type": "code",
      "source": [
        "def visualize_samples(data, label):\n",
        "    if isinstance(data, torch.Tensor):\n",
        "        data = data.cpu().numpy()\n",
        "    if isinstance(label, torch.Tensor):\n",
        "        label = label.cpu().numpy()\n",
        "    data_0 = data[label == 0]\n",
        "    data_1 = data[label == 1]\n",
        "\n",
        "    plt.figure(figsize=(4,4))\n",
        "    plt.scatter(data_0[:,0], data_0[:,1], edgecolor=\"#333\", label=\"Class 0\")\n",
        "    plt.scatter(data_1[:,0], data_1[:,1], edgecolor=\"#333\", label=\"Class 1\")\n",
        "    plt.title(\"Dataset samples\")\n",
        "    plt.ylabel(r\"$x_2$\")\n",
        "    plt.xlabel(r\"$x_1$\")\n",
        "    plt.legend()"
      ],
      "metadata": {
        "id": "eDCDYC7wk_3U"
      },
      "execution_count": 9,
      "outputs": []
    },
    {
      "cell_type": "code",
      "source": [
        "visualize_samples(dataset.data, dataset.label)\n",
        "plt.show()"
      ],
      "metadata": {
        "colab": {
          "base_uri": "https://localhost:8080/",
          "height": 398
        },
        "id": "Ua7HAMl9lMgF",
        "outputId": "ec8903ec-74bd-464f-84b3-cbd353b413c0"
      },
      "execution_count": 10,
      "outputs": [
        {
          "output_type": "display_data",
          "data": {
            "text/plain": [
              "<Figure size 288x288 with 1 Axes>"
            ],
            "image/svg+xml": "<?xml version=\"1.0\" encoding=\"utf-8\" standalone=\"no\"?>\n<!DOCTYPE svg PUBLIC \"-//W3C//DTD SVG 1.1//EN\"\n  \"http://www.w3.org/Graphics/SVG/1.1/DTD/svg11.dtd\">\n<!-- Created with matplotlib (https://matplotlib.org/) -->\n<svg height=\"282.717813pt\" version=\"1.1\" viewBox=\"0 0 289.424844 282.717813\" width=\"289.424844pt\" xmlns=\"http://www.w3.org/2000/svg\" xmlns:xlink=\"http://www.w3.org/1999/xlink\">\n <defs>\n  <style type=\"text/css\">\n*{stroke-linecap:butt;stroke-linejoin:round;}\n  </style>\n </defs>\n <g id=\"figure_1\">\n  <g id=\"patch_1\">\n   <path d=\"M 0 282.717813 \nL 289.424844 282.717813 \nL 289.424844 0 \nL 0 0 \nz\n\" style=\"fill:#ffffff;\"/>\n  </g>\n  <g id=\"axes_1\">\n   <g id=\"patch_2\">\n    <path d=\"M 59.024844 239.758125 \nL 282.224844 239.758125 \nL 282.224844 22.318125 \nL 59.024844 22.318125 \nz\n\" style=\"fill:#eaeaf2;\"/>\n   </g>\n   <g id=\"matplotlib.axis_1\">\n    <g id=\"xtick_1\">\n     <g id=\"line2d_1\">\n      <path clip-path=\"url(#p07aa7dc918)\" d=\"M 110.591586 239.758125 \nL 110.591586 22.318125 \n\" style=\"fill:none;stroke:#ffffff;stroke-linecap:round;\"/>\n     </g>\n     <g id=\"text_1\">\n      <!-- 0.0 -->\n      <defs>\n       <path d=\"M 31.78125 66.40625 \nQ 24.171875 66.40625 20.328125 58.90625 \nQ 16.5 51.421875 16.5 36.375 \nQ 16.5 21.390625 20.328125 13.890625 \nQ 24.171875 6.390625 31.78125 6.390625 \nQ 39.453125 6.390625 43.28125 13.890625 \nQ 47.125 21.390625 47.125 36.375 \nQ 47.125 51.421875 43.28125 58.90625 \nQ 39.453125 66.40625 31.78125 66.40625 \nz\nM 31.78125 74.21875 \nQ 44.046875 74.21875 50.515625 64.515625 \nQ 56.984375 54.828125 56.984375 36.375 \nQ 56.984375 17.96875 50.515625 8.265625 \nQ 44.046875 -1.421875 31.78125 -1.421875 \nQ 19.53125 -1.421875 13.0625 8.265625 \nQ 6.59375 17.96875 6.59375 36.375 \nQ 6.59375 54.828125 13.0625 64.515625 \nQ 19.53125 74.21875 31.78125 74.21875 \nz\n\" id=\"DejaVuSans-48\"/>\n       <path d=\"M 10.6875 12.40625 \nL 21 12.40625 \nL 21 0 \nL 10.6875 0 \nz\n\" id=\"DejaVuSans-46\"/>\n      </defs>\n      <g style=\"fill:#262626;\" transform=\"translate(101.844867 257.616406)scale(0.11 -0.11)\">\n       <use xlink:href=\"#DejaVuSans-48\"/>\n       <use x=\"63.623047\" xlink:href=\"#DejaVuSans-46\"/>\n       <use x=\"95.410156\" xlink:href=\"#DejaVuSans-48\"/>\n      </g>\n     </g>\n    </g>\n    <g id=\"xtick_2\">\n     <g id=\"line2d_2\">\n      <path clip-path=\"url(#p07aa7dc918)\" d=\"M 177.365519 239.758125 \nL 177.365519 22.318125 \n\" style=\"fill:none;stroke:#ffffff;stroke-linecap:round;\"/>\n     </g>\n     <g id=\"text_2\">\n      <!-- 0.5 -->\n      <defs>\n       <path d=\"M 10.796875 72.90625 \nL 49.515625 72.90625 \nL 49.515625 64.59375 \nL 19.828125 64.59375 \nL 19.828125 46.734375 \nQ 21.96875 47.46875 24.109375 47.828125 \nQ 26.265625 48.1875 28.421875 48.1875 \nQ 40.625 48.1875 47.75 41.5 \nQ 54.890625 34.8125 54.890625 23.390625 \nQ 54.890625 11.625 47.5625 5.09375 \nQ 40.234375 -1.421875 26.90625 -1.421875 \nQ 22.3125 -1.421875 17.546875 -0.640625 \nQ 12.796875 0.140625 7.71875 1.703125 \nL 7.71875 11.625 \nQ 12.109375 9.234375 16.796875 8.0625 \nQ 21.484375 6.890625 26.703125 6.890625 \nQ 35.15625 6.890625 40.078125 11.328125 \nQ 45.015625 15.765625 45.015625 23.390625 \nQ 45.015625 31 40.078125 35.4375 \nQ 35.15625 39.890625 26.703125 39.890625 \nQ 22.75 39.890625 18.8125 39.015625 \nQ 14.890625 38.140625 10.796875 36.28125 \nz\n\" id=\"DejaVuSans-53\"/>\n      </defs>\n      <g style=\"fill:#262626;\" transform=\"translate(168.618801 257.616406)scale(0.11 -0.11)\">\n       <use xlink:href=\"#DejaVuSans-48\"/>\n       <use x=\"63.623047\" xlink:href=\"#DejaVuSans-46\"/>\n       <use x=\"95.410156\" xlink:href=\"#DejaVuSans-53\"/>\n      </g>\n     </g>\n    </g>\n    <g id=\"xtick_3\">\n     <g id=\"line2d_3\">\n      <path clip-path=\"url(#p07aa7dc918)\" d=\"M 244.139453 239.758125 \nL 244.139453 22.318125 \n\" style=\"fill:none;stroke:#ffffff;stroke-linecap:round;\"/>\n     </g>\n     <g id=\"text_3\">\n      <!-- 1.0 -->\n      <defs>\n       <path d=\"M 12.40625 8.296875 \nL 28.515625 8.296875 \nL 28.515625 63.921875 \nL 10.984375 60.40625 \nL 10.984375 69.390625 \nL 28.421875 72.90625 \nL 38.28125 72.90625 \nL 38.28125 8.296875 \nL 54.390625 8.296875 \nL 54.390625 0 \nL 12.40625 0 \nz\n\" id=\"DejaVuSans-49\"/>\n      </defs>\n      <g style=\"fill:#262626;\" transform=\"translate(235.392734 257.616406)scale(0.11 -0.11)\">\n       <use xlink:href=\"#DejaVuSans-49\"/>\n       <use x=\"63.623047\" xlink:href=\"#DejaVuSans-46\"/>\n       <use x=\"95.410156\" xlink:href=\"#DejaVuSans-48\"/>\n      </g>\n     </g>\n    </g>\n    <g id=\"text_4\">\n     <!-- $x_1$ -->\n     <defs>\n      <path d=\"M 60.015625 54.6875 \nL 34.90625 27.875 \nL 50.296875 0 \nL 39.984375 0 \nL 28.421875 21.6875 \nL 8.296875 0 \nL -2.59375 0 \nL 24.3125 28.8125 \nL 10.015625 54.6875 \nL 20.3125 54.6875 \nL 30.8125 34.90625 \nL 49.125 54.6875 \nz\n\" id=\"DejaVuSans-Oblique-120\"/>\n     </defs>\n     <g style=\"fill:#262626;\" transform=\"translate(164.204844 273.022188)scale(0.12 -0.12)\">\n      <use transform=\"translate(0 0.3125)\" xlink:href=\"#DejaVuSans-Oblique-120\"/>\n      <use transform=\"translate(59.179688 -16.09375)scale(0.7)\" xlink:href=\"#DejaVuSans-49\"/>\n     </g>\n    </g>\n   </g>\n   <g id=\"matplotlib.axis_2\">\n    <g id=\"ytick_1\">\n     <g id=\"line2d_4\">\n      <path clip-path=\"url(#p07aa7dc918)\" d=\"M 59.024844 226.111531 \nL 282.224844 226.111531 \n\" style=\"fill:none;stroke:#ffffff;stroke-linecap:round;\"/>\n     </g>\n     <g id=\"text_5\">\n      <!-- −0.2 -->\n      <defs>\n       <path d=\"M 10.59375 35.5 \nL 73.1875 35.5 \nL 73.1875 27.203125 \nL 10.59375 27.203125 \nz\n\" id=\"DejaVuSans-8722\"/>\n       <path d=\"M 19.1875 8.296875 \nL 53.609375 8.296875 \nL 53.609375 0 \nL 7.328125 0 \nL 7.328125 8.296875 \nQ 12.9375 14.109375 22.625 23.890625 \nQ 32.328125 33.6875 34.8125 36.53125 \nQ 39.546875 41.84375 41.421875 45.53125 \nQ 43.3125 49.21875 43.3125 52.78125 \nQ 43.3125 58.59375 39.234375 62.25 \nQ 35.15625 65.921875 28.609375 65.921875 \nQ 23.96875 65.921875 18.8125 64.3125 \nQ 13.671875 62.703125 7.8125 59.421875 \nL 7.8125 69.390625 \nQ 13.765625 71.78125 18.9375 73 \nQ 24.125 74.21875 28.421875 74.21875 \nQ 39.75 74.21875 46.484375 68.546875 \nQ 53.21875 62.890625 53.21875 53.421875 \nQ 53.21875 48.921875 51.53125 44.890625 \nQ 49.859375 40.875 45.40625 35.40625 \nQ 44.1875 33.984375 37.640625 27.21875 \nQ 31.109375 20.453125 19.1875 8.296875 \nz\n\" id=\"DejaVuSans-50\"/>\n      </defs>\n      <g style=\"fill:#262626;\" transform=\"translate(22.81375 230.290671)scale(0.11 -0.11)\">\n       <use xlink:href=\"#DejaVuSans-8722\"/>\n       <use x=\"83.789062\" xlink:href=\"#DejaVuSans-48\"/>\n       <use x=\"147.412109\" xlink:href=\"#DejaVuSans-46\"/>\n       <use x=\"179.199219\" xlink:href=\"#DejaVuSans-50\"/>\n      </g>\n     </g>\n    </g>\n    <g id=\"ytick_2\">\n     <g id=\"line2d_5\">\n      <path clip-path=\"url(#p07aa7dc918)\" d=\"M 59.024844 199.967512 \nL 282.224844 199.967512 \n\" style=\"fill:none;stroke:#ffffff;stroke-linecap:round;\"/>\n     </g>\n     <g id=\"text_6\">\n      <!-- 0.0 -->\n      <g style=\"fill:#262626;\" transform=\"translate(32.031406 204.146653)scale(0.11 -0.11)\">\n       <use xlink:href=\"#DejaVuSans-48\"/>\n       <use x=\"63.623047\" xlink:href=\"#DejaVuSans-46\"/>\n       <use x=\"95.410156\" xlink:href=\"#DejaVuSans-48\"/>\n      </g>\n     </g>\n    </g>\n    <g id=\"ytick_3\">\n     <g id=\"line2d_6\">\n      <path clip-path=\"url(#p07aa7dc918)\" d=\"M 59.024844 173.823494 \nL 282.224844 173.823494 \n\" style=\"fill:none;stroke:#ffffff;stroke-linecap:round;\"/>\n     </g>\n     <g id=\"text_7\">\n      <!-- 0.2 -->\n      <g style=\"fill:#262626;\" transform=\"translate(32.031406 178.002635)scale(0.11 -0.11)\">\n       <use xlink:href=\"#DejaVuSans-48\"/>\n       <use x=\"63.623047\" xlink:href=\"#DejaVuSans-46\"/>\n       <use x=\"95.410156\" xlink:href=\"#DejaVuSans-50\"/>\n      </g>\n     </g>\n    </g>\n    <g id=\"ytick_4\">\n     <g id=\"line2d_7\">\n      <path clip-path=\"url(#p07aa7dc918)\" d=\"M 59.024844 147.679476 \nL 282.224844 147.679476 \n\" style=\"fill:none;stroke:#ffffff;stroke-linecap:round;\"/>\n     </g>\n     <g id=\"text_8\">\n      <!-- 0.4 -->\n      <defs>\n       <path d=\"M 37.796875 64.3125 \nL 12.890625 25.390625 \nL 37.796875 25.390625 \nz\nM 35.203125 72.90625 \nL 47.609375 72.90625 \nL 47.609375 25.390625 \nL 58.015625 25.390625 \nL 58.015625 17.1875 \nL 47.609375 17.1875 \nL 47.609375 0 \nL 37.796875 0 \nL 37.796875 17.1875 \nL 4.890625 17.1875 \nL 4.890625 26.703125 \nz\n\" id=\"DejaVuSans-52\"/>\n      </defs>\n      <g style=\"fill:#262626;\" transform=\"translate(32.031406 151.858617)scale(0.11 -0.11)\">\n       <use xlink:href=\"#DejaVuSans-48\"/>\n       <use x=\"63.623047\" xlink:href=\"#DejaVuSans-46\"/>\n       <use x=\"95.410156\" xlink:href=\"#DejaVuSans-52\"/>\n      </g>\n     </g>\n    </g>\n    <g id=\"ytick_5\">\n     <g id=\"line2d_8\">\n      <path clip-path=\"url(#p07aa7dc918)\" d=\"M 59.024844 121.535458 \nL 282.224844 121.535458 \n\" style=\"fill:none;stroke:#ffffff;stroke-linecap:round;\"/>\n     </g>\n     <g id=\"text_9\">\n      <!-- 0.6 -->\n      <defs>\n       <path d=\"M 33.015625 40.375 \nQ 26.375 40.375 22.484375 35.828125 \nQ 18.609375 31.296875 18.609375 23.390625 \nQ 18.609375 15.53125 22.484375 10.953125 \nQ 26.375 6.390625 33.015625 6.390625 \nQ 39.65625 6.390625 43.53125 10.953125 \nQ 47.40625 15.53125 47.40625 23.390625 \nQ 47.40625 31.296875 43.53125 35.828125 \nQ 39.65625 40.375 33.015625 40.375 \nz\nM 52.59375 71.296875 \nL 52.59375 62.3125 \nQ 48.875 64.0625 45.09375 64.984375 \nQ 41.3125 65.921875 37.59375 65.921875 \nQ 27.828125 65.921875 22.671875 59.328125 \nQ 17.53125 52.734375 16.796875 39.40625 \nQ 19.671875 43.65625 24.015625 45.921875 \nQ 28.375 48.1875 33.59375 48.1875 \nQ 44.578125 48.1875 50.953125 41.515625 \nQ 57.328125 34.859375 57.328125 23.390625 \nQ 57.328125 12.15625 50.6875 5.359375 \nQ 44.046875 -1.421875 33.015625 -1.421875 \nQ 20.359375 -1.421875 13.671875 8.265625 \nQ 6.984375 17.96875 6.984375 36.375 \nQ 6.984375 53.65625 15.1875 63.9375 \nQ 23.390625 74.21875 37.203125 74.21875 \nQ 40.921875 74.21875 44.703125 73.484375 \nQ 48.484375 72.75 52.59375 71.296875 \nz\n\" id=\"DejaVuSans-54\"/>\n      </defs>\n      <g style=\"fill:#262626;\" transform=\"translate(32.031406 125.714599)scale(0.11 -0.11)\">\n       <use xlink:href=\"#DejaVuSans-48\"/>\n       <use x=\"63.623047\" xlink:href=\"#DejaVuSans-46\"/>\n       <use x=\"95.410156\" xlink:href=\"#DejaVuSans-54\"/>\n      </g>\n     </g>\n    </g>\n    <g id=\"ytick_6\">\n     <g id=\"line2d_9\">\n      <path clip-path=\"url(#p07aa7dc918)\" d=\"M 59.024844 95.39144 \nL 282.224844 95.39144 \n\" style=\"fill:none;stroke:#ffffff;stroke-linecap:round;\"/>\n     </g>\n     <g id=\"text_10\">\n      <!-- 0.8 -->\n      <defs>\n       <path d=\"M 31.78125 34.625 \nQ 24.75 34.625 20.71875 30.859375 \nQ 16.703125 27.09375 16.703125 20.515625 \nQ 16.703125 13.921875 20.71875 10.15625 \nQ 24.75 6.390625 31.78125 6.390625 \nQ 38.8125 6.390625 42.859375 10.171875 \nQ 46.921875 13.96875 46.921875 20.515625 \nQ 46.921875 27.09375 42.890625 30.859375 \nQ 38.875 34.625 31.78125 34.625 \nz\nM 21.921875 38.8125 \nQ 15.578125 40.375 12.03125 44.71875 \nQ 8.5 49.078125 8.5 55.328125 \nQ 8.5 64.0625 14.71875 69.140625 \nQ 20.953125 74.21875 31.78125 74.21875 \nQ 42.671875 74.21875 48.875 69.140625 \nQ 55.078125 64.0625 55.078125 55.328125 \nQ 55.078125 49.078125 51.53125 44.71875 \nQ 48 40.375 41.703125 38.8125 \nQ 48.828125 37.15625 52.796875 32.3125 \nQ 56.78125 27.484375 56.78125 20.515625 \nQ 56.78125 9.90625 50.3125 4.234375 \nQ 43.84375 -1.421875 31.78125 -1.421875 \nQ 19.734375 -1.421875 13.25 4.234375 \nQ 6.78125 9.90625 6.78125 20.515625 \nQ 6.78125 27.484375 10.78125 32.3125 \nQ 14.796875 37.15625 21.921875 38.8125 \nz\nM 18.3125 54.390625 \nQ 18.3125 48.734375 21.84375 45.5625 \nQ 25.390625 42.390625 31.78125 42.390625 \nQ 38.140625 42.390625 41.71875 45.5625 \nQ 45.3125 48.734375 45.3125 54.390625 \nQ 45.3125 60.0625 41.71875 63.234375 \nQ 38.140625 66.40625 31.78125 66.40625 \nQ 25.390625 66.40625 21.84375 63.234375 \nQ 18.3125 60.0625 18.3125 54.390625 \nz\n\" id=\"DejaVuSans-56\"/>\n      </defs>\n      <g style=\"fill:#262626;\" transform=\"translate(32.031406 99.570581)scale(0.11 -0.11)\">\n       <use xlink:href=\"#DejaVuSans-48\"/>\n       <use x=\"63.623047\" xlink:href=\"#DejaVuSans-46\"/>\n       <use x=\"95.410156\" xlink:href=\"#DejaVuSans-56\"/>\n      </g>\n     </g>\n    </g>\n    <g id=\"ytick_7\">\n     <g id=\"line2d_10\">\n      <path clip-path=\"url(#p07aa7dc918)\" d=\"M 59.024844 69.247422 \nL 282.224844 69.247422 \n\" style=\"fill:none;stroke:#ffffff;stroke-linecap:round;\"/>\n     </g>\n     <g id=\"text_11\">\n      <!-- 1.0 -->\n      <g style=\"fill:#262626;\" transform=\"translate(32.031406 73.426563)scale(0.11 -0.11)\">\n       <use xlink:href=\"#DejaVuSans-49\"/>\n       <use x=\"63.623047\" xlink:href=\"#DejaVuSans-46\"/>\n       <use x=\"95.410156\" xlink:href=\"#DejaVuSans-48\"/>\n      </g>\n     </g>\n    </g>\n    <g id=\"ytick_8\">\n     <g id=\"line2d_11\">\n      <path clip-path=\"url(#p07aa7dc918)\" d=\"M 59.024844 43.103404 \nL 282.224844 43.103404 \n\" style=\"fill:none;stroke:#ffffff;stroke-linecap:round;\"/>\n     </g>\n     <g id=\"text_12\">\n      <!-- 1.2 -->\n      <g style=\"fill:#262626;\" transform=\"translate(32.031406 47.282544)scale(0.11 -0.11)\">\n       <use xlink:href=\"#DejaVuSans-49\"/>\n       <use x=\"63.623047\" xlink:href=\"#DejaVuSans-46\"/>\n       <use x=\"95.410156\" xlink:href=\"#DejaVuSans-50\"/>\n      </g>\n     </g>\n    </g>\n    <g id=\"text_13\">\n     <!-- $x_2$ -->\n     <g style=\"fill:#262626;\" transform=\"translate(16.318125 137.458125)rotate(-90)scale(0.12 -0.12)\">\n      <use transform=\"translate(0 0.3125)\" xlink:href=\"#DejaVuSans-Oblique-120\"/>\n      <use transform=\"translate(59.179688 -16.09375)scale(0.7)\" xlink:href=\"#DejaVuSans-50\"/>\n     </g>\n    </g>\n   </g>\n   <g id=\"PathCollection_1\">\n    <defs>\n     <path d=\"M 0 3 \nC 0.795609 3 1.55874 2.683901 2.12132 2.12132 \nC 2.683901 1.55874 3 0.795609 3 0 \nC 3 -0.795609 2.683901 -1.55874 2.12132 -2.12132 \nC 1.55874 -2.683901 0.795609 -3 0 -3 \nC -0.795609 -3 -1.55874 -2.683901 -2.12132 -2.12132 \nC -2.683901 -1.55874 -3 -0.795609 -3 0 \nC -3 0.795609 -2.683901 1.55874 -2.12132 2.12132 \nC -1.55874 2.683901 -0.795609 3 0 3 \nz\n\" id=\"m80e9a62778\" style=\"stroke:#333333;\"/>\n    </defs>\n    <g clip-path=\"url(#p07aa7dc918)\">\n     <use style=\"fill:#4c72b0;stroke:#333333;\" x=\"226.449846\" xlink:href=\"#m80e9a62778\" y=\"75.993651\"/>\n     <use style=\"fill:#4c72b0;stroke:#333333;\" x=\"222.16095\" xlink:href=\"#m80e9a62778\" y=\"78.345835\"/>\n     <use style=\"fill:#4c72b0;stroke:#333333;\" x=\"234.252978\" xlink:href=\"#m80e9a62778\" y=\"65.139138\"/>\n     <use style=\"fill:#4c72b0;stroke:#333333;\" x=\"246.029891\" xlink:href=\"#m80e9a62778\" y=\"55.720276\"/>\n     <use style=\"fill:#4c72b0;stroke:#333333;\" x=\"259.318676\" xlink:href=\"#m80e9a62778\" y=\"75.284599\"/>\n     <use style=\"fill:#4c72b0;stroke:#333333;\" x=\"109.952008\" xlink:href=\"#m80e9a62778\" y=\"191.228088\"/>\n     <use style=\"fill:#4c72b0;stroke:#333333;\" x=\"124.520364\" xlink:href=\"#m80e9a62778\" y=\"190.549798\"/>\n     <use style=\"fill:#4c72b0;stroke:#333333;\" x=\"228.511529\" xlink:href=\"#m80e9a62778\" y=\"70.596267\"/>\n     <use style=\"fill:#4c72b0;stroke:#333333;\" x=\"260.024623\" xlink:href=\"#m80e9a62778\" y=\"59.303613\"/>\n     <use style=\"fill:#4c72b0;stroke:#333333;\" x=\"255.178371\" xlink:href=\"#m80e9a62778\" y=\"74.013529\"/>\n     <use style=\"fill:#4c72b0;stroke:#333333;\" x=\"108.97815\" xlink:href=\"#m80e9a62778\" y=\"206.281563\"/>\n     <use style=\"fill:#4c72b0;stroke:#333333;\" x=\"112.104655\" xlink:href=\"#m80e9a62778\" y=\"198.958996\"/>\n     <use style=\"fill:#4c72b0;stroke:#333333;\" x=\"98.267616\" xlink:href=\"#m80e9a62778\" y=\"216.464377\"/>\n     <use style=\"fill:#4c72b0;stroke:#333333;\" x=\"125.095595\" xlink:href=\"#m80e9a62778\" y=\"211.452434\"/>\n     <use style=\"fill:#4c72b0;stroke:#333333;\" x=\"235.008875\" xlink:href=\"#m80e9a62778\" y=\"68.384105\"/>\n     <use style=\"fill:#4c72b0;stroke:#333333;\" x=\"260.111212\" xlink:href=\"#m80e9a62778\" y=\"86.321473\"/>\n     <use style=\"fill:#4c72b0;stroke:#333333;\" x=\"234.558534\" xlink:href=\"#m80e9a62778\" y=\"32.201761\"/>\n     <use style=\"fill:#4c72b0;stroke:#333333;\" x=\"243.165004\" xlink:href=\"#m80e9a62778\" y=\"76.410295\"/>\n     <use style=\"fill:#4c72b0;stroke:#333333;\" x=\"228.8809\" xlink:href=\"#m80e9a62778\" y=\"75.113513\"/>\n     <use style=\"fill:#4c72b0;stroke:#333333;\" x=\"243.732741\" xlink:href=\"#m80e9a62778\" y=\"64.240432\"/>\n     <use style=\"fill:#4c72b0;stroke:#333333;\" x=\"243.541564\" xlink:href=\"#m80e9a62778\" y=\"99.469304\"/>\n     <use style=\"fill:#4c72b0;stroke:#333333;\" x=\"239.713302\" xlink:href=\"#m80e9a62778\" y=\"60.757091\"/>\n     <use style=\"fill:#4c72b0;stroke:#333333;\" x=\"111.859737\" xlink:href=\"#m80e9a62778\" y=\"209.805343\"/>\n     <use style=\"fill:#4c72b0;stroke:#333333;\" x=\"235.49584\" xlink:href=\"#m80e9a62778\" y=\"86.009157\"/>\n     <use style=\"fill:#4c72b0;stroke:#333333;\" x=\"270.385517\" xlink:href=\"#m80e9a62778\" y=\"84.627665\"/>\n     <use style=\"fill:#4c72b0;stroke:#333333;\" x=\"209.860464\" xlink:href=\"#m80e9a62778\" y=\"59.971363\"/>\n     <use style=\"fill:#4c72b0;stroke:#333333;\" x=\"255.088279\" xlink:href=\"#m80e9a62778\" y=\"61.123869\"/>\n     <use style=\"fill:#4c72b0;stroke:#333333;\" x=\"246.974735\" xlink:href=\"#m80e9a62778\" y=\"78.727261\"/>\n     <use style=\"fill:#4c72b0;stroke:#333333;\" x=\"105.427814\" xlink:href=\"#m80e9a62778\" y=\"223.375257\"/>\n     <use style=\"fill:#4c72b0;stroke:#333333;\" x=\"245.385363\" xlink:href=\"#m80e9a62778\" y=\"94.283678\"/>\n     <use style=\"fill:#4c72b0;stroke:#333333;\" x=\"226.881982\" xlink:href=\"#m80e9a62778\" y=\"59.231074\"/>\n     <use style=\"fill:#4c72b0;stroke:#333333;\" x=\"119.21077\" xlink:href=\"#m80e9a62778\" y=\"195.348962\"/>\n     <use style=\"fill:#4c72b0;stroke:#333333;\" x=\"75.234947\" xlink:href=\"#m80e9a62778\" y=\"219.020445\"/>\n     <use style=\"fill:#4c72b0;stroke:#333333;\" x=\"97.62091\" xlink:href=\"#m80e9a62778\" y=\"196.810612\"/>\n     <use style=\"fill:#4c72b0;stroke:#333333;\" x=\"108.200288\" xlink:href=\"#m80e9a62778\" y=\"184.290456\"/>\n     <use style=\"fill:#4c72b0;stroke:#333333;\" x=\"236.024492\" xlink:href=\"#m80e9a62778\" y=\"69.839079\"/>\n     <use style=\"fill:#4c72b0;stroke:#333333;\" x=\"108.917542\" xlink:href=\"#m80e9a62778\" y=\"217.821456\"/>\n     <use style=\"fill:#4c72b0;stroke:#333333;\" x=\"125.438717\" xlink:href=\"#m80e9a62778\" y=\"208.108716\"/>\n     <use style=\"fill:#4c72b0;stroke:#333333;\" x=\"132.537703\" xlink:href=\"#m80e9a62778\" y=\"193.218954\"/>\n     <use style=\"fill:#4c72b0;stroke:#333333;\" x=\"93.856676\" xlink:href=\"#m80e9a62778\" y=\"185.341641\"/>\n     <use style=\"fill:#4c72b0;stroke:#333333;\" x=\"249.218234\" xlink:href=\"#m80e9a62778\" y=\"66.646346\"/>\n     <use style=\"fill:#4c72b0;stroke:#333333;\" x=\"104.580907\" xlink:href=\"#m80e9a62778\" y=\"202.240361\"/>\n     <use style=\"fill:#4c72b0;stroke:#333333;\" x=\"252.824561\" xlink:href=\"#m80e9a62778\" y=\"54.002354\"/>\n     <use style=\"fill:#4c72b0;stroke:#333333;\" x=\"110.817762\" xlink:href=\"#m80e9a62778\" y=\"193.005533\"/>\n     <use style=\"fill:#4c72b0;stroke:#333333;\" x=\"236.079369\" xlink:href=\"#m80e9a62778\" y=\"71.525344\"/>\n     <use style=\"fill:#4c72b0;stroke:#333333;\" x=\"95.622199\" xlink:href=\"#m80e9a62778\" y=\"197.410096\"/>\n     <use style=\"fill:#4c72b0;stroke:#333333;\" x=\"100.154578\" xlink:href=\"#m80e9a62778\" y=\"223.364828\"/>\n     <use style=\"fill:#4c72b0;stroke:#333333;\" x=\"139.769519\" xlink:href=\"#m80e9a62778\" y=\"187.194179\"/>\n     <use style=\"fill:#4c72b0;stroke:#333333;\" x=\"111.044243\" xlink:href=\"#m80e9a62778\" y=\"204.049823\"/>\n     <use style=\"fill:#4c72b0;stroke:#333333;\" x=\"97.84831\" xlink:href=\"#m80e9a62778\" y=\"188.21932\"/>\n     <use style=\"fill:#4c72b0;stroke:#333333;\" x=\"111.730229\" xlink:href=\"#m80e9a62778\" y=\"190.188013\"/>\n     <use style=\"fill:#4c72b0;stroke:#333333;\" x=\"241.955121\" xlink:href=\"#m80e9a62778\" y=\"81.124082\"/>\n     <use style=\"fill:#4c72b0;stroke:#333333;\" x=\"95.722894\" xlink:href=\"#m80e9a62778\" y=\"193.094261\"/>\n     <use style=\"fill:#4c72b0;stroke:#333333;\" x=\"252.510473\" xlink:href=\"#m80e9a62778\" y=\"75.752215\"/>\n     <use style=\"fill:#4c72b0;stroke:#333333;\" x=\"141.653564\" xlink:href=\"#m80e9a62778\" y=\"211.998872\"/>\n     <use style=\"fill:#4c72b0;stroke:#333333;\" x=\"119.487408\" xlink:href=\"#m80e9a62778\" y=\"205.722659\"/>\n     <use style=\"fill:#4c72b0;stroke:#333333;\" x=\"79.635771\" xlink:href=\"#m80e9a62778\" y=\"183.044715\"/>\n     <use style=\"fill:#4c72b0;stroke:#333333;\" x=\"109.542043\" xlink:href=\"#m80e9a62778\" y=\"194.332877\"/>\n     <use style=\"fill:#4c72b0;stroke:#333333;\" x=\"259.887709\" xlink:href=\"#m80e9a62778\" y=\"68.162187\"/>\n     <use style=\"fill:#4c72b0;stroke:#333333;\" x=\"236.411893\" xlink:href=\"#m80e9a62778\" y=\"85.325085\"/>\n     <use style=\"fill:#4c72b0;stroke:#333333;\" x=\"238.945425\" xlink:href=\"#m80e9a62778\" y=\"58.624972\"/>\n     <use style=\"fill:#4c72b0;stroke:#333333;\" x=\"264.146508\" xlink:href=\"#m80e9a62778\" y=\"68.673607\"/>\n     <use style=\"fill:#4c72b0;stroke:#333333;\" x=\"250.903636\" xlink:href=\"#m80e9a62778\" y=\"81.244437\"/>\n     <use style=\"fill:#4c72b0;stroke:#333333;\" x=\"115.103428\" xlink:href=\"#m80e9a62778\" y=\"198.332778\"/>\n     <use style=\"fill:#4c72b0;stroke:#333333;\" x=\"120.949657\" xlink:href=\"#m80e9a62778\" y=\"212.304082\"/>\n     <use style=\"fill:#4c72b0;stroke:#333333;\" x=\"108.499671\" xlink:href=\"#m80e9a62778\" y=\"211.351213\"/>\n     <use style=\"fill:#4c72b0;stroke:#333333;\" x=\"102.029868\" xlink:href=\"#m80e9a62778\" y=\"192.942896\"/>\n     <use style=\"fill:#4c72b0;stroke:#333333;\" x=\"234.921473\" xlink:href=\"#m80e9a62778\" y=\"72.253408\"/>\n     <use style=\"fill:#4c72b0;stroke:#333333;\" x=\"81.581197\" xlink:href=\"#m80e9a62778\" y=\"198.821316\"/>\n     <use style=\"fill:#4c72b0;stroke:#333333;\" x=\"106.603269\" xlink:href=\"#m80e9a62778\" y=\"180.107187\"/>\n     <use style=\"fill:#4c72b0;stroke:#333333;\" x=\"242.904495\" xlink:href=\"#m80e9a62778\" y=\"82.537137\"/>\n     <use style=\"fill:#4c72b0;stroke:#333333;\" x=\"221.860354\" xlink:href=\"#m80e9a62778\" y=\"69.50843\"/>\n     <use style=\"fill:#4c72b0;stroke:#333333;\" x=\"236.502933\" xlink:href=\"#m80e9a62778\" y=\"43.769059\"/>\n     <use style=\"fill:#4c72b0;stroke:#333333;\" x=\"234.642138\" xlink:href=\"#m80e9a62778\" y=\"62.403939\"/>\n     <use style=\"fill:#4c72b0;stroke:#333333;\" x=\"106.987858\" xlink:href=\"#m80e9a62778\" y=\"198.35885\"/>\n     <use style=\"fill:#4c72b0;stroke:#333333;\" x=\"122.287056\" xlink:href=\"#m80e9a62778\" y=\"197.201133\"/>\n     <use style=\"fill:#4c72b0;stroke:#333333;\" x=\"147.066595\" xlink:href=\"#m80e9a62778\" y=\"194.320336\"/>\n     <use style=\"fill:#4c72b0;stroke:#333333;\" x=\"240.010388\" xlink:href=\"#m80e9a62778\" y=\"70.509929\"/>\n     <use style=\"fill:#4c72b0;stroke:#333333;\" x=\"264.731525\" xlink:href=\"#m80e9a62778\" y=\"89.048031\"/>\n     <use style=\"fill:#4c72b0;stroke:#333333;\" x=\"104.997208\" xlink:href=\"#m80e9a62778\" y=\"181.16423\"/>\n     <use style=\"fill:#4c72b0;stroke:#333333;\" x=\"150.990466\" xlink:href=\"#m80e9a62778\" y=\"182.369203\"/>\n     <use style=\"fill:#4c72b0;stroke:#333333;\" x=\"255.565899\" xlink:href=\"#m80e9a62778\" y=\"89.190032\"/>\n     <use style=\"fill:#4c72b0;stroke:#333333;\" x=\"261.240126\" xlink:href=\"#m80e9a62778\" y=\"70.765873\"/>\n     <use style=\"fill:#4c72b0;stroke:#333333;\" x=\"262.44267\" xlink:href=\"#m80e9a62778\" y=\"75.534247\"/>\n     <use style=\"fill:#4c72b0;stroke:#333333;\" x=\"110.701171\" xlink:href=\"#m80e9a62778\" y=\"205.272921\"/>\n     <use style=\"fill:#4c72b0;stroke:#333333;\" x=\"115.66305\" xlink:href=\"#m80e9a62778\" y=\"186.904601\"/>\n     <use style=\"fill:#4c72b0;stroke:#333333;\" x=\"261.169281\" xlink:href=\"#m80e9a62778\" y=\"52.640707\"/>\n     <use style=\"fill:#4c72b0;stroke:#333333;\" x=\"272.079389\" xlink:href=\"#m80e9a62778\" y=\"58.851128\"/>\n     <use style=\"fill:#4c72b0;stroke:#333333;\" x=\"117.682081\" xlink:href=\"#m80e9a62778\" y=\"217.764794\"/>\n     <use style=\"fill:#4c72b0;stroke:#333333;\" x=\"270.264747\" xlink:href=\"#m80e9a62778\" y=\"46.129704\"/>\n     <use style=\"fill:#4c72b0;stroke:#333333;\" x=\"79.850533\" xlink:href=\"#m80e9a62778\" y=\"192.030853\"/>\n     <use style=\"fill:#4c72b0;stroke:#333333;\" x=\"232.795552\" xlink:href=\"#m80e9a62778\" y=\"90.939011\"/>\n     <use style=\"fill:#4c72b0;stroke:#333333;\" x=\"121.253341\" xlink:href=\"#m80e9a62778\" y=\"175.274196\"/>\n     <use style=\"fill:#4c72b0;stroke:#333333;\" x=\"225.017725\" xlink:href=\"#m80e9a62778\" y=\"77.183791\"/>\n     <use style=\"fill:#4c72b0;stroke:#333333;\" x=\"238.986762\" xlink:href=\"#m80e9a62778\" y=\"68.605572\"/>\n     <use style=\"fill:#4c72b0;stroke:#333333;\" x=\"254.412866\" xlink:href=\"#m80e9a62778\" y=\"79.272247\"/>\n     <use style=\"fill:#4c72b0;stroke:#333333;\" x=\"97.911393\" xlink:href=\"#m80e9a62778\" y=\"192.344642\"/>\n     <use style=\"fill:#4c72b0;stroke:#333333;\" x=\"128.560251\" xlink:href=\"#m80e9a62778\" y=\"198.309696\"/>\n     <use style=\"fill:#4c72b0;stroke:#333333;\" x=\"77.844691\" xlink:href=\"#m80e9a62778\" y=\"194.529868\"/>\n     <use style=\"fill:#4c72b0;stroke:#333333;\" x=\"248.784745\" xlink:href=\"#m80e9a62778\" y=\"59.571813\"/>\n     <use style=\"fill:#4c72b0;stroke:#333333;\" x=\"263.052491\" xlink:href=\"#m80e9a62778\" y=\"60.314034\"/>\n     <use style=\"fill:#4c72b0;stroke:#333333;\" x=\"241.745676\" xlink:href=\"#m80e9a62778\" y=\"66.638788\"/>\n     <use style=\"fill:#4c72b0;stroke:#333333;\" x=\"227.496787\" xlink:href=\"#m80e9a62778\" y=\"63.972653\"/>\n     <use style=\"fill:#4c72b0;stroke:#333333;\" x=\"230.783318\" xlink:href=\"#m80e9a62778\" y=\"78.292634\"/>\n     <use style=\"fill:#4c72b0;stroke:#333333;\" x=\"104.28825\" xlink:href=\"#m80e9a62778\" y=\"216.823009\"/>\n     <use style=\"fill:#4c72b0;stroke:#333333;\" x=\"124.96509\" xlink:href=\"#m80e9a62778\" y=\"229.874489\"/>\n    </g>\n   </g>\n   <g id=\"PathCollection_2\">\n    <defs>\n     <path d=\"M 0 3 \nC 0.795609 3 1.55874 2.683901 2.12132 2.12132 \nC 2.683901 1.55874 3 0.795609 3 0 \nC 3 -0.795609 2.683901 -1.55874 2.12132 -2.12132 \nC 1.55874 -2.683901 0.795609 -3 0 -3 \nC -0.795609 -3 -1.55874 -2.683901 -2.12132 -2.12132 \nC -2.683901 -1.55874 -3 -0.795609 -3 0 \nC -3 0.795609 -2.683901 1.55874 -2.12132 2.12132 \nC -1.55874 2.683901 -0.795609 3 0 3 \nz\n\" id=\"m3a26b9a39a\" style=\"stroke:#333333;\"/>\n    </defs>\n    <g clip-path=\"url(#p07aa7dc918)\">\n     <use style=\"fill:#dd8452;stroke:#333333;\" x=\"118.606919\" xlink:href=\"#m3a26b9a39a\" y=\"75.394156\"/>\n     <use style=\"fill:#dd8452;stroke:#333333;\" x=\"102.463281\" xlink:href=\"#m3a26b9a39a\" y=\"69.851242\"/>\n     <use style=\"fill:#dd8452;stroke:#333333;\" x=\"235.773511\" xlink:href=\"#m3a26b9a39a\" y=\"206.700803\"/>\n     <use style=\"fill:#dd8452;stroke:#333333;\" x=\"119.810261\" xlink:href=\"#m3a26b9a39a\" y=\"42.576706\"/>\n     <use style=\"fill:#dd8452;stroke:#333333;\" x=\"129.555109\" xlink:href=\"#m3a26b9a39a\" y=\"58.155579\"/>\n     <use style=\"fill:#dd8452;stroke:#333333;\" x=\"93.05762\" xlink:href=\"#m3a26b9a39a\" y=\"68.753252\"/>\n     <use style=\"fill:#dd8452;stroke:#333333;\" x=\"100.624843\" xlink:href=\"#m3a26b9a39a\" y=\"76.859999\"/>\n     <use style=\"fill:#dd8452;stroke:#333333;\" x=\"250.641511\" xlink:href=\"#m3a26b9a39a\" y=\"213.066054\"/>\n     <use style=\"fill:#dd8452;stroke:#333333;\" x=\"244.57947\" xlink:href=\"#m3a26b9a39a\" y=\"205.577965\"/>\n     <use style=\"fill:#dd8452;stroke:#333333;\" x=\"231.027748\" xlink:href=\"#m3a26b9a39a\" y=\"208.360509\"/>\n     <use style=\"fill:#dd8452;stroke:#333333;\" x=\"110.581252\" xlink:href=\"#m3a26b9a39a\" y=\"67.128969\"/>\n     <use style=\"fill:#dd8452;stroke:#333333;\" x=\"225.389707\" xlink:href=\"#m3a26b9a39a\" y=\"198.722206\"/>\n     <use style=\"fill:#dd8452;stroke:#333333;\" x=\"248.222413\" xlink:href=\"#m3a26b9a39a\" y=\"194.541869\"/>\n     <use style=\"fill:#dd8452;stroke:#333333;\" x=\"270.227685\" xlink:href=\"#m3a26b9a39a\" y=\"173.187129\"/>\n     <use style=\"fill:#dd8452;stroke:#333333;\" x=\"229.608936\" xlink:href=\"#m3a26b9a39a\" y=\"226.737652\"/>\n     <use style=\"fill:#dd8452;stroke:#333333;\" x=\"255.507918\" xlink:href=\"#m3a26b9a39a\" y=\"205.202456\"/>\n     <use style=\"fill:#dd8452;stroke:#333333;\" x=\"236.0087\" xlink:href=\"#m3a26b9a39a\" y=\"206.60934\"/>\n     <use style=\"fill:#dd8452;stroke:#333333;\" x=\"102.331781\" xlink:href=\"#m3a26b9a39a\" y=\"90.777555\"/>\n     <use style=\"fill:#dd8452;stroke:#333333;\" x=\"96.753224\" xlink:href=\"#m3a26b9a39a\" y=\"81.941319\"/>\n     <use style=\"fill:#dd8452;stroke:#333333;\" x=\"116.243143\" xlink:href=\"#m3a26b9a39a\" y=\"73.677504\"/>\n     <use style=\"fill:#dd8452;stroke:#333333;\" x=\"117.50901\" xlink:href=\"#m3a26b9a39a\" y=\"92.070231\"/>\n     <use style=\"fill:#dd8452;stroke:#333333;\" x=\"246.716367\" xlink:href=\"#m3a26b9a39a\" y=\"207.945808\"/>\n     <use style=\"fill:#dd8452;stroke:#333333;\" x=\"246.319414\" xlink:href=\"#m3a26b9a39a\" y=\"180.226534\"/>\n     <use style=\"fill:#dd8452;stroke:#333333;\" x=\"97.867501\" xlink:href=\"#m3a26b9a39a\" y=\"80.264357\"/>\n     <use style=\"fill:#dd8452;stroke:#333333;\" x=\"104.396736\" xlink:href=\"#m3a26b9a39a\" y=\"66.863387\"/>\n     <use style=\"fill:#dd8452;stroke:#333333;\" x=\"102.015472\" xlink:href=\"#m3a26b9a39a\" y=\"78.074315\"/>\n     <use style=\"fill:#dd8452;stroke:#333333;\" x=\"104.859482\" xlink:href=\"#m3a26b9a39a\" y=\"56.040975\"/>\n     <use style=\"fill:#dd8452;stroke:#333333;\" x=\"118.751896\" xlink:href=\"#m3a26b9a39a\" y=\"53.288603\"/>\n     <use style=\"fill:#dd8452;stroke:#333333;\" x=\"233.600109\" xlink:href=\"#m3a26b9a39a\" y=\"202.161308\"/>\n     <use style=\"fill:#dd8452;stroke:#333333;\" x=\"267.821196\" xlink:href=\"#m3a26b9a39a\" y=\"227.048275\"/>\n     <use style=\"fill:#dd8452;stroke:#333333;\" x=\"238.630262\" xlink:href=\"#m3a26b9a39a\" y=\"212.738285\"/>\n     <use style=\"fill:#dd8452;stroke:#333333;\" x=\"243.690282\" xlink:href=\"#m3a26b9a39a\" y=\"210.402422\"/>\n     <use style=\"fill:#dd8452;stroke:#333333;\" x=\"145.609798\" xlink:href=\"#m3a26b9a39a\" y=\"64.423159\"/>\n     <use style=\"fill:#dd8452;stroke:#333333;\" x=\"107.438646\" xlink:href=\"#m3a26b9a39a\" y=\"65.281255\"/>\n     <use style=\"fill:#dd8452;stroke:#333333;\" x=\"252.275268\" xlink:href=\"#m3a26b9a39a\" y=\"197.020611\"/>\n     <use style=\"fill:#dd8452;stroke:#333333;\" x=\"107.098327\" xlink:href=\"#m3a26b9a39a\" y=\"75.002382\"/>\n     <use style=\"fill:#dd8452;stroke:#333333;\" x=\"93.401659\" xlink:href=\"#m3a26b9a39a\" y=\"59.588736\"/>\n     <use style=\"fill:#dd8452;stroke:#333333;\" x=\"240.744999\" xlink:href=\"#m3a26b9a39a\" y=\"215.726292\"/>\n     <use style=\"fill:#dd8452;stroke:#333333;\" x=\"248.319446\" xlink:href=\"#m3a26b9a39a\" y=\"189.443921\"/>\n     <use style=\"fill:#dd8452;stroke:#333333;\" x=\"228.114305\" xlink:href=\"#m3a26b9a39a\" y=\"198.305888\"/>\n     <use style=\"fill:#dd8452;stroke:#333333;\" x=\"116.47258\" xlink:href=\"#m3a26b9a39a\" y=\"60.91046\"/>\n     <use style=\"fill:#dd8452;stroke:#333333;\" x=\"112.725531\" xlink:href=\"#m3a26b9a39a\" y=\"46.112625\"/>\n     <use style=\"fill:#dd8452;stroke:#333333;\" x=\"113.565338\" xlink:href=\"#m3a26b9a39a\" y=\"86.141302\"/>\n     <use style=\"fill:#dd8452;stroke:#333333;\" x=\"132.612856\" xlink:href=\"#m3a26b9a39a\" y=\"48.324779\"/>\n     <use style=\"fill:#dd8452;stroke:#333333;\" x=\"115.510862\" xlink:href=\"#m3a26b9a39a\" y=\"59.263051\"/>\n     <use style=\"fill:#dd8452;stroke:#333333;\" x=\"251.062695\" xlink:href=\"#m3a26b9a39a\" y=\"209.138007\"/>\n     <use style=\"fill:#dd8452;stroke:#333333;\" x=\"238.36563\" xlink:href=\"#m3a26b9a39a\" y=\"198.118123\"/>\n     <use style=\"fill:#dd8452;stroke:#333333;\" x=\"111.54116\" xlink:href=\"#m3a26b9a39a\" y=\"61.883263\"/>\n     <use style=\"fill:#dd8452;stroke:#333333;\" x=\"263.428079\" xlink:href=\"#m3a26b9a39a\" y=\"196.934428\"/>\n     <use style=\"fill:#dd8452;stroke:#333333;\" x=\"110.078395\" xlink:href=\"#m3a26b9a39a\" y=\"44.230192\"/>\n     <use style=\"fill:#dd8452;stroke:#333333;\" x=\"233.961082\" xlink:href=\"#m3a26b9a39a\" y=\"215.530524\"/>\n     <use style=\"fill:#dd8452;stroke:#333333;\" x=\"113.934694\" xlink:href=\"#m3a26b9a39a\" y=\"87.039696\"/>\n     <use style=\"fill:#dd8452;stroke:#333333;\" x=\"134.654696\" xlink:href=\"#m3a26b9a39a\" y=\"70.21922\"/>\n     <use style=\"fill:#dd8452;stroke:#333333;\" x=\"258.746712\" xlink:href=\"#m3a26b9a39a\" y=\"201.506357\"/>\n     <use style=\"fill:#dd8452;stroke:#333333;\" x=\"244.036943\" xlink:href=\"#m3a26b9a39a\" y=\"206.7417\"/>\n     <use style=\"fill:#dd8452;stroke:#333333;\" x=\"121.803498\" xlink:href=\"#m3a26b9a39a\" y=\"68.482419\"/>\n     <use style=\"fill:#dd8452;stroke:#333333;\" x=\"223.864924\" xlink:href=\"#m3a26b9a39a\" y=\"198.154055\"/>\n     <use style=\"fill:#dd8452;stroke:#333333;\" x=\"228.384048\" xlink:href=\"#m3a26b9a39a\" y=\"206.892294\"/>\n     <use style=\"fill:#dd8452;stroke:#333333;\" x=\"256.99365\" xlink:href=\"#m3a26b9a39a\" y=\"196.314693\"/>\n     <use style=\"fill:#dd8452;stroke:#333333;\" x=\"87.747555\" xlink:href=\"#m3a26b9a39a\" y=\"58.286742\"/>\n     <use style=\"fill:#dd8452;stroke:#333333;\" x=\"254.013892\" xlink:href=\"#m3a26b9a39a\" y=\"196.397506\"/>\n     <use style=\"fill:#dd8452;stroke:#333333;\" x=\"234.699721\" xlink:href=\"#m3a26b9a39a\" y=\"216.333033\"/>\n     <use style=\"fill:#dd8452;stroke:#333333;\" x=\"116.548577\" xlink:href=\"#m3a26b9a39a\" y=\"49.339282\"/>\n     <use style=\"fill:#dd8452;stroke:#333333;\" x=\"97.365509\" xlink:href=\"#m3a26b9a39a\" y=\"85.139545\"/>\n     <use style=\"fill:#dd8452;stroke:#333333;\" x=\"234.643054\" xlink:href=\"#m3a26b9a39a\" y=\"204.537217\"/>\n     <use style=\"fill:#dd8452;stroke:#333333;\" x=\"111.97394\" xlink:href=\"#m3a26b9a39a\" y=\"58.410268\"/>\n     <use style=\"fill:#dd8452;stroke:#333333;\" x=\"247.869241\" xlink:href=\"#m3a26b9a39a\" y=\"197.530264\"/>\n     <use style=\"fill:#dd8452;stroke:#333333;\" x=\"115.328706\" xlink:href=\"#m3a26b9a39a\" y=\"67.616188\"/>\n     <use style=\"fill:#dd8452;stroke:#333333;\" x=\"267.406906\" xlink:href=\"#m3a26b9a39a\" y=\"216.516693\"/>\n     <use style=\"fill:#dd8452;stroke:#333333;\" x=\"115.788745\" xlink:href=\"#m3a26b9a39a\" y=\"64.765363\"/>\n     <use style=\"fill:#dd8452;stroke:#333333;\" x=\"91.106101\" xlink:href=\"#m3a26b9a39a\" y=\"88.772507\"/>\n     <use style=\"fill:#dd8452;stroke:#333333;\" x=\"241.182899\" xlink:href=\"#m3a26b9a39a\" y=\"198.386125\"/>\n     <use style=\"fill:#dd8452;stroke:#333333;\" x=\"109.55999\" xlink:href=\"#m3a26b9a39a\" y=\"56.362422\"/>\n     <use style=\"fill:#dd8452;stroke:#333333;\" x=\"261.211358\" xlink:href=\"#m3a26b9a39a\" y=\"196.200788\"/>\n     <use style=\"fill:#dd8452;stroke:#333333;\" x=\"255.74543\" xlink:href=\"#m3a26b9a39a\" y=\"210.551994\"/>\n     <use style=\"fill:#dd8452;stroke:#333333;\" x=\"225.04397\" xlink:href=\"#m3a26b9a39a\" y=\"201.903543\"/>\n     <use style=\"fill:#dd8452;stroke:#333333;\" x=\"97.426457\" xlink:href=\"#m3a26b9a39a\" y=\"85.41849\"/>\n     <use style=\"fill:#dd8452;stroke:#333333;\" x=\"114.682031\" xlink:href=\"#m3a26b9a39a\" y=\"53.795722\"/>\n     <use style=\"fill:#dd8452;stroke:#333333;\" x=\"248.49347\" xlink:href=\"#m3a26b9a39a\" y=\"205.058367\"/>\n     <use style=\"fill:#dd8452;stroke:#333333;\" x=\"148.71123\" xlink:href=\"#m3a26b9a39a\" y=\"64.921723\"/>\n     <use style=\"fill:#dd8452;stroke:#333333;\" x=\"252.065027\" xlink:href=\"#m3a26b9a39a\" y=\"199.056989\"/>\n     <use style=\"fill:#dd8452;stroke:#333333;\" x=\"89.178068\" xlink:href=\"#m3a26b9a39a\" y=\"74.866054\"/>\n     <use style=\"fill:#dd8452;stroke:#333333;\" x=\"251.83393\" xlink:href=\"#m3a26b9a39a\" y=\"191.040376\"/>\n     <use style=\"fill:#dd8452;stroke:#333333;\" x=\"69.170298\" xlink:href=\"#m3a26b9a39a\" y=\"88.315854\"/>\n     <use style=\"fill:#dd8452;stroke:#333333;\" x=\"240.670708\" xlink:href=\"#m3a26b9a39a\" y=\"209.36653\"/>\n     <use style=\"fill:#dd8452;stroke:#333333;\" x=\"99.624944\" xlink:href=\"#m3a26b9a39a\" y=\"75.402625\"/>\n     <use style=\"fill:#dd8452;stroke:#333333;\" x=\"118.626391\" xlink:href=\"#m3a26b9a39a\" y=\"72.94041\"/>\n     <use style=\"fill:#dd8452;stroke:#333333;\" x=\"245.211547\" xlink:href=\"#m3a26b9a39a\" y=\"190.23094\"/>\n     <use style=\"fill:#dd8452;stroke:#333333;\" x=\"135.999544\" xlink:href=\"#m3a26b9a39a\" y=\"86.926828\"/>\n     <use style=\"fill:#dd8452;stroke:#333333;\" x=\"244.735837\" xlink:href=\"#m3a26b9a39a\" y=\"219.851606\"/>\n     <use style=\"fill:#dd8452;stroke:#333333;\" x=\"108.745262\" xlink:href=\"#m3a26b9a39a\" y=\"56.353321\"/>\n     <use style=\"fill:#dd8452;stroke:#333333;\" x=\"251.194052\" xlink:href=\"#m3a26b9a39a\" y=\"200.075074\"/>\n     <use style=\"fill:#dd8452;stroke:#333333;\" x=\"91.236065\" xlink:href=\"#m3a26b9a39a\" y=\"77.158375\"/>\n     <use style=\"fill:#dd8452;stroke:#333333;\" x=\"263.582282\" xlink:href=\"#m3a26b9a39a\" y=\"195.632136\"/>\n    </g>\n   </g>\n   <g id=\"patch_3\">\n    <path d=\"M 59.024844 239.758125 \nL 59.024844 22.318125 \n\" style=\"fill:none;stroke:#ffffff;stroke-linecap:square;stroke-linejoin:miter;stroke-width:1.25;\"/>\n   </g>\n   <g id=\"patch_4\">\n    <path d=\"M 282.224844 239.758125 \nL 282.224844 22.318125 \n\" style=\"fill:none;stroke:#ffffff;stroke-linecap:square;stroke-linejoin:miter;stroke-width:1.25;\"/>\n   </g>\n   <g id=\"patch_5\">\n    <path d=\"M 59.024844 239.758125 \nL 282.224844 239.758125 \n\" style=\"fill:none;stroke:#ffffff;stroke-linecap:square;stroke-linejoin:miter;stroke-width:1.25;\"/>\n   </g>\n   <g id=\"patch_6\">\n    <path d=\"M 59.024844 22.318125 \nL 282.224844 22.318125 \n\" style=\"fill:none;stroke:#ffffff;stroke-linecap:square;stroke-linejoin:miter;stroke-width:1.25;\"/>\n   </g>\n   <g id=\"text_14\">\n    <!-- Dataset samples -->\n    <defs>\n     <path d=\"M 19.671875 64.796875 \nL 19.671875 8.109375 \nL 31.59375 8.109375 \nQ 46.6875 8.109375 53.6875 14.9375 \nQ 60.6875 21.78125 60.6875 36.53125 \nQ 60.6875 51.171875 53.6875 57.984375 \nQ 46.6875 64.796875 31.59375 64.796875 \nz\nM 9.8125 72.90625 \nL 30.078125 72.90625 \nQ 51.265625 72.90625 61.171875 64.09375 \nQ 71.09375 55.28125 71.09375 36.53125 \nQ 71.09375 17.671875 61.125 8.828125 \nQ 51.171875 0 30.078125 0 \nL 9.8125 0 \nz\n\" id=\"DejaVuSans-68\"/>\n     <path d=\"M 34.28125 27.484375 \nQ 23.390625 27.484375 19.1875 25 \nQ 14.984375 22.515625 14.984375 16.5 \nQ 14.984375 11.71875 18.140625 8.90625 \nQ 21.296875 6.109375 26.703125 6.109375 \nQ 34.1875 6.109375 38.703125 11.40625 \nQ 43.21875 16.703125 43.21875 25.484375 \nL 43.21875 27.484375 \nz\nM 52.203125 31.203125 \nL 52.203125 0 \nL 43.21875 0 \nL 43.21875 8.296875 \nQ 40.140625 3.328125 35.546875 0.953125 \nQ 30.953125 -1.421875 24.3125 -1.421875 \nQ 15.921875 -1.421875 10.953125 3.296875 \nQ 6 8.015625 6 15.921875 \nQ 6 25.140625 12.171875 29.828125 \nQ 18.359375 34.515625 30.609375 34.515625 \nL 43.21875 34.515625 \nL 43.21875 35.40625 \nQ 43.21875 41.609375 39.140625 45 \nQ 35.0625 48.390625 27.6875 48.390625 \nQ 23 48.390625 18.546875 47.265625 \nQ 14.109375 46.140625 10.015625 43.890625 \nL 10.015625 52.203125 \nQ 14.9375 54.109375 19.578125 55.046875 \nQ 24.21875 56 28.609375 56 \nQ 40.484375 56 46.34375 49.84375 \nQ 52.203125 43.703125 52.203125 31.203125 \nz\n\" id=\"DejaVuSans-97\"/>\n     <path d=\"M 18.3125 70.21875 \nL 18.3125 54.6875 \nL 36.8125 54.6875 \nL 36.8125 47.703125 \nL 18.3125 47.703125 \nL 18.3125 18.015625 \nQ 18.3125 11.328125 20.140625 9.421875 \nQ 21.96875 7.515625 27.59375 7.515625 \nL 36.8125 7.515625 \nL 36.8125 0 \nL 27.59375 0 \nQ 17.1875 0 13.234375 3.875 \nQ 9.28125 7.765625 9.28125 18.015625 \nL 9.28125 47.703125 \nL 2.6875 47.703125 \nL 2.6875 54.6875 \nL 9.28125 54.6875 \nL 9.28125 70.21875 \nz\n\" id=\"DejaVuSans-116\"/>\n     <path d=\"M 44.28125 53.078125 \nL 44.28125 44.578125 \nQ 40.484375 46.53125 36.375 47.5 \nQ 32.28125 48.484375 27.875 48.484375 \nQ 21.1875 48.484375 17.84375 46.4375 \nQ 14.5 44.390625 14.5 40.28125 \nQ 14.5 37.15625 16.890625 35.375 \nQ 19.28125 33.59375 26.515625 31.984375 \nL 29.59375 31.296875 \nQ 39.15625 29.25 43.1875 25.515625 \nQ 47.21875 21.78125 47.21875 15.09375 \nQ 47.21875 7.46875 41.1875 3.015625 \nQ 35.15625 -1.421875 24.609375 -1.421875 \nQ 20.21875 -1.421875 15.453125 -0.5625 \nQ 10.6875 0.296875 5.421875 2 \nL 5.421875 11.28125 \nQ 10.40625 8.6875 15.234375 7.390625 \nQ 20.0625 6.109375 24.8125 6.109375 \nQ 31.15625 6.109375 34.5625 8.28125 \nQ 37.984375 10.453125 37.984375 14.40625 \nQ 37.984375 18.0625 35.515625 20.015625 \nQ 33.0625 21.96875 24.703125 23.78125 \nL 21.578125 24.515625 \nQ 13.234375 26.265625 9.515625 29.90625 \nQ 5.8125 33.546875 5.8125 39.890625 \nQ 5.8125 47.609375 11.28125 51.796875 \nQ 16.75 56 26.8125 56 \nQ 31.78125 56 36.171875 55.265625 \nQ 40.578125 54.546875 44.28125 53.078125 \nz\n\" id=\"DejaVuSans-115\"/>\n     <path d=\"M 56.203125 29.59375 \nL 56.203125 25.203125 \nL 14.890625 25.203125 \nQ 15.484375 15.921875 20.484375 11.0625 \nQ 25.484375 6.203125 34.421875 6.203125 \nQ 39.59375 6.203125 44.453125 7.46875 \nQ 49.3125 8.734375 54.109375 11.28125 \nL 54.109375 2.78125 \nQ 49.265625 0.734375 44.1875 -0.34375 \nQ 39.109375 -1.421875 33.890625 -1.421875 \nQ 20.796875 -1.421875 13.15625 6.1875 \nQ 5.515625 13.8125 5.515625 26.8125 \nQ 5.515625 40.234375 12.765625 48.109375 \nQ 20.015625 56 32.328125 56 \nQ 43.359375 56 49.78125 48.890625 \nQ 56.203125 41.796875 56.203125 29.59375 \nz\nM 47.21875 32.234375 \nQ 47.125 39.59375 43.09375 43.984375 \nQ 39.0625 48.390625 32.421875 48.390625 \nQ 24.90625 48.390625 20.390625 44.140625 \nQ 15.875 39.890625 15.1875 32.171875 \nz\n\" id=\"DejaVuSans-101\"/>\n     <path id=\"DejaVuSans-32\"/>\n     <path d=\"M 52 44.1875 \nQ 55.375 50.25 60.0625 53.125 \nQ 64.75 56 71.09375 56 \nQ 79.640625 56 84.28125 50.015625 \nQ 88.921875 44.046875 88.921875 33.015625 \nL 88.921875 0 \nL 79.890625 0 \nL 79.890625 32.71875 \nQ 79.890625 40.578125 77.09375 44.375 \nQ 74.3125 48.1875 68.609375 48.1875 \nQ 61.625 48.1875 57.5625 43.546875 \nQ 53.515625 38.921875 53.515625 30.90625 \nL 53.515625 0 \nL 44.484375 0 \nL 44.484375 32.71875 \nQ 44.484375 40.625 41.703125 44.40625 \nQ 38.921875 48.1875 33.109375 48.1875 \nQ 26.21875 48.1875 22.15625 43.53125 \nQ 18.109375 38.875 18.109375 30.90625 \nL 18.109375 0 \nL 9.078125 0 \nL 9.078125 54.6875 \nL 18.109375 54.6875 \nL 18.109375 46.1875 \nQ 21.1875 51.21875 25.484375 53.609375 \nQ 29.78125 56 35.6875 56 \nQ 41.65625 56 45.828125 52.96875 \nQ 50 49.953125 52 44.1875 \nz\n\" id=\"DejaVuSans-109\"/>\n     <path d=\"M 18.109375 8.203125 \nL 18.109375 -20.796875 \nL 9.078125 -20.796875 \nL 9.078125 54.6875 \nL 18.109375 54.6875 \nL 18.109375 46.390625 \nQ 20.953125 51.265625 25.265625 53.625 \nQ 29.59375 56 35.59375 56 \nQ 45.5625 56 51.78125 48.09375 \nQ 58.015625 40.1875 58.015625 27.296875 \nQ 58.015625 14.40625 51.78125 6.484375 \nQ 45.5625 -1.421875 35.59375 -1.421875 \nQ 29.59375 -1.421875 25.265625 0.953125 \nQ 20.953125 3.328125 18.109375 8.203125 \nz\nM 48.6875 27.296875 \nQ 48.6875 37.203125 44.609375 42.84375 \nQ 40.53125 48.484375 33.40625 48.484375 \nQ 26.265625 48.484375 22.1875 42.84375 \nQ 18.109375 37.203125 18.109375 27.296875 \nQ 18.109375 17.390625 22.1875 11.75 \nQ 26.265625 6.109375 33.40625 6.109375 \nQ 40.53125 6.109375 44.609375 11.75 \nQ 48.6875 17.390625 48.6875 27.296875 \nz\n\" id=\"DejaVuSans-112\"/>\n     <path d=\"M 9.421875 75.984375 \nL 18.40625 75.984375 \nL 18.40625 0 \nL 9.421875 0 \nz\n\" id=\"DejaVuSans-108\"/>\n    </defs>\n    <g style=\"fill:#262626;\" transform=\"translate(120.282031 16.318125)scale(0.12 -0.12)\">\n     <use xlink:href=\"#DejaVuSans-68\"/>\n     <use x=\"77.001953\" xlink:href=\"#DejaVuSans-97\"/>\n     <use x=\"138.28125\" xlink:href=\"#DejaVuSans-116\"/>\n     <use x=\"177.490234\" xlink:href=\"#DejaVuSans-97\"/>\n     <use x=\"238.769531\" xlink:href=\"#DejaVuSans-115\"/>\n     <use x=\"290.869141\" xlink:href=\"#DejaVuSans-101\"/>\n     <use x=\"352.392578\" xlink:href=\"#DejaVuSans-116\"/>\n     <use x=\"391.601562\" xlink:href=\"#DejaVuSans-32\"/>\n     <use x=\"423.388672\" xlink:href=\"#DejaVuSans-115\"/>\n     <use x=\"475.488281\" xlink:href=\"#DejaVuSans-97\"/>\n     <use x=\"536.767578\" xlink:href=\"#DejaVuSans-109\"/>\n     <use x=\"634.179688\" xlink:href=\"#DejaVuSans-112\"/>\n     <use x=\"697.65625\" xlink:href=\"#DejaVuSans-108\"/>\n     <use x=\"725.439453\" xlink:href=\"#DejaVuSans-101\"/>\n     <use x=\"786.962891\" xlink:href=\"#DejaVuSans-115\"/>\n    </g>\n   </g>\n   <g id=\"legend_1\">\n    <g id=\"patch_7\">\n     <path d=\"M 199.891562 148.834063 \nL 274.524844 148.834063 \nQ 276.724844 148.834063 276.724844 146.634063 \nL 276.724844 115.442187 \nQ 276.724844 113.242188 274.524844 113.242188 \nL 199.891562 113.242188 \nQ 197.691562 113.242188 197.691562 115.442187 \nL 197.691562 146.634063 \nQ 197.691562 148.834063 199.891562 148.834063 \nz\n\" style=\"fill:#eaeaf2;opacity:0.8;stroke:#cccccc;stroke-linejoin:miter;\"/>\n    </g>\n    <g id=\"PathCollection_3\">\n     <g>\n      <use style=\"fill:#4c72b0;stroke:#333333;\" x=\"213.091562\" xlink:href=\"#m80e9a62778\" y=\"123.112969\"/>\n     </g>\n    </g>\n    <g id=\"text_15\">\n     <!-- Class 0 -->\n     <defs>\n      <path d=\"M 64.40625 67.28125 \nL 64.40625 56.890625 \nQ 59.421875 61.53125 53.78125 63.8125 \nQ 48.140625 66.109375 41.796875 66.109375 \nQ 29.296875 66.109375 22.65625 58.46875 \nQ 16.015625 50.828125 16.015625 36.375 \nQ 16.015625 21.96875 22.65625 14.328125 \nQ 29.296875 6.6875 41.796875 6.6875 \nQ 48.140625 6.6875 53.78125 8.984375 \nQ 59.421875 11.28125 64.40625 15.921875 \nL 64.40625 5.609375 \nQ 59.234375 2.09375 53.4375 0.328125 \nQ 47.65625 -1.421875 41.21875 -1.421875 \nQ 24.65625 -1.421875 15.125 8.703125 \nQ 5.609375 18.84375 5.609375 36.375 \nQ 5.609375 53.953125 15.125 64.078125 \nQ 24.65625 74.21875 41.21875 74.21875 \nQ 47.75 74.21875 53.53125 72.484375 \nQ 59.328125 70.75 64.40625 67.28125 \nz\n\" id=\"DejaVuSans-67\"/>\n     </defs>\n     <g style=\"fill:#262626;\" transform=\"translate(232.891562 126.000469)scale(0.11 -0.11)\">\n      <use xlink:href=\"#DejaVuSans-67\"/>\n      <use x=\"69.824219\" xlink:href=\"#DejaVuSans-108\"/>\n      <use x=\"97.607422\" xlink:href=\"#DejaVuSans-97\"/>\n      <use x=\"158.886719\" xlink:href=\"#DejaVuSans-115\"/>\n      <use x=\"210.986328\" xlink:href=\"#DejaVuSans-115\"/>\n      <use x=\"263.085938\" xlink:href=\"#DejaVuSans-32\"/>\n      <use x=\"294.873047\" xlink:href=\"#DejaVuSans-48\"/>\n     </g>\n    </g>\n    <g id=\"PathCollection_4\">\n     <g>\n      <use style=\"fill:#dd8452;stroke:#333333;\" x=\"213.091562\" xlink:href=\"#m3a26b9a39a\" y=\"139.258906\"/>\n     </g>\n    </g>\n    <g id=\"text_16\">\n     <!-- Class 1 -->\n     <g style=\"fill:#262626;\" transform=\"translate(232.891562 142.146406)scale(0.11 -0.11)\">\n      <use xlink:href=\"#DejaVuSans-67\"/>\n      <use x=\"69.824219\" xlink:href=\"#DejaVuSans-108\"/>\n      <use x=\"97.607422\" xlink:href=\"#DejaVuSans-97\"/>\n      <use x=\"158.886719\" xlink:href=\"#DejaVuSans-115\"/>\n      <use x=\"210.986328\" xlink:href=\"#DejaVuSans-115\"/>\n      <use x=\"263.085938\" xlink:href=\"#DejaVuSans-32\"/>\n      <use x=\"294.873047\" xlink:href=\"#DejaVuSans-49\"/>\n     </g>\n    </g>\n   </g>\n  </g>\n </g>\n <defs>\n  <clipPath id=\"p07aa7dc918\">\n   <rect height=\"217.44\" width=\"223.2\" x=\"59.024844\" y=\"22.318125\"/>\n  </clipPath>\n </defs>\n</svg>\n",
            "application/pdf": "[encoded data removed]"
          },
          "metadata": {}
        }
      ]
    },
    {
      "cell_type": "code",
      "source": [
        "### Dataloader class\n",
        "data_loader = data.DataLoader(dataset, batch_size=8, shuffle=True)"
      ],
      "metadata": {
        "id": "ijaOY5anlOYf"
      },
      "execution_count": 11,
      "outputs": []
    },
    {
      "cell_type": "code",
      "source": [
        "# next(iter(...)) catches the first batch of the data loader\n",
        "# If shuffle is True, this will return a different batch every time we run this cell\n",
        "# For iterating over the whole dataset, we can simple use \"for batch in data_loader: ...\"\n",
        "data_inputs, data_labels = next(iter(data_loader))\n",
        "\n",
        "# The shape of the outputs are [batch_size, d_1,...,d_N] where d_1,...,d_N are the\n",
        "# dimensions of the data point returned from the dataset class\n",
        "print(\"Data inputs\", data_inputs.shape, \"\\n\", data_inputs)\n",
        "print(\"Data labels\", data_labels.shape, \"\\n\", data_labels)"
      ],
      "metadata": {
        "colab": {
          "base_uri": "https://localhost:8080/"
        },
        "id": "JvdOGlXrlpTc",
        "outputId": "550de1a5-512e-4ac7-9d84-a3eabec078e2"
      },
      "execution_count": 12,
      "outputs": [
        {
          "output_type": "stream",
          "name": "stdout",
          "text": [
            "Data inputs torch.Size([8, 2]) \n",
            " tensor([[ 1.1953,  0.2049],\n",
            "        [-0.1459,  0.8506],\n",
            "        [-0.1253,  0.1119],\n",
            "        [ 0.0531, -0.1361],\n",
            "        [ 0.1345,  0.0127],\n",
            "        [-0.1449,  0.9395],\n",
            "        [ 1.0506,  0.9082],\n",
            "        [ 1.0080,  0.0745]])\n",
            "Data labels torch.Size([8]) \n",
            " tensor([1, 1, 0, 0, 0, 1, 0, 1])\n"
          ]
        }
      ]
    },
    {
      "cell_type": "code",
      "source": [
        "loss_module = nn.BCEWithLogitsLoss()\n",
        "# Input to the optimizer are the parameters of the model: model.parameters()\n",
        "optimizer = torch.optim.SGD(model.parameters(), lr=0.1)\n",
        "                            "
      ],
      "metadata": {
        "id": "ipao3_i1lrdu"
      },
      "execution_count": 13,
      "outputs": []
    },
    {
      "cell_type": "markdown",
      "source": [
        "### Model Training"
      ],
      "metadata": {
        "id": "Py6UkR2sm3yQ"
      }
    },
    {
      "cell_type": "code",
      "source": [
        "train_dataset = XORDataset(size=2500)\n",
        "train_data_loader = data.DataLoader(train_dataset, batch_size=128, shuffle=True)"
      ],
      "metadata": {
        "id": "-QAo0Athmy0W"
      },
      "execution_count": 14,
      "outputs": []
    },
    {
      "cell_type": "code",
      "source": [
        "# Push model to device. Has to be only done once\n",
        "device = torch.device(\"cuda\") if torch.cuda.is_available() else torch.device(\"cpu\")\n",
        "model.to(device)"
      ],
      "metadata": {
        "id": "lSfD_ChPm7S0"
      },
      "execution_count": 16,
      "outputs": []
    },
    {
      "cell_type": "code",
      "source": [
        "def train_model(model, optimizer, data_loader, loss_module, num_epochs=100):\n",
        "    # Set model to train mode\n",
        "    model.train()\n",
        "\n",
        "    # Training loop\n",
        "    for epoch in tqdm(range(num_epochs)):\n",
        "        for data_inputs, data_labels in data_loader:\n",
        "\n",
        "            ## Step 1: Move input data to device (only strictly necessary if we use GPU)\n",
        "            data_inputs = data_inputs.to(device)\n",
        "            data_labels = data_labels.to(device)\n",
        "\n",
        "            ## Step 2: Run the model on the input data\n",
        "            preds = model(data_inputs)\n",
        "            preds = preds.squeeze(dim=1) # Output is [Batch size, 1], but we want [Batch size]\n",
        "\n",
        "            ## Step 3: Calculate the loss\n",
        "            loss = loss_module(preds, data_labels.float())\n",
        "\n",
        "            ## Step 4: Perform backpropagation\n",
        "            # Before calculating the gradients, we need to ensure that they are all zero.\n",
        "            # The gradients would not be overwritten, but actually added to the existing ones.\n",
        "            optimizer.zero_grad()\n",
        "            # Perform backpropagation\n",
        "            loss.backward()\n",
        "\n",
        "            ## Step 5: Update the parameters\n",
        "            optimizer.step()"
      ],
      "metadata": {
        "id": "3mZ9bZZnnDNr"
      },
      "execution_count": 17,
      "outputs": []
    },
    {
      "cell_type": "code",
      "source": [
        "train_model(model, optimizer, train_data_loader, loss_module)"
      ],
      "metadata": {
        "colab": {
          "base_uri": "https://localhost:8080/",
          "height": 49,
          "referenced_widgets": [
            "6f24359ace6a426f8662727d0516db71",
            "0c85d13b14b24275ad7323c458ad9d8a",
            "2548f8ec1e594ec797e1ac37651ee49a",
            "e60f3b4cb8314366bfdbf76292893d3c",
            "01884661680145c892f49d18216930f3",
            "793d62b222704c41a3929de1e3e3ed83",
            "db228d968c334f40aa916e95d9478b80",
            "55717652f9ae4a47bc7a6e6b45a17409",
            "7eebdc37b8c24704a3f12ee4808817ed",
            "af5eda543aa6409cb92f8e287bff2107",
            "c3f4410b4b6f491f97ba97dfc1ad9376"
          ]
        },
        "id": "_2arv2xmnP-D",
        "outputId": "1c9a9aa3-d3af-4fce-e5f1-714949b13c08"
      },
      "execution_count": 18,
      "outputs": [
        {
          "output_type": "display_data",
          "data": {
            "text/plain": [
              "  0%|          | 0/100 [00:00<?, ?it/s]"
            ],
            "application/vnd.jupyter.widget-view+json": {
              "version_major": 2,
              "version_minor": 0,
              "model_id": "6f24359ace6a426f8662727d0516db71"
            }
          },
          "metadata": {}
        }
      ]
    },
    {
      "cell_type": "code",
      "source": [
        "state_dict = model.state_dict()\n",
        "print(state_dict)"
      ],
      "metadata": {
        "colab": {
          "base_uri": "https://localhost:8080/"
        },
        "id": "UKwez2M_nSHK",
        "outputId": "ce04d16b-d553-44d8-d818-bcfff2565918"
      },
      "execution_count": 19,
      "outputs": [
        {
          "output_type": "stream",
          "name": "stdout",
          "text": [
            "OrderedDict([('linear1.weight', tensor([[ 2.2680,  2.2159],\n",
            "        [-3.4127,  2.4905],\n",
            "        [-0.2947, -0.1366],\n",
            "        [-2.2528,  3.2508]])), ('linear1.bias', tensor([-0.4080, -0.9470,  0.7039,  0.8016])), ('linear2.weight', tensor([[ 3.2733,  4.3679,  0.5540, -4.3394]])), ('linear2.bias', tensor([1.0851]))])\n"
          ]
        }
      ]
    },
    {
      "cell_type": "code",
      "source": [
        "# torch.save(object, filename). For the filename, any extension can be used\n",
        "torch.save(state_dict, \"our_model.tar\")"
      ],
      "metadata": {
        "id": "E7ybg73SnXmM"
      },
      "execution_count": 20,
      "outputs": []
    },
    {
      "cell_type": "code",
      "source": [
        "# Load state dict from the disk (make sure it is the same name as above)\n",
        "state_dict = torch.load(\"our_model.tar\")\n",
        "\n",
        "# Create a new model and load the state\n",
        "new_model = Classifier(num_inputs=2, num_hidden=4, num_outputs=1)\n",
        "new_model.load_state_dict(state_dict)\n",
        "\n",
        "# Verify that the parameters are the same\n",
        "print(\"Original model\\n\", model.state_dict())\n",
        "print(\"\\nLoaded model\\n\", new_model.state_dict())"
      ],
      "metadata": {
        "colab": {
          "base_uri": "https://localhost:8080/"
        },
        "id": "Yob-oNi5natc",
        "outputId": "9c6d1b0b-9891-4a71-c7ec-9785463b55c4"
      },
      "execution_count": 22,
      "outputs": [
        {
          "output_type": "stream",
          "name": "stdout",
          "text": [
            "Original model\n",
            " OrderedDict([('linear1.weight', tensor([[ 2.2680,  2.2159],\n",
            "        [-3.4127,  2.4905],\n",
            "        [-0.2947, -0.1366],\n",
            "        [-2.2528,  3.2508]])), ('linear1.bias', tensor([-0.4080, -0.9470,  0.7039,  0.8016])), ('linear2.weight', tensor([[ 3.2733,  4.3679,  0.5540, -4.3394]])), ('linear2.bias', tensor([1.0851]))])\n",
            "\n",
            "Loaded model\n",
            " OrderedDict([('linear1.weight', tensor([[ 2.2680,  2.2159],\n",
            "        [-3.4127,  2.4905],\n",
            "        [-0.2947, -0.1366],\n",
            "        [-2.2528,  3.2508]])), ('linear1.bias', tensor([-0.4080, -0.9470,  0.7039,  0.8016])), ('linear2.weight', tensor([[ 3.2733,  4.3679,  0.5540, -4.3394]])), ('linear2.bias', tensor([1.0851]))])\n"
          ]
        }
      ]
    },
    {
      "cell_type": "code",
      "source": [
        "test_dataset = XORDataset(size=500)\n",
        "# drop_last -> Don't drop the last batch although it is smaller than 128\n",
        "test_data_loader = data.DataLoader(test_dataset, batch_size=128, shuffle=False, drop_last=False)"
      ],
      "metadata": {
        "id": "AGHjU8vwnd0o"
      },
      "execution_count": 23,
      "outputs": []
    },
    {
      "cell_type": "code",
      "source": [
        "def eval_model(model, data_loader):\n",
        "    model.eval() # Set model to eval mode\n",
        "    true_preds, num_preds = 0., 0.\n",
        "\n",
        "    with torch.no_grad(): # Deactivate gradients for the following code\n",
        "        for data_inputs, data_labels in data_loader:\n",
        "\n",
        "            # Determine prediction of model on dev set\n",
        "            data_inputs, data_labels = data_inputs.to(device), data_labels.to(device)\n",
        "            preds = model(data_inputs)\n",
        "            preds = preds.squeeze(dim=1)\n",
        "            preds = torch.sigmoid(preds) # Sigmoid to map predictions between 0 and 1\n",
        "            pred_labels = (preds >= 0.5).long() # Binarize predictions to 0 and 1\n",
        "\n",
        "            # Keep records of predictions for the accuracy metric (true_preds=TP+TN, num_preds=TP+TN+FP+FN)\n",
        "            true_preds += (pred_labels == data_labels).sum()\n",
        "            num_preds += data_labels.shape[0]\n",
        "\n",
        "    acc = true_preds / num_preds\n",
        "    print(f\"Accuracy of the model: {100.0*acc:4.2f}%\")"
      ],
      "metadata": {
        "id": "J_LiLve0njZ_"
      },
      "execution_count": 24,
      "outputs": []
    },
    {
      "cell_type": "code",
      "source": [
        "eval_model(model, test_data_loader)"
      ],
      "metadata": {
        "colab": {
          "base_uri": "https://localhost:8080/"
        },
        "id": "-CH2fCidnn5u",
        "outputId": "e75c8981-53f7-449b-f254-28e71bea041d"
      },
      "execution_count": 25,
      "outputs": [
        {
          "output_type": "stream",
          "name": "stdout",
          "text": [
            "Accuracy of the model: 100.00%\n"
          ]
        }
      ]
    },
    {
      "cell_type": "code",
      "source": [],
      "metadata": {
        "id": "HuNYWvz7ntlq"
      },
      "execution_count": null,
      "outputs": []
    }
  ]
}