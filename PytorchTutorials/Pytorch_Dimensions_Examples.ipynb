{
  "nbformat": 4,
  "nbformat_minor": 0,
  "metadata": {
    "colab": {
      "provenance": [],
      "authorship_tag": "ABX9TyMhArhUe3lv89kGCUsb3XYY"
    },
    "kernelspec": {
      "name": "python3",
      "display_name": "Python 3"
    },
    "language_info": {
      "name": "python"
    }
  },
  "cells": [
    {
      "cell_type": "code",
      "execution_count": 1,
      "metadata": {
        "colab": {
          "base_uri": "https://localhost:8080/"
        },
        "id": "s4Ng-Zbdjk1D",
        "outputId": "75cdf5ca-d53c-492d-cb67-ecd1dfdd1c81"
      },
      "outputs": [
        {
          "output_type": "stream",
          "name": "stdout",
          "text": [
            "1D Tensor: tensor([1, 2, 3, 4, 5, 6])\n",
            "Shape of 1D Tensor: torch.Size([6])\n",
            "\n",
            "2D Tensor (Column Vector): tensor([[1],\n",
            "        [2],\n",
            "        [3],\n",
            "        [4],\n",
            "        [5],\n",
            "        [6]])\n",
            "Shape of 2D Tensor: torch.Size([6, 1])\n"
          ]
        }
      ],
      "source": [
        "### Working with Ravel Function\n",
        "import torch\n",
        "\n",
        "# 1D Tensor\n",
        "tensor_1d = torch.tensor([1, 2, 3, 4, 5, 6])\n",
        "print(\"1D Tensor:\", tensor_1d)\n",
        "print(\"Shape of 1D Tensor:\", tensor_1d.shape)\n",
        "\n",
        "# 2D Tensor (Column Vector)\n",
        "tensor_2d = torch.tensor([[1], [2], [3], [4], [5], [6]])\n",
        "print(\"\\n2D Tensor (Column Vector):\", tensor_2d)\n",
        "print(\"Shape of 2D Tensor:\", tensor_2d.shape)\n"
      ]
    },
    {
      "cell_type": "code",
      "source": [
        "### Basic Operation using tensor\n",
        "a = torch.tensor([2, 2])\n",
        "b = torch.tensor([3, 3])\n",
        "\n",
        "# Element-wise addition\n",
        "c = a + b\n",
        "\n",
        "# Element-wise multiplication\n",
        "d = a * b\n",
        "print(c)\n",
        "print(d)"
      ],
      "metadata": {
        "colab": {
          "base_uri": "https://localhost:8080/"
        },
        "id": "CWSDkhOejyIx",
        "outputId": "546a3545-7fee-4d85-aa8c-ae262c4cbfe2"
      },
      "execution_count": 2,
      "outputs": [
        {
          "output_type": "stream",
          "name": "stdout",
          "text": [
            "tensor([5, 5])\n",
            "tensor([6, 6])\n"
          ]
        }
      ]
    },
    {
      "cell_type": "code",
      "source": [
        "### Reshaping a tensor\n",
        "tensor = torch.rand(4, 4)\n",
        "\n",
        "# Reshape to 2x8 tensor\n",
        "reshaped_tensor = tensor.view(2, 8)\n",
        "print(\"Original Tensor \",tensor)\n",
        "print(\"Reshaped Tensor \",reshaped_tensor)"
      ],
      "metadata": {
        "colab": {
          "base_uri": "https://localhost:8080/"
        },
        "id": "3C4GokBHj9P8",
        "outputId": "b979d838-52c7-4281-c6b3-1830be93a418"
      },
      "execution_count": 3,
      "outputs": [
        {
          "output_type": "stream",
          "name": "stdout",
          "text": [
            "Original Tensor  tensor([[0.3603, 0.1557, 0.1072, 0.4436],\n",
            "        [0.4583, 0.7442, 0.4945, 0.1902],\n",
            "        [0.8580, 0.5609, 0.7367, 0.6513],\n",
            "        [0.9050, 0.7237, 0.0807, 0.3202]])\n",
            "Reshaped Tensor  tensor([[0.3603, 0.1557, 0.1072, 0.4436, 0.4583, 0.7442, 0.4945, 0.1902],\n",
            "        [0.8580, 0.5609, 0.7367, 0.6513, 0.9050, 0.7237, 0.0807, 0.3202]])\n"
          ]
        }
      ]
    },
    {
      "cell_type": "code",
      "source": [
        "### Sum over a specific dimension\n",
        "import torch\n",
        "\n",
        "# Create a 3x3 tensor\n",
        "x = torch.tensor([[1, 2, 3], [4, 5, 6], [7, 8, 9]])\n",
        "\n",
        "# Sum over columns (dim=0)\n",
        "sum_over_columns = x.sum(dim=0)\n",
        "print(\"Sum over columns:\", sum_over_columns)\n",
        "\n",
        "# Sum over rows (dim=1)\n",
        "sum_over_rows = x.sum(dim=1)\n",
        "print(\"Sum over rows:\", sum_over_rows)\n"
      ],
      "metadata": {
        "colab": {
          "base_uri": "https://localhost:8080/"
        },
        "id": "i9-WBCvkkKo0",
        "outputId": "fef330af-f603-4f5f-b395-f6fab146253a"
      },
      "execution_count": 4,
      "outputs": [
        {
          "output_type": "stream",
          "name": "stdout",
          "text": [
            "Sum over columns: tensor([12, 15, 18])\n",
            "Sum over rows: tensor([ 6, 15, 24])\n"
          ]
        }
      ]
    },
    {
      "cell_type": "code",
      "source": [
        "### Expaning and Permuting Dimensions\n",
        "###Transposing is a common operation to swap two dimensions of a tensor.\n",
        "### Permute is a more general operation that allows you to reorder the dimensions in any way you like.\n",
        "# Create a 2x3x4 tensor\n",
        "y = torch.rand(2, 3, 4)\n",
        "\n",
        "# Transpose the first and second dimension\n",
        "transposed = y.transpose(0, 1)\n",
        "print(\"Shape after transpose:\", transposed.shape)\n",
        "\n",
        "# Permute dimensions\n",
        "permuted = y.permute(2, 0, 1)\n",
        "print(\"Shape after permute:\", permuted.shape)\n"
      ],
      "metadata": {
        "colab": {
          "base_uri": "https://localhost:8080/"
        },
        "id": "eNBzalR7klI2",
        "outputId": "1d27ef11-9768-4183-be30-bde9acc52cf5"
      },
      "execution_count": 5,
      "outputs": [
        {
          "output_type": "stream",
          "name": "stdout",
          "text": [
            "Shape after transpose: torch.Size([3, 2, 4])\n",
            "Shape after permute: torch.Size([4, 2, 3])\n"
          ]
        }
      ]
    },
    {
      "cell_type": "code",
      "source": [
        "###Expanding and Squeezing Dimensions\n",
        "\n",
        "# Create a 2D tensor (3x1)\n",
        "z = torch.tensor([[1], [2], [3]])\n",
        "\n",
        "# Expand the tensor to a 3x4 tensor\n",
        "expanded = z.expand(-1, 4)\n",
        "print(\"Expanded:\", expanded)\n",
        "\n",
        "# Squeeze the tensor to remove dimensions of size 1\n",
        "squeezed = z.squeeze()\n",
        "print(\"Squeezed :\", squeezed)\n"
      ],
      "metadata": {
        "colab": {
          "base_uri": "https://localhost:8080/"
        },
        "id": "uBAQ4tqUkwR7",
        "outputId": "cac1d50d-d589-4a84-d163-56b49d1301ad"
      },
      "execution_count": 11,
      "outputs": [
        {
          "output_type": "stream",
          "name": "stdout",
          "text": [
            "Expanded: tensor([[1, 1, 1, 1],\n",
            "        [2, 2, 2, 2],\n",
            "        [3, 3, 3, 3]])\n",
            "Squeezed : tensor([1, 2, 3])\n"
          ]
        }
      ]
    },
    {
      "cell_type": "code",
      "source": [],
      "metadata": {
        "id": "6cAuiZtvlHtP"
      },
      "execution_count": null,
      "outputs": []
    }
  ]
}